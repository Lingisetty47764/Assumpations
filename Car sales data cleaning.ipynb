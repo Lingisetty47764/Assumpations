{
 "cells": [
  {
   "cell_type": "code",
   "execution_count": 529,
   "id": "ad697f35-e931-4996-9131-ce56d2181003",
   "metadata": {},
   "outputs": [],
   "source": [
    "import pandas as pd\n",
    "import numpy as np\n",
    "import warnings\n",
    "warnings.filterwarnings(\"ignore\")"
   ]
  },
  {
   "cell_type": "code",
   "execution_count": 530,
   "id": "8a179d12-c0ed-45e5-ab5c-183236ed09ab",
   "metadata": {},
   "outputs": [
    {
     "data": {
      "text/html": [
       "<div>\n",
       "<style scoped>\n",
       "    .dataframe tbody tr th:only-of-type {\n",
       "        vertical-align: middle;\n",
       "    }\n",
       "\n",
       "    .dataframe tbody tr th {\n",
       "        vertical-align: top;\n",
       "    }\n",
       "\n",
       "    .dataframe thead th {\n",
       "        text-align: right;\n",
       "    }\n",
       "</style>\n",
       "<table border=\"1\" class=\"dataframe\">\n",
       "  <thead>\n",
       "    <tr style=\"text-align: right;\">\n",
       "      <th></th>\n",
       "      <th>Name</th>\n",
       "      <th>Price</th>\n",
       "      <th>Rating</th>\n",
       "      <th>city</th>\n",
       "      <th>Kilometers</th>\n",
       "      <th>Year_of_Purchase</th>\n",
       "      <th>Owner</th>\n",
       "      <th>Fuel_Type</th>\n",
       "      <th>Transmission</th>\n",
       "      <th>RTO</th>\n",
       "      <th>Insurance</th>\n",
       "      <th>Insurance_Type</th>\n",
       "    </tr>\n",
       "  </thead>\n",
       "  <tbody>\n",
       "    <tr>\n",
       "      <th>0</th>\n",
       "      <td>2010 Maruti Alto LXI</td>\n",
       "      <td>₹ 174,699</td>\n",
       "      <td>4out of 5</td>\n",
       "      <td>3686</td>\n",
       "      <td>Kilometers34,854 km</td>\n",
       "      <td>Year of PurchaseMay 2010</td>\n",
       "      <td>OwnerFirst Owner</td>\n",
       "      <td>FuelPetrol</td>\n",
       "      <td>TransmissionMANUAL</td>\n",
       "      <td>RTOAP09</td>\n",
       "      <td>NaN</td>\n",
       "      <td>Insurance TypeInsurance Expired</td>\n",
       "    </tr>\n",
       "    <tr>\n",
       "      <th>1</th>\n",
       "      <td>2013 Maruti Wagon R 1.0 VXI</td>\n",
       "      <td>₹ 333,999</td>\n",
       "      <td>4.2out of 5</td>\n",
       "      <td>3686</td>\n",
       "      <td>Kilometers39,541 km</td>\n",
       "      <td>Year of PurchaseJuly 2013</td>\n",
       "      <td>OwnerSecond Owner</td>\n",
       "      <td>FuelPetrol</td>\n",
       "      <td>TransmissionMANUAL</td>\n",
       "      <td>RTOAP28</td>\n",
       "      <td>Insurance6/8/2021</td>\n",
       "      <td>Insurance TypeComp</td>\n",
       "    </tr>\n",
       "    <tr>\n",
       "      <th>2</th>\n",
       "      <td>2014 Maruti Wagon R 1.0 VXI</td>\n",
       "      <td>₹ 353,199</td>\n",
       "      <td>4.3out of 5</td>\n",
       "      <td>3686</td>\n",
       "      <td>Kilometers23,233 km</td>\n",
       "      <td>Year of PurchaseMarch 2014</td>\n",
       "      <td>OwnerSecond Owner</td>\n",
       "      <td>FuelPetrol</td>\n",
       "      <td>TransmissionMANUAL</td>\n",
       "      <td>RTOAP28</td>\n",
       "      <td>Insurance28/4/2021</td>\n",
       "      <td>Insurance TypeComp</td>\n",
       "    </tr>\n",
       "    <tr>\n",
       "      <th>3</th>\n",
       "      <td>2013 Hyundai Eon D LITE PLUS</td>\n",
       "      <td>₹ 237,899</td>\n",
       "      <td>4.4out of 5</td>\n",
       "      <td>3686</td>\n",
       "      <td>Kilometers27,748 km</td>\n",
       "      <td>Year of PurchaseNovember 2013</td>\n",
       "      <td>OwnerFirst Owner</td>\n",
       "      <td>FuelPetrol</td>\n",
       "      <td>TransmissionMANUAL</td>\n",
       "      <td>RTOAP13</td>\n",
       "      <td>Insurance1/1/2022</td>\n",
       "      <td>Insurance TypeComp</td>\n",
       "    </tr>\n",
       "    <tr>\n",
       "      <th>4</th>\n",
       "      <td>2017 Hyundai Eon ERA PLUS</td>\n",
       "      <td>₹ 300,699</td>\n",
       "      <td>4.4out of 5</td>\n",
       "      <td>3686</td>\n",
       "      <td>Kilometers12,238 km</td>\n",
       "      <td>Year of PurchaseAugust 2017</td>\n",
       "      <td>OwnerSecond Owner</td>\n",
       "      <td>FuelPetrol</td>\n",
       "      <td>TransmissionMANUAL</td>\n",
       "      <td>RTOTS10</td>\n",
       "      <td>NaN</td>\n",
       "      <td>Insurance TypeExpired</td>\n",
       "    </tr>\n",
       "  </tbody>\n",
       "</table>\n",
       "</div>"
      ],
      "text/plain": [
       "                           Name      Price       Rating  city  \\\n",
       "0          2010 Maruti Alto LXI  ₹ 174,699    4out of 5  3686   \n",
       "1   2013 Maruti Wagon R 1.0 VXI  ₹ 333,999  4.2out of 5  3686   \n",
       "2   2014 Maruti Wagon R 1.0 VXI  ₹ 353,199  4.3out of 5  3686   \n",
       "3  2013 Hyundai Eon D LITE PLUS  ₹ 237,899  4.4out of 5  3686   \n",
       "4     2017 Hyundai Eon ERA PLUS  ₹ 300,699  4.4out of 5  3686   \n",
       "\n",
       "            Kilometers               Year_of_Purchase              Owner  \\\n",
       "0  Kilometers34,854 km       Year of PurchaseMay 2010   OwnerFirst Owner   \n",
       "1  Kilometers39,541 km      Year of PurchaseJuly 2013  OwnerSecond Owner   \n",
       "2  Kilometers23,233 km     Year of PurchaseMarch 2014  OwnerSecond Owner   \n",
       "3  Kilometers27,748 km  Year of PurchaseNovember 2013   OwnerFirst Owner   \n",
       "4  Kilometers12,238 km    Year of PurchaseAugust 2017  OwnerSecond Owner   \n",
       "\n",
       "    Fuel_Type        Transmission      RTO           Insurance  \\\n",
       "0  FuelPetrol  TransmissionMANUAL  RTOAP09                 NaN   \n",
       "1  FuelPetrol  TransmissionMANUAL  RTOAP28   Insurance6/8/2021   \n",
       "2  FuelPetrol  TransmissionMANUAL  RTOAP28  Insurance28/4/2021   \n",
       "3  FuelPetrol  TransmissionMANUAL  RTOAP13   Insurance1/1/2022   \n",
       "4  FuelPetrol  TransmissionMANUAL  RTOTS10                 NaN   \n",
       "\n",
       "                    Insurance_Type  \n",
       "0  Insurance TypeInsurance Expired  \n",
       "1               Insurance TypeComp  \n",
       "2               Insurance TypeComp  \n",
       "3               Insurance TypeComp  \n",
       "4            Insurance TypeExpired  "
      ]
     },
     "execution_count": 530,
     "metadata": {},
     "output_type": "execute_result"
    }
   ],
   "source": [
    "df = pd.read_excel(\"cars_data.xlsx\")\n",
    "df.head()"
   ]
  },
  {
   "cell_type": "markdown",
   "id": "17200971-dcca-443f-9574-3bc9b6dded27",
   "metadata": {},
   "source": [
    "# data understanding"
   ]
  },
  {
   "cell_type": "code",
   "execution_count": 531,
   "id": "dfa2ddd0-9659-413c-9ce9-d048e62c9502",
   "metadata": {},
   "outputs": [
    {
     "data": {
      "text/plain": [
       "Index(['Name', 'Price', 'Rating', 'city', 'Kilometers', 'Year_of_Purchase',\n",
       "       'Owner', 'Fuel_Type', 'Transmission', 'RTO', 'Insurance',\n",
       "       'Insurance_Type'],\n",
       "      dtype='object')"
      ]
     },
     "execution_count": 531,
     "metadata": {},
     "output_type": "execute_result"
    }
   ],
   "source": [
    "df.columns"
   ]
  },
  {
   "cell_type": "code",
   "execution_count": 532,
   "id": "e73bc389-ed90-42e8-afd0-ead9470a0270",
   "metadata": {},
   "outputs": [
    {
     "name": "stdout",
     "output_type": "stream",
     "text": [
      "<class 'pandas.core.frame.DataFrame'>\n",
      "RangeIndex: 32158 entries, 0 to 32157\n",
      "Data columns (total 12 columns):\n",
      " #   Column            Non-Null Count  Dtype \n",
      "---  ------            --------------  ----- \n",
      " 0   Name              32158 non-null  object\n",
      " 1   Price             32158 non-null  object\n",
      " 2   Rating            32158 non-null  object\n",
      " 3   city              32158 non-null  int64 \n",
      " 4   Kilometers        32158 non-null  object\n",
      " 5   Year_of_Purchase  32158 non-null  object\n",
      " 6   Owner             32158 non-null  object\n",
      " 7   Fuel_Type         32158 non-null  object\n",
      " 8   Transmission      29342 non-null  object\n",
      " 9   RTO               32158 non-null  object\n",
      " 10  Insurance         22965 non-null  object\n",
      " 11  Insurance_Type    32158 non-null  object\n",
      "dtypes: int64(1), object(11)\n",
      "memory usage: 2.9+ MB\n"
     ]
    }
   ],
   "source": [
    "df.info()"
   ]
  },
  {
   "cell_type": "code",
   "execution_count": 533,
   "id": "fe0dc383-5a94-462a-831e-8447e0c0afad",
   "metadata": {},
   "outputs": [
    {
     "data": {
      "text/html": [
       "<div>\n",
       "<style scoped>\n",
       "    .dataframe tbody tr th:only-of-type {\n",
       "        vertical-align: middle;\n",
       "    }\n",
       "\n",
       "    .dataframe tbody tr th {\n",
       "        vertical-align: top;\n",
       "    }\n",
       "\n",
       "    .dataframe thead th {\n",
       "        text-align: right;\n",
       "    }\n",
       "</style>\n",
       "<table border=\"1\" class=\"dataframe\">\n",
       "  <thead>\n",
       "    <tr style=\"text-align: right;\">\n",
       "      <th></th>\n",
       "      <th>city</th>\n",
       "    </tr>\n",
       "  </thead>\n",
       "  <tbody>\n",
       "    <tr>\n",
       "      <th>count</th>\n",
       "      <td>32158.000000</td>\n",
       "    </tr>\n",
       "    <tr>\n",
       "      <th>mean</th>\n",
       "      <td>2883.844207</td>\n",
       "    </tr>\n",
       "    <tr>\n",
       "      <th>std</th>\n",
       "      <td>1569.462476</td>\n",
       "    </tr>\n",
       "    <tr>\n",
       "      <th>min</th>\n",
       "      <td>290.000000</td>\n",
       "    </tr>\n",
       "    <tr>\n",
       "      <th>25%</th>\n",
       "      <td>1692.000000</td>\n",
       "    </tr>\n",
       "    <tr>\n",
       "      <th>50%</th>\n",
       "      <td>2423.000000</td>\n",
       "    </tr>\n",
       "    <tr>\n",
       "      <th>75%</th>\n",
       "      <td>4709.000000</td>\n",
       "    </tr>\n",
       "    <tr>\n",
       "      <th>max</th>\n",
       "      <td>5732.000000</td>\n",
       "    </tr>\n",
       "  </tbody>\n",
       "</table>\n",
       "</div>"
      ],
      "text/plain": [
       "               city\n",
       "count  32158.000000\n",
       "mean    2883.844207\n",
       "std     1569.462476\n",
       "min      290.000000\n",
       "25%     1692.000000\n",
       "50%     2423.000000\n",
       "75%     4709.000000\n",
       "max     5732.000000"
      ]
     },
     "execution_count": 533,
     "metadata": {},
     "output_type": "execute_result"
    }
   ],
   "source": [
    "df.describe()"
   ]
  },
  {
   "cell_type": "code",
   "execution_count": 534,
   "id": "683131a6-f647-4130-8081-64b5127d8aa8",
   "metadata": {},
   "outputs": [
    {
     "data": {
      "text/plain": [
       "Name                object\n",
       "Price               object\n",
       "Rating              object\n",
       "city                 int64\n",
       "Kilometers          object\n",
       "Year_of_Purchase    object\n",
       "Owner               object\n",
       "Fuel_Type           object\n",
       "Transmission        object\n",
       "RTO                 object\n",
       "Insurance           object\n",
       "Insurance_Type      object\n",
       "dtype: object"
      ]
     },
     "execution_count": 534,
     "metadata": {},
     "output_type": "execute_result"
    }
   ],
   "source": [
    "df.dtypes"
   ]
  },
  {
   "cell_type": "code",
   "execution_count": 535,
   "id": "fc1383d0-b95a-43e6-8b24-d85857f3f624",
   "metadata": {},
   "outputs": [
    {
     "data": {
      "text/plain": [
       "(32158, 12)"
      ]
     },
     "execution_count": 535,
     "metadata": {},
     "output_type": "execute_result"
    }
   ],
   "source": [
    "df.shape"
   ]
  },
  {
   "cell_type": "code",
   "execution_count": 536,
   "id": "de48a90c-0a04-4b75-b41b-b839cbdc4323",
   "metadata": {},
   "outputs": [
    {
     "data": {
      "text/plain": [
       "385896"
      ]
     },
     "execution_count": 536,
     "metadata": {},
     "output_type": "execute_result"
    }
   ],
   "source": [
    "df.size"
   ]
  },
  {
   "cell_type": "code",
   "execution_count": 537,
   "id": "48d0c598-ed3d-422a-b313-ce0cee4c44e8",
   "metadata": {},
   "outputs": [
    {
     "data": {
      "text/plain": [
       "Name\n",
       "2012 Mahindra XUV500 W8 FWD              105\n",
       "2009 Maruti Alto LXI                      89\n",
       "2012 Maruti Swift VDI                     88\n",
       "2013 Maruti Swift VDI                     76\n",
       "2007 Maruti Alto LXI                      75\n",
       "                                        ... \n",
       "2018 Mahindra XUV500 W11 MT(O) AWD         1\n",
       "2009 Honda City ZX GXI                     1\n",
       "2012 Mahindra Maxximo 7 Seater             1\n",
       "2012 Skoda Rapid AMBITION 1.6 MPFI AT      1\n",
       "2007 Mercedes Benz C Class 220 CDI AT      1\n",
       "Name: count, Length: 6885, dtype: int64"
      ]
     },
     "execution_count": 537,
     "metadata": {},
     "output_type": "execute_result"
    }
   ],
   "source": [
    "df[\"Name\"].value_counts()"
   ]
  },
  {
   "cell_type": "code",
   "execution_count": 538,
   "id": "4091be48-b880-4aa9-b821-23388b6eb9c3",
   "metadata": {},
   "outputs": [
    {
     "data": {
      "text/plain": [
       "6885"
      ]
     },
     "execution_count": 538,
     "metadata": {},
     "output_type": "execute_result"
    }
   ],
   "source": [
    "df[\"Name\"].nunique()"
   ]
  },
  {
   "cell_type": "code",
   "execution_count": 539,
   "id": "c95b5d9a-f092-4669-9c23-d74a497c7fbe",
   "metadata": {},
   "outputs": [
    {
     "data": {
      "text/plain": [
       "Price\n",
       "₹ 300,000      731\n",
       "₹ 250,000      698\n",
       "₹ 350,000      683\n",
       "₹ 400,000      668\n",
       "₹ 200,000      603\n",
       "              ... \n",
       "₹ 1,714,750      1\n",
       "₹ 2,812,000      1\n",
       "₹ 300,104        1\n",
       "₹ 1,348,000      1\n",
       "₹ 96,500         1\n",
       "Name: count, Length: 4822, dtype: int64"
      ]
     },
     "execution_count": 539,
     "metadata": {},
     "output_type": "execute_result"
    }
   ],
   "source": [
    "df[\"Price\"].value_counts()"
   ]
  },
  {
   "cell_type": "code",
   "execution_count": 540,
   "id": "b39c211e-487f-4c39-9919-f5a8b78e07eb",
   "metadata": {},
   "outputs": [
    {
     "data": {
      "text/plain": [
       "array(['₹ 174,699', '₹ 333,999', '₹ 353,199', ..., '₹ 1,094,733',\n",
       "       '₹ 496,000', '₹ 96,500'], dtype=object)"
      ]
     },
     "execution_count": 540,
     "metadata": {},
     "output_type": "execute_result"
    }
   ],
   "source": [
    "df[\"Price\"].unique()"
   ]
  },
  {
   "cell_type": "code",
   "execution_count": 541,
   "id": "be2813ab-f139-46f9-a295-ecc84350406d",
   "metadata": {},
   "outputs": [
    {
     "data": {
      "text/plain": [
       "Rating\n",
       "4.2out of 5    3050\n",
       "4out of 5      2846\n",
       "4.1out of 5    2833\n",
       "4.3out of 5    2775\n",
       "3.9out of 5    2431\n",
       "3.8out of 5    2131\n",
       "4.4out of 5    1938\n",
       "3.7out of 5    1857\n",
       "4.5out of 5    1640\n",
       "4.6out of 5    1556\n",
       "3.6out of 5    1356\n",
       "4.7out of 5    1275\n",
       "4.8out of 5    1206\n",
       "4.9out of 5    1176\n",
       "3.5out of 5    1037\n",
       "3.4out of 5     705\n",
       "1out of 5       639\n",
       "3.3out of 5     457\n",
       "3.2out of 5     340\n",
       "5out of 5       262\n",
       "3.1out of 5     215\n",
       "3out of 5       165\n",
       "2.9out of 5      95\n",
       "2.8out of 5      72\n",
       "2.7out of 5      35\n",
       "2.6out of 5      26\n",
       "2.5out of 5      10\n",
       "2.4out of 5       9\n",
       "2out of 5         6\n",
       "2.2out of 5       3\n",
       "1.9out of 5       2\n",
       "0.9out of 5       2\n",
       "2.3out of 5       2\n",
       "1.1out of 5       2\n",
       "1.7out of 5       1\n",
       "1.5out of 5       1\n",
       "0.5out of 5       1\n",
       "2.1out of 5       1\n",
       "Name: count, dtype: int64"
      ]
     },
     "execution_count": 541,
     "metadata": {},
     "output_type": "execute_result"
    }
   ],
   "source": [
    "df[\"Rating\"].value_counts()"
   ]
  },
  {
   "cell_type": "code",
   "execution_count": 542,
   "id": "9dc4ba78-3860-4855-b61f-675fc71b8f09",
   "metadata": {},
   "outputs": [
    {
     "data": {
      "text/plain": [
       "array(['4out of 5', '4.2out of 5', '4.3out of 5', '4.4out of 5',\n",
       "       '3.9out of 5', '4.7out of 5', '4.6out of 5', '4.5out of 5',\n",
       "       '4.9out of 5', '4.1out of 5', '4.8out of 5', '3.8out of 5',\n",
       "       '3.7out of 5', '3.6out of 5', '3.5out of 5', '3.3out of 5',\n",
       "       '3.4out of 5', '3.2out of 5', '3.1out of 5', '2.8out of 5',\n",
       "       '3out of 5', '2.9out of 5', '5out of 5', '2.5out of 5',\n",
       "       '2.6out of 5', '1out of 5', '2.4out of 5', '2.7out of 5',\n",
       "       '2.2out of 5', '1.9out of 5', '2out of 5', '1.7out of 5',\n",
       "       '0.9out of 5', '2.3out of 5', '1.5out of 5', '0.5out of 5',\n",
       "       '1.1out of 5', '2.1out of 5'], dtype=object)"
      ]
     },
     "execution_count": 542,
     "metadata": {},
     "output_type": "execute_result"
    }
   ],
   "source": [
    "df[\"Rating\"].unique()"
   ]
  },
  {
   "cell_type": "code",
   "execution_count": 543,
   "id": "5d551529-e3e6-4c31-939d-348272ba43d9",
   "metadata": {},
   "outputs": [
    {
     "data": {
      "text/plain": [
       "city\n",
       "3686    5311\n",
       "4709    5292\n",
       "1692    3847\n",
       "2423    3796\n",
       "2378    3730\n",
       "5732    2761\n",
       "2130    2151\n",
       "769     2106\n",
       "290     1684\n",
       "777     1480\n",
       "Name: count, dtype: int64"
      ]
     },
     "execution_count": 543,
     "metadata": {},
     "output_type": "execute_result"
    }
   ],
   "source": [
    "df[\"city\"].value_counts()"
   ]
  },
  {
   "cell_type": "code",
   "execution_count": 544,
   "id": "e079f12d-9300-43cf-aaed-ff06a51f6f28",
   "metadata": {},
   "outputs": [
    {
     "data": {
      "text/plain": [
       "0        3686\n",
       "1        3686\n",
       "2        3686\n",
       "3        3686\n",
       "4        3686\n",
       "         ... \n",
       "32153     769\n",
       "32154     769\n",
       "32155     769\n",
       "32156     769\n",
       "32157     769\n",
       "Name: city, Length: 32158, dtype: int64"
      ]
     },
     "execution_count": 544,
     "metadata": {},
     "output_type": "execute_result"
    }
   ],
   "source": [
    "df[\"city\"]"
   ]
  },
  {
   "cell_type": "code",
   "execution_count": 545,
   "id": "ee1b3a45-a336-4795-8b64-861ee1419c08",
   "metadata": {},
   "outputs": [
    {
     "data": {
      "text/plain": [
       "array([3686, 5732, 4709,  777, 2423, 2378,  290, 1692, 2130,  769],\n",
       "      dtype=int64)"
      ]
     },
     "execution_count": 545,
     "metadata": {},
     "output_type": "execute_result"
    }
   ],
   "source": [
    "df[\"city\"].unique()"
   ]
  },
  {
   "cell_type": "code",
   "execution_count": 546,
   "id": "8168f758-4e81-4d91-84f3-baa1cfb6d281",
   "metadata": {},
   "outputs": [
    {
     "data": {
      "text/plain": [
       "Kilometers\n",
       "Kilometers100,000 km    39\n",
       "Kilometers1 km          26\n",
       "Kilometers90,000 km      7\n",
       "Kilometers80,000 km      7\n",
       "Kilometers50,000 km      7\n",
       "                        ..\n",
       "Kilometers31,302 km      1\n",
       "Kilometers16,463 km      1\n",
       "Kilometers47,462 km      1\n",
       "Kilometers42,626 km      1\n",
       "Kilometers88,818 km      1\n",
       "Name: count, Length: 29089, dtype: int64"
      ]
     },
     "execution_count": 546,
     "metadata": {},
     "output_type": "execute_result"
    }
   ],
   "source": [
    "df[\"Kilometers\"].value_counts()"
   ]
  },
  {
   "cell_type": "code",
   "execution_count": 547,
   "id": "767e2006-8bd7-4015-881f-fd57862640ec",
   "metadata": {},
   "outputs": [
    {
     "data": {
      "text/plain": [
       "29089"
      ]
     },
     "execution_count": 547,
     "metadata": {},
     "output_type": "execute_result"
    }
   ],
   "source": [
    "df[\"Kilometers\"].nunique()"
   ]
  },
  {
   "cell_type": "code",
   "execution_count": 548,
   "id": "fa22ffb8-ae8a-496c-9ac9-e733736dfc17",
   "metadata": {},
   "outputs": [
    {
     "data": {
      "text/plain": [
       "Year_of_Purchase\n",
       "Year of PurchaseJanuary 2012     536\n",
       "Year of PurchaseJanuary 2013     530\n",
       "Year of PurchaseJanuary 2011     508\n",
       "Year of PurchaseJanuary 2015     488\n",
       "Year of PurchaseJanuary 2014     469\n",
       "                                ... \n",
       "Year of PurchaseMay 1996           1\n",
       "Year of PurchaseApril 1993         1\n",
       "Year of PurchaseMarch 1989         1\n",
       "Year of PurchaseJune 1996          1\n",
       "Year of PurchaseDecember 1992      1\n",
       "Name: count, Length: 343, dtype: int64"
      ]
     },
     "execution_count": 548,
     "metadata": {},
     "output_type": "execute_result"
    }
   ],
   "source": [
    "df[\"Year_of_Purchase\"].value_counts()"
   ]
  },
  {
   "cell_type": "code",
   "execution_count": 549,
   "id": "2824fba9-9e2f-4789-95e6-50e53801e118",
   "metadata": {},
   "outputs": [
    {
     "data": {
      "text/plain": [
       "array(['Year of PurchaseMay 2010', 'Year of PurchaseJuly 2013',\n",
       "       'Year of PurchaseMarch 2014', 'Year of PurchaseNovember 2013',\n",
       "       'Year of PurchaseAugust 2017', 'Year of PurchaseFebruary 2013',\n",
       "       'Year of PurchaseOctober 2008', 'Year of PurchaseSeptember 2012',\n",
       "       'Year of PurchaseApril 2017', 'Year of PurchaseJuly 2017',\n",
       "       'Year of PurchaseNovember 2017', 'Year of PurchaseDecember 2012',\n",
       "       'Year of PurchaseFebruary 2011', 'Year of PurchaseJanuary 2008',\n",
       "       'Year of PurchaseAugust 2013', 'Year of PurchaseJuly 2015',\n",
       "       'Year of PurchaseMarch 2015', 'Year of PurchaseJanuary 2016',\n",
       "       'Year of PurchaseJanuary 2010', 'Year of PurchaseNovember 2014',\n",
       "       'Year of PurchaseFebruary 2020', 'Year of PurchaseJanuary 2015',\n",
       "       'Year of PurchaseJuly 2011', 'Year of PurchaseDecember 2016',\n",
       "       'Year of PurchaseApril 2019', 'Year of PurchaseJanuary 2009',\n",
       "       'Year of PurchaseJanuary 2019', 'Year of PurchaseAugust 2018',\n",
       "       'Year of PurchaseNovember 2016', 'Year of PurchaseApril 2009',\n",
       "       'Year of PurchaseJune 2010', 'Year of PurchaseAugust 2016',\n",
       "       'Year of PurchaseOctober 2015', 'Year of PurchaseJune 2018',\n",
       "       'Year of PurchaseAugust 2010', 'Year of PurchaseJanuary 2013',\n",
       "       'Year of PurchaseNovember 2018', 'Year of PurchaseJune 2017',\n",
       "       'Year of PurchaseJune 2011', 'Year of PurchaseFebruary 2016',\n",
       "       'Year of PurchaseApril 2015', 'Year of PurchaseApril 2011',\n",
       "       'Year of PurchaseJuly 2007', 'Year of PurchaseDecember 2015',\n",
       "       'Year of PurchaseMarch 2009', 'Year of PurchaseOctober 2018',\n",
       "       'Year of PurchaseDecember 2017', 'Year of PurchaseFebruary 2018',\n",
       "       'Year of PurchaseMarch 2017', 'Year of PurchaseAugust 2015',\n",
       "       'Year of PurchaseMarch 2016', 'Year of PurchaseSeptember 2015',\n",
       "       'Year of PurchaseMay 2017', 'Year of PurchaseMarch 2019',\n",
       "       'Year of PurchaseSeptember 2017', 'Year of PurchaseNovember 2009',\n",
       "       'Year of PurchaseDecember 2011', 'Year of PurchaseJune 2014',\n",
       "       'Year of PurchaseFebruary 2012', 'Year of PurchaseJune 2016',\n",
       "       'Year of PurchaseSeptember 2009', 'Year of PurchaseJuly 2018',\n",
       "       'Year of PurchaseApril 2013', 'Year of PurchaseJanuary 2012',\n",
       "       'Year of PurchaseAugust 2009', 'Year of PurchaseMay 2015',\n",
       "       'Year of PurchaseOctober 2009', 'Year of PurchaseJanuary 2014',\n",
       "       'Year of PurchaseMay 2016', 'Year of PurchaseFebruary 2015',\n",
       "       'Year of PurchaseSeptember 2016', 'Year of PurchaseJuly 2012',\n",
       "       'Year of PurchaseJune 2015', 'Year of PurchaseMay 2012',\n",
       "       'Year of PurchaseSeptember 2006', 'Year of PurchaseFebruary 2006',\n",
       "       'Year of PurchaseNovember 2005', 'Year of PurchaseApril 2006',\n",
       "       'Year of PurchaseMay 2005', 'Year of PurchaseSeptember 2004',\n",
       "       'Year of PurchaseJuly 2014', 'Year of PurchaseNovember 2012',\n",
       "       'Year of PurchaseDecember 2004', 'Year of PurchaseSeptember 2010',\n",
       "       'Year of PurchaseFebruary 2009', 'Year of PurchaseAugust 2006',\n",
       "       'Year of PurchaseApril 2007', 'Year of PurchaseMarch 2011',\n",
       "       'Year of PurchaseMarch 2006', 'Year of PurchaseJune 2019',\n",
       "       'Year of PurchaseMay 2007', 'Year of PurchaseNovember 2011',\n",
       "       'Year of PurchaseMarch 2008', 'Year of PurchaseFebruary 2014',\n",
       "       'Year of PurchaseJanuary 2007', 'Year of PurchaseOctober 2006',\n",
       "       'Year of PurchaseNovember 2015', 'Year of PurchaseAugust 2007',\n",
       "       'Year of PurchaseSeptember 2018', 'Year of PurchaseSeptember 2007',\n",
       "       'Year of PurchaseNovember 2008', 'Year of PurchaseAugust 2002',\n",
       "       'Year of PurchaseJanuary 2018', 'Year of PurchaseOctober 2016',\n",
       "       'Year of PurchaseFebruary 2003', 'Year of PurchaseMay 2014',\n",
       "       'Year of PurchaseApril 2000', 'Year of PurchaseSeptember 2014',\n",
       "       'Year of PurchaseJune 2003', 'Year of PurchaseOctober 2013',\n",
       "       'Year of PurchaseMay 2011', 'Year of PurchaseJanuary 2017',\n",
       "       'Year of PurchaseJuly 2016', 'Year of PurchaseJanuary 2020',\n",
       "       'Year of PurchaseAugust 2011', 'Year of PurchaseSeptember 2019',\n",
       "       'Year of PurchaseNovember 2019', 'Year of PurchaseOctober 2012',\n",
       "       'Year of PurchaseSeptember 1998', 'Year of PurchaseJuly 2006',\n",
       "       'Year of PurchaseDecember 2002', 'Year of PurchaseOctober 2003',\n",
       "       'Year of PurchaseJuly 2009', 'Year of PurchaseJune 2002',\n",
       "       'Year of PurchaseJanuary 2011', 'Year of PurchaseFebruary 2017',\n",
       "       'Year of PurchaseJuly 2008', 'Year of PurchaseMarch 2007',\n",
       "       'Year of PurchaseSeptember 2008', 'Year of PurchaseFebruary 2019',\n",
       "       'Year of PurchaseApril 2002', 'Year of PurchaseOctober 2014',\n",
       "       'Year of PurchaseJanuary 2006', 'Year of PurchaseDecember 2007',\n",
       "       'Year of PurchaseApril 2016', 'Year of PurchaseOctober 2005',\n",
       "       'Year of PurchaseOctober 2010', 'Year of PurchaseOctober 2017',\n",
       "       'Year of PurchaseDecember 2010', 'Year of PurchaseNovember 2010',\n",
       "       'Year of PurchaseJanuary 2003', 'Year of PurchaseDecember 2006',\n",
       "       'Year of PurchaseDecember 2019', 'Year of PurchaseMarch 2013',\n",
       "       'Year of PurchaseMay 2013', 'Year of PurchaseAugust 2008',\n",
       "       'Year of PurchaseDecember 2018', 'Year of PurchaseOctober 2011',\n",
       "       'Year of PurchaseApril 2008', 'Year of PurchaseNovember 2007',\n",
       "       'Year of PurchaseApril 2001', 'Year of PurchaseAugust 2020',\n",
       "       'Year of PurchaseSeptember 2011', 'Year of PurchaseMay 2018',\n",
       "       'Year of PurchaseFebruary 2004', 'Year of PurchaseJuly 2019',\n",
       "       'Year of PurchaseSeptember 2003', 'Year of PurchaseMay 2006',\n",
       "       'Year of PurchaseMay 2004', 'Year of PurchaseOctober 2019',\n",
       "       'Year of PurchaseOctober 2020', 'Year of PurchaseAugust 2012',\n",
       "       'Year of PurchaseJune 2009', 'Year of PurchaseJune 2020',\n",
       "       'Year of PurchaseOctober 2004', 'Year of PurchaseJuly 2020',\n",
       "       'Year of PurchaseJune 2006', 'Year of PurchaseApril 2014',\n",
       "       'Year of PurchaseAugust 2014', 'Year of PurchaseDecember 2020',\n",
       "       'Year of PurchaseAugust 2019', 'Year of PurchaseNovember 2004',\n",
       "       'Year of PurchaseMarch 2012', 'Year of PurchaseJuly 2010',\n",
       "       'Year of PurchaseNovember 2003', 'Year of PurchaseMarch 2018',\n",
       "       'Year of PurchaseOctober 2007', 'Year of PurchaseMarch 2001',\n",
       "       'Year of PurchaseJanuary 2004', 'Year of PurchaseApril 2004',\n",
       "       'Year of PurchaseSeptember 2013', 'Year of PurchaseJune 2012',\n",
       "       'Year of PurchaseJune 2013', 'Year of PurchaseJanuary 1989',\n",
       "       'Year of PurchaseFebruary 2010', 'Year of PurchaseMarch 2005',\n",
       "       'Year of PurchaseFebruary 2007', 'Year of PurchaseMay 2008',\n",
       "       'Year of PurchaseOctober 2000', 'Year of PurchaseJune 2008',\n",
       "       'Year of PurchaseMay 2019', 'Year of PurchaseMarch 2010',\n",
       "       'Year of PurchaseMarch 2020', 'Year of PurchaseFebruary 2008',\n",
       "       'Year of PurchaseApril 2012', 'Year of PurchaseApril 2010',\n",
       "       'Year of PurchaseAugust 2004', 'Year of PurchaseDecember 2009',\n",
       "       'Year of PurchaseJanuary 2002', 'Year of PurchaseSeptember 1999',\n",
       "       'Year of PurchaseMay 1997', 'Year of PurchaseJuly 2002',\n",
       "       'Year of PurchaseJuly 2003', 'Year of PurchaseDecember 2014',\n",
       "       'Year of PurchaseMay 2009', 'Year of PurchaseSeptember 2001',\n",
       "       'Year of PurchaseJune 2007', 'Year of PurchaseMay 2003',\n",
       "       'Year of PurchaseMay 1987', 'Year of PurchaseNovember 1999',\n",
       "       'Year of PurchaseAugust 2003', 'Year of PurchaseJuly 2001',\n",
       "       'Year of PurchaseFebruary 2005', 'Year of PurchaseDecember 2003',\n",
       "       'Year of PurchaseMarch 2004', 'Year of PurchaseApril 2018',\n",
       "       'Year of PurchaseOctober 1997', 'Year of PurchaseDecember 2005',\n",
       "       'Year of PurchaseJanuary 2001', 'Year of PurchaseApril 2003',\n",
       "       'Year of PurchaseSeptember 2005', 'Year of PurchaseAugust 1998',\n",
       "       'Year of PurchaseJanuary 2005', 'Year of PurchaseJuly 1999',\n",
       "       'Year of PurchaseNovember 2006', 'Year of PurchaseNovember 2002',\n",
       "       'Year of PurchaseApril 2005', 'Year of PurchaseJanuary 1995',\n",
       "       'Year of PurchaseAugust 2005', 'Year of PurchaseMarch 1999',\n",
       "       'Year of PurchaseOctober 2002', 'Year of PurchaseDecember 2008',\n",
       "       'Year of PurchaseSeptember 2000', 'Year of PurchaseDecember 2013',\n",
       "       'Year of PurchaseMay 2002', 'Year of PurchaseOctober 1996',\n",
       "       'Year of PurchaseJuly 2005', 'Year of PurchaseMarch 1994',\n",
       "       'Year of PurchaseAugust 2001', 'Year of PurchaseFebruary 1995',\n",
       "       'Year of PurchaseJune 2001', 'Year of PurchaseJune 2005',\n",
       "       'Year of PurchaseJanuary 1986', 'Year of PurchaseJanuary 2000',\n",
       "       'Year of PurchaseMarch 2003', 'Year of PurchaseAugust 1996',\n",
       "       'Year of PurchaseApril 1995', 'Year of PurchaseMarch 2000',\n",
       "       'Year of PurchaseJune 1995', 'Year of PurchaseNovember 1998',\n",
       "       'Year of PurchaseSeptember 1995', 'Year of PurchaseNovember 2001',\n",
       "       'Year of PurchaseFebruary 2002', 'Year of PurchaseFebruary 1998',\n",
       "       'Year of PurchaseFebruary 1997', 'Year of PurchaseDecember 2000',\n",
       "       'Year of PurchaseJanuary 1994', 'Year of PurchaseJanuary 1997',\n",
       "       'Year of PurchaseApril 1999', 'Year of PurchaseAugust 2000',\n",
       "       'Year of PurchaseOctober 2001', 'Year of PurchaseDecember 1995',\n",
       "       'Year of PurchaseJune 2004', 'Year of PurchaseJanuary 1998',\n",
       "       'Year of PurchaseNovember 1995', 'Year of PurchaseMarch 2002',\n",
       "       'Year of PurchaseMay 2020', 'Year of PurchaseSeptember 1993',\n",
       "       'Year of PurchaseNovember 2000', 'Year of PurchaseJanuary 1990',\n",
       "       'Year of PurchaseMay 1999', 'Year of PurchaseDecember 1998',\n",
       "       'Year of PurchaseMay 2001', 'Year of PurchaseJuly 2004',\n",
       "       'Year of PurchaseMarch 1997', 'Year of PurchaseNovember 1997',\n",
       "       'Year of PurchaseOctober 1993', 'Year of PurchaseFebruary 2001',\n",
       "       'Year of PurchaseJune 1999', 'Year of PurchaseApril 1993',\n",
       "       'Year of PurchaseMarch 1996', 'Year of PurchaseFebruary 1999',\n",
       "       'Year of PurchaseDecember 1999', 'Year of PurchaseOctober 1999',\n",
       "       'Year of PurchaseJuly 2000', 'Year of PurchaseJanuary 1999',\n",
       "       'Year of PurchaseDecember 2001', 'Year of PurchaseAugust 1991',\n",
       "       'Year of PurchaseSeptember 1994', 'Year of PurchaseJune 1991',\n",
       "       'Year of PurchaseAugust 1995', 'Year of PurchaseNovember 1991',\n",
       "       'Year of PurchaseNovember 1996', 'Year of PurchaseOctober 1998',\n",
       "       'Year of PurchaseNovember 2020', 'Year of PurchaseSeptember 2020',\n",
       "       'Year of PurchaseJanuary 1996', 'Year of PurchaseAugust 1999',\n",
       "       'Year of PurchaseJune 2000', 'Year of PurchaseJanuary 1980',\n",
       "       'Year of PurchaseJanuary 1993', 'Year of PurchaseJuly 1997',\n",
       "       'Year of PurchaseJune 1998', 'Year of PurchaseApril 1998',\n",
       "       'Year of PurchaseApril 1994', 'Year of PurchaseMay 2000',\n",
       "       'Year of PurchaseNovember 1994', 'Year of PurchaseMarch 1988',\n",
       "       'Year of PurchaseApril 2020', 'Year of PurchaseJuly 1982',\n",
       "       'Year of PurchaseMarch 1993', 'Year of PurchaseMay 1993',\n",
       "       'Year of PurchaseMarch 1995', 'Year of PurchaseDecember 1997',\n",
       "       'Year of PurchaseFebruary 2000', 'Year of PurchaseMay 1996',\n",
       "       'Year of PurchaseJuly 1996', 'Year of PurchaseSeptember 2002',\n",
       "       'Year of PurchaseJanuary 1987', 'Year of PurchaseMarch 1989',\n",
       "       'Year of PurchaseJune 1996', 'Year of PurchaseMarch 1998',\n",
       "       'Year of PurchaseJanuary 1988', 'Year of PurchaseJanuary 1984',\n",
       "       'Year of PurchaseJune 1997', 'Year of PurchaseJanuary 1992',\n",
       "       'Year of PurchaseJune 1989', 'Year of PurchaseMay 1998',\n",
       "       'Year of PurchaseNovember 1990', 'Year of PurchaseMay 1991',\n",
       "       'Year of PurchaseOctober 1994', 'Year of PurchaseMay 1995',\n",
       "       'Year of PurchaseJanuary 1991', 'Year of PurchaseOctober 1988',\n",
       "       'Year of PurchaseJuly 1991', 'Year of PurchaseAugust 1997',\n",
       "       'Year of PurchaseJune 1987', 'Year of PurchaseApril 1996',\n",
       "       'Year of PurchaseDecember 1996', 'Year of PurchaseOctober 1995',\n",
       "       'Year of PurchaseApril 1992', 'Year of PurchaseApril 1997',\n",
       "       'Year of PurchaseDecember 1992'], dtype=object)"
      ]
     },
     "execution_count": 549,
     "metadata": {},
     "output_type": "execute_result"
    }
   ],
   "source": [
    "df[\"Year_of_Purchase\"].unique()"
   ]
  },
  {
   "cell_type": "code",
   "execution_count": 550,
   "id": "0a624681-187a-4101-8e99-2da3225d431a",
   "metadata": {},
   "outputs": [
    {
     "data": {
      "text/plain": [
       "Owner\n",
       "OwnerFirst Owner      19324\n",
       "OwnerSecond Owner      9073\n",
       "OwnerThird Owner       2753\n",
       "OwnerFourth Owner       719\n",
       "OwnerFifth Owner        201\n",
       "OwnerSixth Owner         51\n",
       "OwnerSeventh Owner       20\n",
       "OwnerEighth Owner         9\n",
       "OwnerTenth Owner          5\n",
       "OwnerNinth Owner          3\n",
       "Name: count, dtype: int64"
      ]
     },
     "execution_count": 550,
     "metadata": {},
     "output_type": "execute_result"
    }
   ],
   "source": [
    "df[\"Owner\"].value_counts()"
   ]
  },
  {
   "cell_type": "code",
   "execution_count": 551,
   "id": "802c39f1-b02a-4033-a344-ec14ef30a80e",
   "metadata": {},
   "outputs": [
    {
     "data": {
      "text/plain": [
       "array(['OwnerFirst Owner', 'OwnerSecond Owner', 'OwnerThird Owner',\n",
       "       'OwnerFourth Owner', 'OwnerSixth Owner', 'OwnerFifth Owner',\n",
       "       'OwnerEighth Owner', 'OwnerSeventh Owner', 'OwnerNinth Owner',\n",
       "       'OwnerTenth Owner'], dtype=object)"
      ]
     },
     "execution_count": 551,
     "metadata": {},
     "output_type": "execute_result"
    }
   ],
   "source": [
    "df[\"Owner\"].unique()"
   ]
  },
  {
   "cell_type": "code",
   "execution_count": 552,
   "id": "6944c37f-77a3-494a-9afd-df2e9e4143bc",
   "metadata": {},
   "outputs": [
    {
     "data": {
      "text/plain": [
       "Fuel_Type\n",
       "FuelDiesel          15121\n",
       "FuelPetrol          15013\n",
       "FuelPetrol + CNG     1496\n",
       "FuelPetrol + LPG      503\n",
       "FuelElectric           24\n",
       "FuelHybrid              1\n",
       "Name: count, dtype: int64"
      ]
     },
     "execution_count": 552,
     "metadata": {},
     "output_type": "execute_result"
    }
   ],
   "source": [
    "df[\"Fuel_Type\"].value_counts()"
   ]
  },
  {
   "cell_type": "code",
   "execution_count": 553,
   "id": "b49c3759-2e67-41e1-8a22-aef58f5d5818",
   "metadata": {},
   "outputs": [
    {
     "data": {
      "text/plain": [
       "array(['FuelPetrol', 'FuelDiesel', 'FuelPetrol + LPG', 'FuelPetrol + CNG',\n",
       "       'FuelElectric', 'FuelHybrid'], dtype=object)"
      ]
     },
     "execution_count": 553,
     "metadata": {},
     "output_type": "execute_result"
    }
   ],
   "source": [
    "df[\"Fuel_Type\"].unique()"
   ]
  },
  {
   "cell_type": "code",
   "execution_count": 554,
   "id": "03d8eaa1-0677-453a-8489-6a084662b918",
   "metadata": {},
   "outputs": [
    {
     "data": {
      "text/plain": [
       "Transmission\n",
       "TransmissionMANUAL       26620\n",
       "TransmissionAUTOMATIC     2722\n",
       "Name: count, dtype: int64"
      ]
     },
     "execution_count": 554,
     "metadata": {},
     "output_type": "execute_result"
    }
   ],
   "source": [
    "df[\"Transmission\"].value_counts()"
   ]
  },
  {
   "cell_type": "code",
   "execution_count": 555,
   "id": "8396babb-9644-46b3-b3fe-fb158cf38f91",
   "metadata": {},
   "outputs": [
    {
     "data": {
      "text/plain": [
       "array(['TransmissionMANUAL', nan, 'TransmissionAUTOMATIC'], dtype=object)"
      ]
     },
     "execution_count": 555,
     "metadata": {},
     "output_type": "execute_result"
    }
   ],
   "source": [
    "df[\"Transmission\"].unique()"
   ]
  },
  {
   "cell_type": "code",
   "execution_count": 556,
   "id": "2c2cf870-a683-4950-a928-23d4316d189a",
   "metadata": {},
   "outputs": [
    {
     "data": {
      "text/plain": [
       "RTO\n",
       "RTOGJ01    2345\n",
       "RTOMH12    2048\n",
       "RTORJ14    1297\n",
       "RTOUP32    1148\n",
       "RTOKA03     933\n",
       "           ... \n",
       "RTOMP15       1\n",
       "RTOBR10       1\n",
       "RTOOR07       1\n",
       "RTOWB77       1\n",
       "RTOHP97       1\n",
       "Name: count, Length: 777, dtype: int64"
      ]
     },
     "execution_count": 556,
     "metadata": {},
     "output_type": "execute_result"
    }
   ],
   "source": [
    "df[\"RTO\"].value_counts()"
   ]
  },
  {
   "cell_type": "code",
   "execution_count": 557,
   "id": "b1aaf572-b147-43d8-af88-897f616d6075",
   "metadata": {},
   "outputs": [
    {
     "data": {
      "text/plain": [
       "array(['RTOAP09', 'RTOAP28', 'RTOAP13', 'RTOTS10', 'RTOAP11', 'RTOTS07',\n",
       "       'RTOAP10', 'RTOTS11', 'RTOTS13', 'RTOTS08', 'RTOTS09', 'RTOAP29',\n",
       "       'RTOTS15', 'RTOTS12', 'RTODL5C', 'RTOAP31', 'RTOAP23', 'RTODL10',\n",
       "       'RTOTN51', 'RTOAP16', 'RTOAP12', 'RTOAP07', 'RTOMH04', 'RTOHR29',\n",
       "       'RTOUP16', 'RTOKA05', 'RTOKA03', 'RTODL8C', 'RTOKA01', 'RTOAP27',\n",
       "       'RTOUP32', 'RTOAP36', 'RTOMH06', 'RTOWB02', 'RTOTS03', 'RTODL4C',\n",
       "       'RTOKL03', 'RTOAP22', 'RTOAP20', 'RTOMH19', 'RTOTS29', 'RTOOD02',\n",
       "       'RTOAP15', 'RTORJ02', 'RTOAP05', 'RTOHR51', 'RTOAP39', 'RTOUP15',\n",
       "       'RTORJ14', 'RTOKA09', 'RTOTS34', 'RTOHR26', 'RTOTS04', 'RTOTN01',\n",
       "       'RTOKA51', 'RTOTN09', 'RTOMH02', 'RTOAP02', 'RTOMH03', 'RTOTS16',\n",
       "       'RTOJH01', 'RTOAP04', 'RTOTS05', 'RTOUP14', 'RTOUP80', 'RTOMH31',\n",
       "       'RTOTS35', 'RTOKA41', 'RTOAHO1', 'RTOAP35', 'RTOWB26', 'RTOAP37',\n",
       "       'RTODL3C', 'RTOOR05', 'RTOKA04', 'RTOUP65', 'RTOCH01', 'RTODL12',\n",
       "       'RTOTS36', 'RTOAP25', 'RTOTN14', 'RTOTN38', 'RTOKA53', 'RTOTS32',\n",
       "       'RTOGJ12', 'RTOMH43', 'RTOMH01', 'RTOTN05', 'RTOTS17', 'RTODL1C',\n",
       "       'RTODL2C', 'RTOOD11', 'RTOWB06', 'RTOUK08', 'RTOUP53', 'RTOTS23',\n",
       "       'RTOAP24', 'RTORJ27', 'RTOAPO9', 'RTOMH20', 'RTOTS02', 'RTOTS01',\n",
       "       'RTOAP26', 'RTOTS28', 'RTODL9C', 'RTOTN12', 'RTOAP01', 'RTOHR55',\n",
       "       'RTOHR05', 'RTOKA35', 'RTOMP08', 'RTOTN07', 'RTOAP03', 'RTOPB08',\n",
       "       'RTOAP21', 'RTOAP1F', 'RTOTS06', 'RTOMH12', 'RTOCH03', 'RTOMH34',\n",
       "       'RTORJ19', 'RTOMP04', 'RTOKL33', 'RTOWB12', 'RTOMH15', 'RTOUP25',\n",
       "       'RTOGJ05', 'RTOHR70', 'RTOPB65', 'RTOMJF1', 'RTOPB10', 'RTOAP32',\n",
       "       'RTOTS33', 'RTOPY01', 'RTOAP33', 'RTOOR19', 'RTOCG13', 'RTOGJ5C',\n",
       "       'RTOTS25', 'RTOAS04', 'RTOGJ21', 'RTOTS20', 'RTOKA02', 'RTOTS22',\n",
       "       'RTO0R14', 'RTOAP5R', 'RTOKA52', 'RTOKL32', 'RTOTS0C', 'RTOJH04',\n",
       "       'RTODL6C', 'RTOTN10', 'RTOTS30', 'RTOUP78', 'RTOGJ18', 'RTOHR21',\n",
       "       'RTOTS21', 'RTOTS1O', 'RTOKA38', 'RTOTS27', 'RTOKA36', 'RTOTS31',\n",
       "       'RTOHR10', 'RTOPB03', 'RTOUP70', 'RTOMH14', 'RTOMH13', 'RTOGJ03',\n",
       "       'RTOTN19', 'RTOCG04', 'RTOMH47', 'RTOKL01', 'RTOKA32', 'RTOPB35',\n",
       "       'RTOKA50', 'RTOMH05', 'RTOMH24', 'RTOTS19', 'RTOGJ01', 'RTOTE09',\n",
       "       'RTOMP09', 'RTOTN11', 'RTOPB02', 'RTOKA28', 'RTOAP9A', 'RTOTS0E',\n",
       "       'RTOTN72', 'RTODL07', 'RTOMH26', 'RTOPB09', 'RTOJH05', 'RTOTN28',\n",
       "       'RTOHP64', 'RTOUP20', 'RTOWD02', 'RTOUP83', 'RTOOR15', 'RTOGJ06',\n",
       "       'RTOCH04', 'RTOOR14', 'RTOTN22', 'RTOCG18', 'RTOTS26', 'RTOHR72',\n",
       "       'RTOPB11', 'RTOWB40', 'RTOMH32', 'RTOTD13', 'RTOTS18', 'RTOHR61',\n",
       "       'RTODLCA', 'RTOTN02', 'RTOAP30', 'RTOKL25', 'RTOKA34', 'RTOOD15',\n",
       "       'RTOTN45', 'RTOUP21', 'RTOWB20', 'RTOTN13', 'RTOTN06', 'RTOTN20',\n",
       "       'RTOTN04', 'RTOTN73', 'RTOTN18', 'RTOTN21', 'RTOTN68', 'RTOTN85',\n",
       "       'RTOKL04', 'RTOTN03', 'RTOTN25', 'RTOTN31', 'RTOTN49', 'RTOTN47',\n",
       "       'RTOTN23', 'RTOTN66', 'RTOTN37', 'RTOTN24', 'RTOKL46', 'RTOPY05',\n",
       "       'RTOTN55', 'RTOUP33', 'RTOKL45', 'RTOTN63', 'RTOTN87', 'RTOKL11',\n",
       "       'RTODL13', 'RTOTSL5', 'RTOTN58', 'RTOTN52', 'RTOAN01', 'RTODL7C',\n",
       "       'RTOTN61', 'RTOTN70', 'RTOTN29', 'RTOKL49', 'RTOCAZ5', 'RTOTN67',\n",
       "       'RTOTN32', 'RTOTN59', 'RTOTN33', 'RTOKL24', 'RTOTN15', 'RTOJH10',\n",
       "       'RTOTN27', 'RTOTN91', 'RTOKL42', 'RTOKL63', 'RTOTN48', 'RTOTN30',\n",
       "       'RTOTN16', 'RTOTN36', 'RTOTN65', 'RTOTNO7', 'RTOGJ3B', 'RTOTN81',\n",
       "       'RTOTN50', 'RTOTN64', 'RTOTN42', 'RTOTN69', 'RTOPY02', 'RTOKL22',\n",
       "       'RTOTN74', 'RTOMH09', 'RTOTN97', 'RTOTN99', 'RTOTN82', 'RTOTN76',\n",
       "       'RTOTN43', 'RTOTN39', 'RTOTN41', 'RTOTN46', 'RTOTN57', 'RTOKL39',\n",
       "       'RTOKA19', 'RTOKA25', 'RTOKA20', 'RTOKA44', 'RTOKA16', 'RTOUP38',\n",
       "       'RTOKA22', 'RTOPB29', 'RTORJ16', 'RTOKA24', 'RTOBR01', 'RTOUK06',\n",
       "       'RTOUP93', 'RTOAS23', 'RTOKA27', 'RTOKA26', 'RTOKA06', 'RTOMP12',\n",
       "       'RTOKA07', 'RTOKA29', 'RTOKA14', 'RTOKA08', 'RTOKL51', 'RTOWB22',\n",
       "       'RTOKL09', 'RTOKA42', 'RTOMP19', 'RTOKA13', 'RTOWB18', 'RTOMP05',\n",
       "       'RTOKA17', 'RTOTN83', 'RTOUP11', 'RTOKA43', 'RTOUK07', 'RTOHR27',\n",
       "       'RTOGJ10', 'RTOMH11', 'RTOKA30', 'RTOKL07', 'RTOBR21', 'RTOKA18',\n",
       "       'RTOKA63', 'RTOKA40', 'RTOKL05', 'RTOKA37', 'RTOKA11', 'RTOAS01',\n",
       "       'RTOUK05', 'RTOPB23', 'RTOBR2N', 'RTOMH48', 'RTOCAN8', 'RTOOR02',\n",
       "       'RTOKA15', 'RTOML05', 'RTOKA31', 'RTOHR07', 'RTOUP52', 'RTOKL02',\n",
       "       'RTOHP15', 'RTOK02M', 'RTOMP10', 'RTOTN54', 'RTOWB44', 'RTOKA12',\n",
       "       'RTOHR30', 'RTOKA67', 'RTOKL13', 'RTOKA33', 'RTOJH09', 'RTOKA54',\n",
       "       'RTOKa03', 'RTOKA55', 'RTOHR16', 'RTODL02', 'RTOMP20', 'RTOKL56',\n",
       "       'RTORJ20', 'RTOKL59', 'RTOUK04', 'RTOKL58', 'RTOKL47', 'RTOKL27',\n",
       "       'RTOKA21', 'RTOKA48', 'RTOUP82', 'RTOUP62', 'RTOGJ02', 'RTOKA59',\n",
       "       'RTOHR01', 'RTOGA05', 'RTOKL43', 'RTOGA06', 'RTOKA64', 'RTOHR06',\n",
       "       'RTOKL23', 'RTOKL57', 'RTOGA08', 'RTOKL14', 'RTOKL75', 'RTOCKR5',\n",
       "       'RTOKS03', 'RTOHR24', 'RTOCAZ6', 'RTOKA46', 'RTOHR18', 'RTOMH46',\n",
       "       'RTOHR60', 'RTOHP88', 'RTOJK02', 'RTOTN77', 'RTOTN40', 'RTOKL08',\n",
       "       'RTOMH49', 'RTOCKQ2', 'RTOGJ38', 'RTOKA23', 'RTOKA66', 'RTOKL12',\n",
       "       'RTOHP39', 'RTOHR81', 'RTOKL60', 'RTOKA65', 'RTOHR20', 'RTOHR03',\n",
       "       'RTOKA56', 'RTOKL65', 'RTOKL17', 'RTOKA10', 'RTORJ32', 'RTOKA5M',\n",
       "       'RTOKA47', 'RTOKA39', 'RTOGJ15', 'RTOCKW1', 'RTOKL18', 'RTOWB08',\n",
       "       'RTOWB24', 'RTOWB42', 'RTOWB10', 'RTOWB98', 'RTOWB74', 'RTOWB28',\n",
       "       'RTOWB96', 'RTOWB34', 'RTOWN06', 'RTOWB16', 'RTOPB36', 'RTOCG16',\n",
       "       'RTOWB90', 'RTOWB38', 'RTOOD04', 'RTOWB14', 'RTOWB54', 'RTOCG07',\n",
       "       'RTOGA03', 'RTOWE02', 'RTOWB30', 'RTOTR01', 'RTOGJ23', 'RTOCG10',\n",
       "       'RTOWB52', 'RTOCG12', 'RTOOD09', 'RTOWB8C', 'RTOWMF5', 'RTOWB77',\n",
       "       'RTOOR07', 'RTOHP62', 'RTOBR10', 'RTOMP15', 'RTOWB36', 'RTOGJ27',\n",
       "       'RTOBR14', 'RTOWB66', 'RTOJH22', 'RTOWB58', 'RTOBR42', 'RTO0D02',\n",
       "       'RTOPB06', 'RTORJ40', 'RTOOD19', 'RTOMH08', 'RTOMH30', 'RTOHR34',\n",
       "       'RTOUP96', 'RTODL14', 'RTOMH10', 'RTOMH18', 'RTOMP22', 'RTOMH16',\n",
       "       'RTOUK01', 'RTOMH42', 'RTOMH39', 'RTOKL53', 'RTOMH21', 'RTOMH40',\n",
       "       'RTOGA07', 'RTOHP17', 'RTOMH17', 'RTOBR06', 'RTOHP38', 'RTOUK15',\n",
       "       'RTOJH12', 'RTOMH41', 'RTOMH25', 'RTOMH2P', 'RTODD03', 'RTOJH15',\n",
       "       'RTOOD33', 'RTOMH38', 'RTOMH45', 'RTOMH27', 'RTOJH02', 'RTOHR02',\n",
       "       'RTORJ45', 'RTOMH07', 'RTOKL30', 'RTOHR13', 'RTOMH44', 'RTODL11',\n",
       "       'RTOMP07', 'RTOGJ04', 'RTOMH50', 'RTOMH28', 'RTOPB05', 'RTOPB39',\n",
       "       'RTOGJ1A', 'RTOMH29', 'RTOMH23', 'RTOMH22', 'RTOBR1U', 'RTOMP38',\n",
       "       'RTOGA01', 'RTOKL31', 'RTOHR12', 'RTORJ17', 'RTOMP13', 'RTOMG02',\n",
       "       'RTORJ22', 'RTODL2F', 'RTODN09', 'RTOUA08', 'RTOHR17', 'RTOGJ37',\n",
       "       'RTOGJ16', 'RTOGJ1H', 'RTOAS03', 'RTOUP07', 'RTOKL10', 'RTOGJ26',\n",
       "       'RTOJH07', 'RTORJ07', 'RTOPB46', 'RTOAS07', 'RTOUP47', 'RTOUP42',\n",
       "       'RTOAS24', 'RTOUP40', 'RTOUP72', 'RTOUP44', 'RTOUP34', 'RTOUP76',\n",
       "       'RTOUP43', 'RTOUP30', 'RTOUP51', 'RTOUP92', 'RTOUP27', 'RTOUP64',\n",
       "       'RTORJ01', 'RTOGJ2A', 'RTOUP74', 'RTOUA12', 'RTOUP81', 'RTOUP54',\n",
       "       'RTOUP41', 'RTOUP85', 'RTOJH24', 'RTOUP60', 'RTOUP55', 'RTOBR17',\n",
       "       'RTOUP13', 'RTOUP50', 'RTOUP71', 'RTOUAG3', 'RTOBR28', 'RTORJ30',\n",
       "       'RTOUP35', 'RTOUP45', 'RTOUP84', 'RTOUA07', 'RTOMP28', 'RTOUP17',\n",
       "       'RTOUP90', 'RTOUP31', 'RTOUP77', 'RTOUP63', 'RTOUP57', 'RTOGJ17',\n",
       "       'RTOUP86', 'RTOUP66', 'RTOUP61', 'RTOUP36', 'RTOAS25', 'RTOHP47',\n",
       "       'RTOUMR7', 'RTOGJ1K', 'RTOMH35', 'RTOGJ13', 'RTOGJ31', 'RTOGJ07',\n",
       "       'RTOGH01', 'RTOGJ33', 'RTOGJ08', 'RTOGJ14', 'RTOGJ24', 'RTORJ04',\n",
       "       'RTOGJ09', 'RTOGJ36', 'RTOGJ11', 'RTOGK01', 'RTOGJ20', 'RTORJ39',\n",
       "       'RTOGJ25', 'RTORJ29', 'RTOGJ9M', 'RTOGUD4', 'RTOGJ3C', 'RTOGJ35',\n",
       "       'RTOUP23', 'RTOGJ0H', 'RTOGJ22', 'RTOGJ19', 'RTOUA06', 'RTORJ38',\n",
       "       'RTOAS06', 'RTOHR36', 'RTORJ06', 'RTOGJ6D', 'RTORJ03', 'RTOMP44',\n",
       "       'RTOPB13', 'RTOHR42', 'RTOBR1S', 'RTORJ26', 'RTORJ05', 'RTORJ41',\n",
       "       'RTORJ28', 'RTORJ23', 'RTORJ25', 'RTORJ15', 'RTORJ13', 'RTORJ18',\n",
       "       'RTORJ37', 'RTORJ47', 'RTORJ48', 'RTORJ09', 'RTOMP41', 'RTORJ34',\n",
       "       'RTORJ33', 'RTORJ10', 'RTODL08', 'RTORJ36', 'RTOOD18', 'RTOUP75',\n",
       "       'RTORJ21', 'RTOAR01', 'RTOMP06', 'RTORJ12', 'RTORJ11', 'RTORJ44',\n",
       "       'RTORJ08', 'RTOMP17', 'RTOHR22', 'RTORJ49', 'RTORJ51', 'RTORJ42',\n",
       "       'RTOHR35', 'RTORJ24', 'RTORJ52', 'RTOUP79', 'RTOHR66', 'RTORJ31',\n",
       "       'RTOHR44', 'RTOPB12', 'RTOCh01', 'RTOHR49', 'RTOPB16', 'RTOHP31',\n",
       "       'RTOHR78', 'RTOHR85', 'RTOHR71', 'RTOPB04', 'RTOHR04', 'RTOPB53',\n",
       "       'RTOHP81', 'RTOHP91', 'RTOHR08', 'RTOPB70', 'RTOPB74', 'RTOHP23',\n",
       "       'RTOPB07', 'RTOPB61', 'RTOHP30', 'RTOHR11', 'RTOHP52', 'RTOHR32',\n",
       "       'RTOHR59', 'RTOPB27', 'RTOHP16', 'RTOPB22', 'RTOHR54', 'RTOHP12',\n",
       "       'RTOPB32', 'RTOPB31', 'RTOHR14', 'RTOHR52', 'RTOHR80', 'RTOHP93',\n",
       "       'RTOHR41', 'RTOHR19', 'RTOHP33', 'RTOPB34', 'RTOHP86', 'RTOCG11',\n",
       "       'RTOHR40', 'RTOHP82', 'RTOPB51', 'RTOPB59', 'RTOHP63', 'RTOHP68',\n",
       "       'RTOHR68', 'RTOHR09', 'RTODLCZ', 'RTOPB71', 'RTOHP10', 'RTOHP55',\n",
       "       'RTOHR31', 'RTOPB30', 'RTOMN07', 'RTOHR92', 'RTOHR82', 'RTOHR91',\n",
       "       'RTOPB48', 'RTOHR76', 'RTOPB87', 'RTOHP72', 'RTOHP20', 'RTOHP19',\n",
       "       'RTOPB19', 'RTOHP03', 'RTOPB15', 'RTOHP22', 'RTOJK01', 'RTOHR15',\n",
       "       'RTOPB55', 'RTOHP74', 'RTOPB72', 'RTOHP09', 'RTOPB69', 'RTOPB25',\n",
       "       'RTOHR45', 'RTOHR77', 'RTOHR46', 'RTOHR50', 'RTOPB37', 'RTOHR23',\n",
       "       'RTOHP40', 'RTOPB20', 'RTOHP07', 'RTOPCP7', 'RTOHP69', 'RTOPB18',\n",
       "       'RTOPB57', 'RTOHP57', 'RTOHR33', 'RTOHR37', 'RTOPB88', 'RTOHR79',\n",
       "       'RTOHP37', 'RTOHP25', 'RTOHP97'], dtype=object)"
      ]
     },
     "execution_count": 557,
     "metadata": {},
     "output_type": "execute_result"
    }
   ],
   "source": [
    "df[\"RTO\"].unique()"
   ]
  },
  {
   "cell_type": "code",
   "execution_count": 558,
   "id": "43d4731d-b6ff-4368-ac63-c6bbf2ca3678",
   "metadata": {},
   "outputs": [
    {
     "data": {
      "text/plain": [
       "Insurance\n",
       "Insurance29/3/2021     119\n",
       "Insurance29/8/2021     119\n",
       "Insurance31/12/2020    105\n",
       "Insurance26/2/2021     102\n",
       "Insurance25/2/2021      99\n",
       "                      ... \n",
       "Insurance5/2/2023        1\n",
       "Insurance17/1/2024       1\n",
       "Insurance30/3/2020       1\n",
       "Insurance9/8/2020        1\n",
       "Insurance27/10/2019      1\n",
       "Name: count, Length: 921, dtype: int64"
      ]
     },
     "execution_count": 558,
     "metadata": {},
     "output_type": "execute_result"
    }
   ],
   "source": [
    "df.Insurance.value_counts()"
   ]
  },
  {
   "cell_type": "code",
   "execution_count": 559,
   "id": "4973cf33-3c09-4048-bf10-40036c18130a",
   "metadata": {},
   "outputs": [
    {
     "data": {
      "text/plain": [
       "array([nan, 'Insurance6/8/2021', 'Insurance28/4/2021',\n",
       "       'Insurance1/1/2022', 'Insurance30/3/2021', 'Insurance1/12/2021',\n",
       "       'Insurance15/8/2021', 'Insurance31/12/2020', 'Insurance31/5/2021',\n",
       "       'Insurance27/10/2021', 'Insurance16/9/2021', 'Insurance23/3/2021',\n",
       "       'Insurance2/2/2022', 'Insurance2/3/2023', 'Insurance27/5/2021',\n",
       "       'Insurance29/8/2021', 'Insurance19/2/2021', 'Insurance9/7/2021',\n",
       "       'Insurance22/4/2022', 'Insurance19/11/2021', 'Insurance20/2/2021',\n",
       "       'Insurance26/2/2021', 'Insurance4/5/2021', 'Insurance17/8/2020',\n",
       "       'Insurance14/9/2021', 'Insurance14/3/2021', 'Insurance27/3/2021',\n",
       "       'Insurance18/4/2021', 'Insurance1/6/2021', 'Insurance20/9/2021',\n",
       "       'Insurance9/9/2021', 'Insurance7/9/2021', 'Insurance31/12/2021',\n",
       "       'Insurance20/12/2021', 'Insurance4/1/2022', 'Insurance2/12/2021',\n",
       "       'Insurance30/10/2021', 'Insurance28/9/2021', 'Insurance19/6/2021',\n",
       "       'Insurance27/7/2021', 'Insurance16/3/2021', 'Insurance6/2/2022',\n",
       "       'Insurance3/7/2021', 'Insurance29/9/2020', 'Insurance8/8/2021',\n",
       "       'Insurance16/2/2021', 'Insurance17/5/2021', 'Insurance23/2/2021',\n",
       "       'Insurance10/10/2020', 'Insurance26/9/2021', 'Insurance27/6/2021',\n",
       "       'Insurance10/3/2021', 'Insurance12/12/2021', 'Insurance23/5/2020',\n",
       "       'Insurance21/11/2021', 'Insurance29/1/2021', 'Insurance23/7/2021',\n",
       "       'Insurance1/11/2021', 'Insurance5/11/2021', 'Insurance13/6/2021',\n",
       "       'Insurance9/6/2021', 'Insurance29/3/2021', 'Insurance19/9/2021',\n",
       "       'Insurance9/9/2020', 'Insurance13/10/2020', 'Insurance23/10/2021',\n",
       "       'Insurance9/8/2021', 'Insurance8/9/2021', 'Insurance21/12/2020',\n",
       "       'Insurance15/11/2021', 'Insurance17/11/2021',\n",
       "       'Insurance30/11/2020', 'Insurance12/10/2021', 'Insurance7/2/2021',\n",
       "       'Insurance11/8/2021', 'Insurance24/2/2021', 'Insurance21/5/2021',\n",
       "       'Insurance12/6/2021', 'Insurance19/7/2021', 'Insurance4/9/2021',\n",
       "       'Insurance22/1/2021', 'Insurance28/8/2021', 'Insurance26/8/2021',\n",
       "       'Insurance6/1/2022', 'Insurance28/12/2021', 'Insurance6/5/2021',\n",
       "       'Insurance5/5/2021', 'Insurance6/11/2021', 'Insurance24/12/2021',\n",
       "       'Insurance30/5/2021', 'Insurance13/10/2021', 'Insurance24/3/2021',\n",
       "       'Insurance18/3/2021', 'Insurance14/6/2021', 'Insurance9/1/2021',\n",
       "       'Insurance29/9/2021', 'Insurance31/1/2021', 'Insurance18/12/2021',\n",
       "       'Insurance14/11/2021', 'Insurance29/1/2022', 'Insurance7/10/2021',\n",
       "       'Insurance24/9/2020', 'Insurance30/8/2021', 'Insurance30/9/2021',\n",
       "       'Insurance11/5/2021', 'Insurance17/1/2021', 'Insurance19/1/2022',\n",
       "       'Insurance9/2/2021', 'Insurance21/3/2021', 'Insurance11/10/2021',\n",
       "       'Insurance5/10/2021', 'Insurance5/3/2021', 'Insurance15/2/2021',\n",
       "       'Insurance16/1/2021', 'Insurance1/3/2021', 'Insurance17/3/2021',\n",
       "       'Insurance16/10/2021', 'Insurance29/7/2021', 'Insurance7/6/2021',\n",
       "       'Insurance4/3/2021', 'Insurance23/8/2021', 'Insurance11/4/2021',\n",
       "       'Insurance28/6/2021', 'Insurance4/10/2021', 'Insurance23/5/2021',\n",
       "       'Insurance27/11/2021', 'Insurance15/3/2021', 'Insurance1/1/2021',\n",
       "       'Insurance14/1/2022', 'Insurance22/10/2021', 'Insurance13/9/2021',\n",
       "       'Insurance30/7/2021', 'Insurance4/12/2021', 'Insurance10/11/2021',\n",
       "       'Insurance7/1/2021', 'Insurance10/8/2021', 'Insurance24/8/2021',\n",
       "       'Insurance16/12/2021', 'Insurance10/12/2021', 'Insurance19/8/2021',\n",
       "       'Insurance1/11/2020', 'Insurance16/5/2022', 'Insurance6/7/2021',\n",
       "       'Insurance24/7/2021', 'Insurance27/9/2021', 'Insurance21/10/2021',\n",
       "       'Insurance5/1/2021', 'Insurance16/6/2021', 'Insurance27/9/2020',\n",
       "       'Insurance26/3/2021', 'Insurance6/12/2020', 'Insurance7/4/2021',\n",
       "       'Insurance11/6/2021', 'Insurance20/7/2021', 'Insurance26/4/2021',\n",
       "       'Insurance5/2/2021', 'Insurance29/12/2020', 'Insurance11/3/2022',\n",
       "       'Insurance30/9/2020', 'Insurance25/4/2021', 'Insurance21/11/2020',\n",
       "       'Insurance24/12/2020', 'Insurance2/3/2021', 'Insurance27/2/2021',\n",
       "       'Insurance10/7/2021', 'Insurance18/10/2021', 'Insurance11/9/2022',\n",
       "       'Insurance13/12/2020', 'Insurance6/11/2022', 'Insurance15/5/2022',\n",
       "       'Insurance10/10/2021', 'Insurance2/7/2021', 'Insurance13/2/2021',\n",
       "       'Insurance18/6/2021', 'Insurance20/10/2021', 'Insurance16/11/2021',\n",
       "       'Insurance5/11/2022', 'Insurance18/5/2021', 'Insurance30/11/2021',\n",
       "       'Insurance28/5/2021', 'Insurance6/6/2021', 'Insurance31/7/2021',\n",
       "       'Insurance30/12/2020', 'Insurance5/6/2021', 'Insurance27/12/2020',\n",
       "       'Insurance21/6/2021', 'Insurance10/12/2020', 'Insurance29/10/2021',\n",
       "       'Insurance6/10/2021', 'Insurance16/11/2020', 'Insurance21/7/2023',\n",
       "       'Insurance23/12/2020', 'Insurance28/7/2021', 'Insurance25/2/2021',\n",
       "       'Insurance22/6/2021', 'Insurance8/12/2021', 'Insurance7/3/2021',\n",
       "       'Insurance28/10/2021', 'Insurance19/10/2021', 'Insurance3/2/2023',\n",
       "       'Insurance25/3/2021', 'Insurance1/2/2021', 'Insurance14/8/2021',\n",
       "       'Insurance25/11/2020', 'Insurance26/2/2022', 'Insurance28/9/2022',\n",
       "       'Insurance22/8/2021', 'Insurance31/10/2021', 'Insurance26/10/2021',\n",
       "       'Insurance22/5/2021', 'Insurance25/11/2021', 'Insurance24/6/2021',\n",
       "       'Insurance23/9/2021', 'Insurance6/3/2021', 'Insurance22/12/2020',\n",
       "       'Insurance9/12/2020', 'Insurance8/11/2021', 'Insurance6/2/2021',\n",
       "       'Insurance29/5/2021', 'Insurance5/4/2021', 'Insurance22/4/2021',\n",
       "       'Insurance17/10/2021', 'Insurance22/2/2021', 'Insurance18/7/2021',\n",
       "       'Insurance14/12/2021', 'Insurance12/4/2021', 'Insurance11/3/2021',\n",
       "       'Insurance8/3/2021', 'Insurance14/10/2021', 'Insurance11/9/2021',\n",
       "       'Insurance10/2/2021', 'Insurance2/1/2022', 'Insurance31/8/2021',\n",
       "       'Insurance17/8/2021', 'Insurance23/1/2021', 'Insurance3/11/2020',\n",
       "       'Insurance25/7/2021', 'Insurance7/11/2021', 'Insurance21/9/2021',\n",
       "       'Insurance25/1/2022', 'Insurance5/9/2021', 'Insurance25/4/2022',\n",
       "       'Insurance27/4/2021', 'Insurance20/11/2021', 'Insurance25/12/2022',\n",
       "       'Insurance31/10/2020', 'Insurance29/9/2023', 'Insurance6/1/2021',\n",
       "       'Insurance31/3/2021', 'Insurance29/4/2021', 'Insurance30/9/2022',\n",
       "       'Insurance20/12/2020', 'Insurance20/5/2022', 'Insurance8/7/2021',\n",
       "       'Insurance5/8/2021', 'Insurance5/10/2022', 'Insurance9/12/2021',\n",
       "       'Insurance3/12/2021', 'Insurance2/1/2021', 'Insurance24/11/2020',\n",
       "       'Insurance13/5/2021', 'Insurance12/2/2021', 'Insurance3/8/2021',\n",
       "       'Insurance18/9/2021', 'Insurance14/12/2020', 'Insurance8/12/2020',\n",
       "       'Insurance28/10/2022', 'Insurance17/6/2021', 'Insurance10/9/2021',\n",
       "       'Insurance24/10/2021', 'Insurance3/11/2021', 'Insurance29/11/2021',\n",
       "       'Insurance19/12/2022', 'Insurance14/4/2021', 'Insurance7/12/2021',\n",
       "       'Insurance12/8/2022', 'Insurance9/3/2021', 'Insurance26/1/2023',\n",
       "       'Insurance1/2/2022', 'Insurance23/12/2021', 'Insurance22/12/2021',\n",
       "       'Insurance6/4/2021', 'Insurance19/1/2021', 'Insurance2/10/2021',\n",
       "       'Insurance20/3/2021', 'Insurance17/9/2021', 'Insurance17/7/2021',\n",
       "       'Insurance26/11/2020', 'Insurance1/10/2021', 'Insurance3/9/2021',\n",
       "       'Insurance27/12/2021', 'Insurance2/8/2021', 'Insurance5/12/2022',\n",
       "       'Insurance26/1/2021', 'Insurance19/12/2020', 'Insurance19/3/2021',\n",
       "       'Insurance30/6/2021', 'Insurance15/1/2021', 'Insurance18/1/2021',\n",
       "       'Insurance7/11/2020', 'Insurance28/1/2021', 'Insurance15/9/2021',\n",
       "       'Insurance16/5/2021', 'Insurance3/2/2021', 'Insurance23/11/2020',\n",
       "       'Insurance15/3/2023', 'Insurance10/1/2021', 'Insurance24/4/2021',\n",
       "       'Insurance4/11/2021', 'Insurance17/2/2021', 'Insurance10/6/2021',\n",
       "       'Insurance26/12/2021', 'Insurance19/12/2021', 'Insurance26/6/2021',\n",
       "       'Insurance25/10/2021', 'Insurance29/12/2021', 'Insurance11/7/2021',\n",
       "       'Insurance20/6/2022', 'Insurance21/1/2021', 'Insurance19/11/2020',\n",
       "       'Insurance26/5/2021', 'Insurance27/1/2021', 'Insurance11/2/2021',\n",
       "       'Insurance20/11/2020', 'Insurance24/10/2020', 'Insurance28/3/2021',\n",
       "       'Insurance18/8/2021', 'Insurance16/7/2021', 'Insurance2/12/2020',\n",
       "       'Insurance15/7/2021', 'Insurance27/6/2022', 'Insurance3/1/2021',\n",
       "       'Insurance26/6/2022', 'Insurance7/8/2021', 'Insurance25/8/2021',\n",
       "       'Insurance25/9/2021', 'Insurance20/6/2021', 'Insurance27/5/2022',\n",
       "       'Insurance11/1/2021', 'Insurance4/7/2021', 'Insurance12/7/2021',\n",
       "       'Insurance19/5/2021', 'Insurance24/5/2021', 'Insurance8/8/2023',\n",
       "       'Insurance30/1/2021', 'Insurance15/5/2021', 'Insurance20/1/2021',\n",
       "       'Insurance6/12/2021', 'Insurance1/12/2020', 'Insurance12/9/2021',\n",
       "       'Insurance22/7/2021', 'Insurance13/3/2021', 'Insurance23/4/2021',\n",
       "       'Insurance25/9/2020', 'Insurance8/2/2021', 'Insurance25/12/2021',\n",
       "       'Insurance18/12/2020', 'Insurance11/1/2022', 'Insurance29/10/2020',\n",
       "       'Insurance13/4/2021', 'Insurance2/9/2021', 'Insurance15/11/2020',\n",
       "       'Insurance21/2/2022', 'Insurance19/4/2021', 'Insurance5/7/2021',\n",
       "       'Insurance8/4/2021', 'Insurance23/11/2021', 'Insurance2/4/2021',\n",
       "       'Insurance25/1/2021', 'Insurance11/12/2020', 'Insurance10/12/2022',\n",
       "       'Insurance25/5/2021', 'Insurance8/6/2021', 'Insurance16/4/2021',\n",
       "       'Insurance26/12/2020', 'Insurance18/11/2021',\n",
       "       'Insurance17/11/2020', 'Insurance4/2/2021', 'Insurance7/1/2023',\n",
       "       'Insurance28/11/2021', 'Insurance20/5/2021', 'Insurance3/5/2021',\n",
       "       'Insurance4/8/2021', 'Insurance8/10/2021', 'Insurance23/12/2022',\n",
       "       'Insurance27/7/2022', 'Insurance1/8/2021', 'Insurance15/10/2021',\n",
       "       'Insurance10/5/2021', 'Insurance12/11/2021', 'Insurance13/1/2021',\n",
       "       'Insurance15/8/2022', 'Insurance26/7/2021', 'Insurance2/11/2021',\n",
       "       'Insurance22/9/2021', 'Insurance3/1/2022', 'Insurance12/8/2021',\n",
       "       'Insurance3/3/2021', 'Insurance15/6/2021', 'Insurance18/1/2023',\n",
       "       'Insurance22/3/2021', 'Insurance1/7/2021', 'Insurance15/1/2022',\n",
       "       'Insurance14/2/2021', 'Insurance3/6/2021', 'Insurance20/4/2021',\n",
       "       'Insurance11/11/2021', 'Insurance2/5/2021', 'Insurance24/10/2022',\n",
       "       'Insurance21/4/2021', 'Insurance7/7/2021', 'Insurance18/2/2021',\n",
       "       'Insurance12/1/2021', 'Insurance25/12/2020', 'Insurance2/2/2021',\n",
       "       'Insurance22/12/2022', 'Insurance14/11/2022', 'Insurance4/4/2021',\n",
       "       'Insurance8/11/2020', 'Insurance8/5/2021', 'Insurance12/5/2021',\n",
       "       'Insurance3/10/2021', 'Insurance27/11/2020', 'Insurance7/12/2020',\n",
       "       'Insurance17/12/2021', 'Insurance9/10/2021', 'Insurance28/12/2020',\n",
       "       'Insurance2/6/2021', 'Insurance12/12/2020', 'Insurance4/11/2020',\n",
       "       'Insurance10/11/2020', 'Insurance9/12/2022', 'Insurance13/11/2021',\n",
       "       'Insurance8/1/2021', 'Insurance4/6/2021', 'Insurance27/10/2020',\n",
       "       'Insurance25/6/2022', 'Insurance12/10/2022', 'Insurance18/8/2022',\n",
       "       'Insurance14/5/2021', 'Insurance27/11/2022', 'Insurance9/11/2021',\n",
       "       'Insurance24/11/2021', 'Insurance9/11/2020', 'Insurance30/3/2022',\n",
       "       'Insurance8/8/2022', 'Insurance31/1/2022', 'Insurance27/1/2024',\n",
       "       'Insurance1/5/2021', 'Insurance20/8/2021', 'Insurance4/7/2022',\n",
       "       'Insurance1/9/2021', 'Insurance3/10/2022', 'Insurance27/8/2021',\n",
       "       'Insurance26/1/2022', 'Insurance1/4/2021', 'Insurance8/6/2022',\n",
       "       'Insurance13/8/2021', 'Insurance11/10/2020', 'Insurance9/5/2021',\n",
       "       'Insurance21/8/2021', 'Insurance13/12/2021', 'Insurance19/5/2022',\n",
       "       'Insurance7/5/2021', 'Insurance15/4/2021', 'Insurance15/10/2020',\n",
       "       'Insurance8/9/2022', 'Insurance17/12/2020', 'Insurance12/11/2020',\n",
       "       'Insurance4/1/2021', 'Insurance25/6/2021', 'Insurance30/4/2021',\n",
       "       'Insurance9/4/2021', 'Insurance28/2/2021', 'Insurance11/11/2022',\n",
       "       'Insurance1/12/2022', 'Insurance29/3/2023', 'Insurance22/11/2020',\n",
       "       'Insurance30/12/2021', 'Insurance3/4/2021', 'Insurance24/9/2021',\n",
       "       'Insurance14/12/2022', 'Insurance16/1/2023', 'Insurance16/8/2021',\n",
       "       'Insurance30/1/2022', 'Insurance15/12/2022', 'Insurance21/2/2021',\n",
       "       'Insurance11/8/2022', 'Insurance9/1/2022', 'Insurance15/12/2021',\n",
       "       'Insurance16/12/2020', 'Insurance6/6/2022', 'Insurance8/1/2022',\n",
       "       'Insurance19/8/2022', 'Insurance26/11/2021', 'Insurance2/10/2020',\n",
       "       'Insurance10/4/2021', 'Insurance13/7/2021', 'Insurance11/12/2021',\n",
       "       'Insurance19/10/2020', 'Insurance19/1/2023', 'Insurance26/9/2022',\n",
       "       'Insurance12/3/2021', 'Insurance12/11/2022', 'Insurance16/10/2020',\n",
       "       'Insurance14/4/2022', 'Insurance15/12/2020', 'Insurance31/8/2020',\n",
       "       'Insurance4/1/2023', 'Insurance14/1/2021', 'Insurance4/12/2020',\n",
       "       'Insurance6/9/2021', 'Insurance22/10/2020', 'Insurance21/9/2020',\n",
       "       'Insurance9/10/2020', 'Insurance4/10/2020', 'Insurance8/10/2020',\n",
       "       'Insurance17/4/2021', 'Insurance17/1/2022', 'Insurance22/11/2021',\n",
       "       'Insurance14/3/2020', 'Insurance16/9/2020', 'Insurance3/12/2020',\n",
       "       'Insurance24/7/2022', 'Insurance3/10/2020', 'Insurance29/6/2022',\n",
       "       'Insurance14/11/2020', 'Insurance29/6/2021', 'Insurance18/11/2022',\n",
       "       'Insurance22/5/2022', 'Insurance7/1/2022', 'Insurance5/10/2020',\n",
       "       'Insurance25/10/2020', 'Insurance20/1/2022', 'Insurance1/5/2022',\n",
       "       'Insurance5/2/2022', 'Insurance21/7/2021', 'Insurance11/11/2020',\n",
       "       'Insurance14/10/2020', 'Insurance21/8/2022', 'Insurance5/12/2020',\n",
       "       'Insurance9/9/2022', 'Insurance18/5/2022', 'Insurance6/11/2020',\n",
       "       'Insurance31/7/2020', 'Insurance22/1/2022', 'Insurance23/6/2021',\n",
       "       'Insurance20/10/2020', 'Insurance26/10/2020', 'Insurance28/8/2022',\n",
       "       'Insurance28/9/2020', 'Insurance27/1/2022', 'Insurance24/1/2021',\n",
       "       'Insurance7/10/2020', 'Insurance28/10/2020', 'Insurance5/11/2020',\n",
       "       'Insurance24/1/2022', 'Insurance4/8/2022', 'Insurance19/9/2020',\n",
       "       'Insurance20/2/2020', 'Insurance15/12/2019', 'Insurance14/7/2019',\n",
       "       'Insurance21/4/2022', 'Insurance26/8/2022', 'Insurance14/7/2021',\n",
       "       'Insurance18/1/2022', 'Insurance2/11/2020', 'Insurance23/1/2022',\n",
       "       'Insurance14/8/2022', 'Insurance20/9/2020', 'Insurance14/7/2023',\n",
       "       'Insurance7/9/2022', 'Insurance29/5/2022', 'Insurance13/1/2022',\n",
       "       'Insurance1/3/2023', 'Insurance13/2/2022', 'Insurance20/2/2022',\n",
       "       'Insurance3/3/2023', 'Insurance28/5/2022', 'Insurance18/11/2020',\n",
       "       'Insurance4/6/2022', 'Insurance11/5/2023', 'Insurance10/1/2022',\n",
       "       'Insurance12/12/2022', 'Insurance12/1/2022', 'Insurance13/11/2020',\n",
       "       'Insurance5/12/2021', 'Insurance24/6/2022', 'Insurance28/1/2022',\n",
       "       'Insurance1/6/2022', 'Insurance1/7/2022', 'Insurance27/2/2022',\n",
       "       'Insurance17/3/2023', 'Insurance14/3/2022', 'Insurance24/5/2022',\n",
       "       'Insurance21/1/2022', 'Insurance10/2/2022', 'Insurance15/9/2022',\n",
       "       'Insurance28/7/2022', 'Insurance16/7/2022', 'Insurance25/7/2022',\n",
       "       'Insurance21/10/2022', 'Insurance23/4/2022', 'Insurance15/5/2024',\n",
       "       'Insurance3/9/2020', 'Insurance2/7/2022', 'Insurance14/6/2023',\n",
       "       'Insurance18/9/2020', 'Insurance27/4/2022', 'Insurance17/10/2020',\n",
       "       'Insurance10/9/2020', 'Insurance25/2/2022', 'Insurance21/12/2021',\n",
       "       'Insurance11/2/2022', 'Insurance3/6/2022', 'Insurance12/2/2022',\n",
       "       'Insurance28/11/2020', 'Insurance16/1/2022', 'Insurance18/7/2022',\n",
       "       'Insurance2/9/2022', 'Insurance18/3/2022', 'Insurance13/7/2020',\n",
       "       'Insurance30/10/2020', 'Insurance10/11/2022',\n",
       "       'Insurance21/10/2020', 'Insurance7/7/2022', 'Insurance18/10/2020',\n",
       "       'Insurance6/10/2020', 'Insurance25/5/2022', 'Insurance6/9/2020',\n",
       "       'Insurance26/8/2020', 'Insurance29/11/2020', 'Insurance5/1/2022',\n",
       "       'Insurance4/2/2022', 'Insurance12/8/2020', 'Insurance6/8/2020',\n",
       "       'Insurance28/12/2019', 'Insurance31/10/2022', 'Insurance5/1/2023',\n",
       "       'Insurance6/1/2023', 'Insurance17/1/2023', 'Insurance19/2/2020',\n",
       "       'Insurance10/4/2022', 'Insurance9/2/2022', 'Insurance31/5/2023',\n",
       "       'Insurance27/6/2023', 'Insurance2/2/2023', 'Insurance15/4/2022',\n",
       "       'Insurance5/3/2023', 'Insurance23/2/2022', 'Insurance28/2/2023',\n",
       "       'Insurance12/2/2020', 'Insurance16/6/2023', 'Insurance29/8/2022',\n",
       "       'Insurance22/8/2023', 'Insurance3/9/2023', 'Insurance22/9/2022',\n",
       "       'Insurance11/3/2023', 'Insurance13/9/2020', 'Insurance12/7/2023',\n",
       "       'Insurance8/2/2023', 'Insurance2/6/2023', 'Insurance25/9/2022',\n",
       "       'Insurance10/6/2023', 'Insurance9/11/2023', 'Insurance3/8/2022',\n",
       "       'Insurance21/7/2022', 'Insurance8/2/2022', 'Insurance10/6/2022',\n",
       "       'Insurance14/9/2020', 'Insurance6/5/2022', 'Insurance16/6/2022',\n",
       "       'Insurance22/7/2022', 'Insurance9/1/2020', 'Insurance23/10/2020',\n",
       "       'Insurance13/3/2020', 'Insurance3/1/2023', 'Insurance5/8/2022',\n",
       "       'Insurance17/2/2022', 'Insurance12/9/2020', 'Insurance9/7/2022',\n",
       "       'Insurance25/8/2022', 'Insurance30/11/2022', 'Insurance2/4/2022',\n",
       "       'Insurance29/9/2022', 'Insurance25/1/2023', 'Insurance30/10/2022',\n",
       "       'Insurance27/8/2023', 'Insurance17/6/2022', 'Insurance17/11/2022',\n",
       "       'Insurance22/7/2023', 'Insurance14/5/2022', 'Insurance10/3/2023',\n",
       "       'Insurance4/12/2022', 'Insurance23/10/2022', 'Insurance3/2/2022',\n",
       "       'Insurance7/8/2022', 'Insurance22/8/2022', 'Insurance17/3/2022',\n",
       "       'Insurance4/9/2022', 'Insurance7/4/2022', 'Insurance11/4/2022',\n",
       "       'Insurance18/6/2022', 'Insurance2/3/2022', 'Insurance12/10/2020',\n",
       "       'Insurance2/9/2020', 'Insurance25/12/2019', 'Insurance19/8/2020',\n",
       "       'Insurance8/9/2020', 'Insurance15/2/2022', 'Insurance7/5/2020',\n",
       "       'Insurance23/11/2022', 'Insurance17/10/2022', 'Insurance24/7/2023',\n",
       "       'Insurance23/9/2020', 'Insurance5/2/2023', 'Insurance17/1/2024',\n",
       "       'Insurance31/7/2022', 'Insurance5/9/2022', 'Insurance7/2/2022',\n",
       "       'Insurance30/3/2020', 'Insurance9/8/2020', 'Insurance17/1/2020',\n",
       "       'Insurance25/2/2020', 'Insurance21/6/2020', 'Insurance14/7/2022',\n",
       "       'Insurance22/11/2022', 'Insurance11/1/2023', 'Insurance26/9/2020',\n",
       "       'Insurance19/3/2022', 'Insurance21/5/2022', 'Insurance20/7/2023',\n",
       "       'Insurance18/7/2023', 'Insurance4/12/2023', 'Insurance18/8/2023',\n",
       "       'Insurance24/9/2023', 'Insurance25/5/2020', 'Insurance5/6/2022',\n",
       "       'Insurance14/2/2022', 'Insurance27/3/2022', 'Insurance26/5/2022',\n",
       "       'Insurance25/3/2022', 'Insurance4/5/2022', 'Insurance13/5/2022',\n",
       "       'Insurance1/4/2022', 'Insurance29/7/2022', 'Insurance9/11/2022',\n",
       "       'Insurance26/11/2022', 'Insurance9/5/2022', 'Insurance18/2/2023',\n",
       "       'Insurance2/1/2023', 'Insurance16/10/2022', 'Insurance24/9/2022',\n",
       "       'Insurance4/3/2022', 'Insurance29/10/2022', 'Insurance28/3/2023',\n",
       "       'Insurance11/8/2023', 'Insurance24/4/2022', 'Insurance19/2/2022',\n",
       "       'Insurance16/8/2023', 'Insurance24/12/2022', 'Insurance15/7/2022',\n",
       "       'Insurance1/8/2022', 'Insurance8/7/2022', 'Insurance28/11/2022',\n",
       "       'Insurance20/8/2022', 'Insurance11/5/2022', 'Insurance22/10/2022',\n",
       "       'Insurance3/12/2022', 'Insurance7/5/2022', 'Insurance16/2/2022',\n",
       "       'Insurance5/1/2020', 'Insurance16/11/2022', 'Insurance10/10/2022',\n",
       "       'Insurance20/3/2022', 'Insurance9/6/2022', 'Insurance1/9/2020',\n",
       "       'Insurance22/8/2020', 'Insurance29/8/2020', 'Insurance29/5/2020',\n",
       "       'Insurance29/7/2020', 'Insurance2/3/2020', 'Insurance3/5/2020',\n",
       "       'Insurance31/12/2019', 'Insurance3/3/2020', 'Insurance24/2/2020',\n",
       "       'Insurance21/11/2019', 'Insurance26/7/2019', 'Insurance9/2/2020',\n",
       "       'Insurance5/9/2020', 'Insurance26/1/2020', 'Insurance2/6/2019',\n",
       "       'Insurance13/4/2022', 'Insurance28/8/2020', 'Insurance26/3/2022',\n",
       "       'Insurance30/4/2022', 'Insurance19/10/2022', 'Insurance22/2/2022',\n",
       "       'Insurance19/6/2020', 'Insurance29/12/2019', 'Insurance28/4/2022',\n",
       "       'Insurance22/9/2020', 'Insurance9/7/2019', 'Insurance11/9/2020',\n",
       "       'Insurance21/3/2022', 'Insurance27/4/2020', 'Insurance6/8/2023',\n",
       "       'Insurance12/3/2022', 'Insurance15/2/2023', 'Insurance1/10/2020',\n",
       "       'Insurance6/3/2022', 'Insurance22/6/2022', 'Insurance26/5/2020',\n",
       "       'Insurance7/11/2022', 'Insurance29/3/2022', 'Insurance25/6/2020',\n",
       "       'Insurance15/9/2020', 'Insurance24/5/2020', 'Insurance28/9/2019',\n",
       "       'Insurance24/4/2020', 'Insurance11/7/2020', 'Insurance23/1/2020',\n",
       "       'Insurance6/4/2020', 'Insurance26/3/2020', 'Insurance25/9/2019',\n",
       "       'Insurance14/11/2019', 'Insurance16/1/2020', 'Insurance15/10/2019',\n",
       "       'Insurance16/11/2019', 'Insurance28/6/2019', 'Insurance4/4/2022',\n",
       "       'Insurance4/3/2023', 'Insurance27/9/2022', 'Insurance8/5/2022',\n",
       "       'Insurance20/1/2023', 'Insurance13/9/2022', 'Insurance9/4/2022',\n",
       "       'Insurance5/3/2020', 'Insurance2/6/2022', 'Insurance3/3/2022',\n",
       "       'Insurance13/3/2022', 'Insurance27/8/2022', 'Insurance31/8/2019',\n",
       "       'Insurance1/2/2020', 'Insurance28/11/2019', 'Insurance26/7/2022',\n",
       "       'Insurance14/1/2023', 'Insurance15/6/2022', 'Insurance23/7/2022',\n",
       "       'Insurance29/5/2023', 'Insurance17/11/2023', 'Insurance1/10/2022',\n",
       "       'Insurance21/6/2022', 'Insurance28/6/2020', 'Insurance6/10/2022',\n",
       "       'Insurance28/3/2022', 'Insurance1/1/2023', 'Insurance24/5/2023',\n",
       "       'Insurance12/3/2023', 'Insurance23/6/2022', 'Insurance16/7/2023',\n",
       "       'Insurance1/9/2022', 'Insurance7/3/2022', 'Insurance17/4/2022',\n",
       "       'Insurance28/12/2022', 'Insurance26/2/2023', 'Insurance8/12/2022',\n",
       "       'Insurance16/10/2019', 'Insurance7/8/2019', 'Insurance6/9/2022',\n",
       "       'Insurance29/4/2022', 'Insurance29/12/2022', 'Insurance28/2/2022',\n",
       "       'Insurance17/7/2020', 'Insurance14/5/2020', 'Insurance8/8/2020',\n",
       "       'Insurance15/8/2020', 'Insurance10/10/2019', 'Insurance11/11/2019',\n",
       "       'Insurance3/2/2020', 'Insurance22/12/2019', 'Insurance26/6/2019',\n",
       "       'Insurance11/1/2020', 'Insurance24/4/2019', 'Insurance7/3/2020',\n",
       "       'Insurance21/12/2019', 'Insurance8/10/2022', 'Insurance2/7/2023',\n",
       "       'Insurance1/3/2022', 'Insurance14/10/2022', 'Insurance20/10/2022',\n",
       "       'Insurance4/6/2023', 'Insurance9/3/2022', 'Insurance17/9/2020',\n",
       "       'Insurance19/7/2020', 'Insurance13/12/2022', 'Insurance21/9/2019',\n",
       "       'Insurance20/6/2020', 'Insurance19/1/2020', 'Insurance21/1/2020',\n",
       "       'Insurance30/12/2022', 'Insurance14/2/2024', 'Insurance5/5/2022',\n",
       "       'Insurance30/6/2022', 'Insurance9/8/2022', 'Insurance3/7/2022',\n",
       "       'Insurance5/7/2022', 'Insurance15/10/2022', 'Insurance13/2/2020',\n",
       "       'Insurance24/6/2020', 'Insurance9/7/2020', 'Insurance6/6/2020',\n",
       "       'Insurance6/3/2020', 'Insurance10/3/2020', 'Insurance9/6/2020',\n",
       "       'Insurance27/3/2020', 'Insurance6/5/2020', 'Insurance14/7/2020',\n",
       "       'Insurance30/12/2019', 'Insurance26/11/2019', 'Insurance15/1/2020',\n",
       "       'Insurance27/10/2019'], dtype=object)"
      ]
     },
     "execution_count": 559,
     "metadata": {},
     "output_type": "execute_result"
    }
   ],
   "source": [
    "df.Insurance.unique()"
   ]
  },
  {
   "cell_type": "code",
   "execution_count": 560,
   "id": "a1089d66-9f1a-476e-a4c1-320f14120b9d",
   "metadata": {},
   "outputs": [
    {
     "data": {
      "text/plain": [
       "Insurance_Type\n",
       "Insurance TypeComprehensive        6506\n",
       "Insurance TypeInsurance Expired    5426\n",
       "Insurance TypeComp                 5295\n",
       "Insurance TypeExpired              3976\n",
       "Insurance Type3rd Party            3642\n",
       "Insurance TypeZero Depreciation    2884\n",
       "Insurance TypeThird_party          2648\n",
       "Insurance TypeZero_Dep             1750\n",
       "Insurance TypeNot Available          24\n",
       "Insurance TypeNormal                  5\n",
       "Insurance TypeNA                      1\n",
       "Insurance Typenull                    1\n",
       "Name: count, dtype: int64"
      ]
     },
     "execution_count": 560,
     "metadata": {},
     "output_type": "execute_result"
    }
   ],
   "source": [
    "df[\"Insurance_Type\"].value_counts()"
   ]
  },
  {
   "cell_type": "code",
   "execution_count": 561,
   "id": "e4b99d69-ac1e-46fc-87b5-f9270ff7a01f",
   "metadata": {},
   "outputs": [
    {
     "data": {
      "text/plain": [
       "array(['Insurance TypeInsurance Expired', 'Insurance TypeComp',\n",
       "       'Insurance TypeExpired', 'Insurance TypeThird_party',\n",
       "       'Insurance TypeZero_Dep', 'Insurance TypeNA',\n",
       "       'Insurance TypeZero Depreciation', 'Insurance Type3rd Party',\n",
       "       'Insurance TypeComprehensive', 'Insurance Typenull',\n",
       "       'Insurance TypeNot Available', 'Insurance TypeNormal'],\n",
       "      dtype=object)"
      ]
     },
     "execution_count": 561,
     "metadata": {},
     "output_type": "execute_result"
    }
   ],
   "source": [
    "df[\"Insurance_Type\"].unique()"
   ]
  },
  {
   "cell_type": "code",
   "execution_count": 562,
   "id": "0049c08c-b711-42f9-ab01-b260e1c5d537",
   "metadata": {},
   "outputs": [
    {
     "data": {
      "text/plain": [
       "Index(['Name', 'Price', 'Rating', 'city', 'Kilometers', 'Year_of_Purchase',\n",
       "       'Owner', 'Fuel_Type', 'Transmission', 'RTO', 'Insurance',\n",
       "       'Insurance_Type'],\n",
       "      dtype='object')"
      ]
     },
     "execution_count": 562,
     "metadata": {},
     "output_type": "execute_result"
    }
   ],
   "source": [
    "df.columns"
   ]
  },
  {
   "cell_type": "code",
   "execution_count": 563,
   "id": "f33a8db8-8392-42bb-82a3-b4326e88ea17",
   "metadata": {},
   "outputs": [
    {
     "data": {
      "text/html": [
       "<div>\n",
       "<style scoped>\n",
       "    .dataframe tbody tr th:only-of-type {\n",
       "        vertical-align: middle;\n",
       "    }\n",
       "\n",
       "    .dataframe tbody tr th {\n",
       "        vertical-align: top;\n",
       "    }\n",
       "\n",
       "    .dataframe thead th {\n",
       "        text-align: right;\n",
       "    }\n",
       "</style>\n",
       "<table border=\"1\" class=\"dataframe\">\n",
       "  <thead>\n",
       "    <tr style=\"text-align: right;\">\n",
       "      <th></th>\n",
       "      <th>city</th>\n",
       "    </tr>\n",
       "  </thead>\n",
       "  <tbody>\n",
       "    <tr>\n",
       "      <th>count</th>\n",
       "      <td>32158.000000</td>\n",
       "    </tr>\n",
       "    <tr>\n",
       "      <th>mean</th>\n",
       "      <td>2883.844207</td>\n",
       "    </tr>\n",
       "    <tr>\n",
       "      <th>std</th>\n",
       "      <td>1569.462476</td>\n",
       "    </tr>\n",
       "    <tr>\n",
       "      <th>min</th>\n",
       "      <td>290.000000</td>\n",
       "    </tr>\n",
       "    <tr>\n",
       "      <th>25%</th>\n",
       "      <td>1692.000000</td>\n",
       "    </tr>\n",
       "    <tr>\n",
       "      <th>50%</th>\n",
       "      <td>2423.000000</td>\n",
       "    </tr>\n",
       "    <tr>\n",
       "      <th>75%</th>\n",
       "      <td>4709.000000</td>\n",
       "    </tr>\n",
       "    <tr>\n",
       "      <th>max</th>\n",
       "      <td>5732.000000</td>\n",
       "    </tr>\n",
       "  </tbody>\n",
       "</table>\n",
       "</div>"
      ],
      "text/plain": [
       "               city\n",
       "count  32158.000000\n",
       "mean    2883.844207\n",
       "std     1569.462476\n",
       "min      290.000000\n",
       "25%     1692.000000\n",
       "50%     2423.000000\n",
       "75%     4709.000000\n",
       "max     5732.000000"
      ]
     },
     "execution_count": 563,
     "metadata": {},
     "output_type": "execute_result"
    }
   ],
   "source": [
    "df.describe()"
   ]
  },
  {
   "cell_type": "code",
   "execution_count": 564,
   "id": "3833ce86-1607-40b4-b106-1579135bf26b",
   "metadata": {},
   "outputs": [],
   "source": [
    "import matplotlib.pyplot as plt\n",
    "import seaborn as sns"
   ]
  },
  {
   "cell_type": "code",
   "execution_count": 565,
   "id": "f5751501-a985-4594-b619-2f6bb5dc43f1",
   "metadata": {},
   "outputs": [
    {
     "data": {
      "image/png": "[encoded data removed]",
      "text/plain": [
       "<Figure size 640x480 with 1 Axes>"
      ]
     },
     "metadata": {},
     "output_type": "display_data"
    }
   ],
   "source": [
    "sns.histplot(x= df[\"city\"])\n",
    "plt.show()"
   ]
  },
  {
   "cell_type": "markdown",
   "id": "0e7322db-600d-41a4-b25f-72a85ed7c03e",
   "metadata": {},
   "source": [
    "# Data preprocessing"
   ]
  },
  {
   "cell_type": "markdown",
   "id": "de3d1082-b21d-4ed9-b3a9-5bf18d6dee25",
   "metadata": {},
   "source": [
    "* data cleaning"
   ]
  },
  {
   "cell_type": "markdown",
   "id": "cdbdd511-e78e-48b8-820d-5b47eb4fc4d2",
   "metadata": {},
   "source": [
    "# dealing with the wrong data types and converting from one type to another"
   ]
  },
  {
   "cell_type": "code",
   "execution_count": 566,
   "id": "91608921-c6cb-4581-ad53-6906ad313adb",
   "metadata": {},
   "outputs": [],
   "source": [
    "df.drop(columns = [\"Name\",\"city\"],inplace = True)"
   ]
  },
  {
   "cell_type": "code",
   "execution_count": 567,
   "id": "a7ac4ac5-e022-477b-bf20-9b53d28e1f27",
   "metadata": {},
   "outputs": [
    {
     "data": {
      "text/plain": [
       "38"
      ]
     },
     "execution_count": 567,
     "metadata": {},
     "output_type": "execute_result"
    }
   ],
   "source": [
    "df['Rating'].nunique()"
   ]
  },
  {
   "cell_type": "code",
   "execution_count": 568,
   "id": "7567655c-9e39-4a7e-81bb-32e620838f5c",
   "metadata": {},
   "outputs": [
    {
     "data": {
      "text/plain": [
       "Price               object\n",
       "Rating              object\n",
       "Kilometers          object\n",
       "Year_of_Purchase    object\n",
       "Owner               object\n",
       "Fuel_Type           object\n",
       "Transmission        object\n",
       "RTO                 object\n",
       "Insurance           object\n",
       "Insurance_Type      object\n",
       "dtype: object"
      ]
     },
     "execution_count": 568,
     "metadata": {},
     "output_type": "execute_result"
    }
   ],
   "source": [
    "df.dtypes"
   ]
  },
  {
   "cell_type": "code",
   "execution_count": 569,
   "id": "396d8c92-e731-4ca6-9efd-c7ad06d9172c",
   "metadata": {},
   "outputs": [
    {
     "data": {
      "text/plain": [
       "array(['₹ 174,699', '₹ 333,999', '₹ 353,199', ..., '₹ 1,094,733',\n",
       "       '₹ 496,000', '₹ 96,500'], dtype=object)"
      ]
     },
     "execution_count": 569,
     "metadata": {},
     "output_type": "execute_result"
    }
   ],
   "source": [
    "df[\"Price\"].unique()"
   ]
  },
  {
   "cell_type": "code",
   "execution_count": 570,
   "id": "dbfbbd07-5c4f-4187-894a-9391165cc204",
   "metadata": {},
   "outputs": [
    {
     "data": {
      "text/plain": [
       "0        174699\n",
       "1        333999\n",
       "2        353199\n",
       "3        237899\n",
       "4        300699\n",
       "          ...  \n",
       "32153    150000\n",
       "32154    250000\n",
       "32155    500000\n",
       "32156    600000\n",
       "32157    484000\n",
       "Name: Price, Length: 32158, dtype: int32"
      ]
     },
     "execution_count": 570,
     "metadata": {},
     "output_type": "execute_result"
    }
   ],
   "source": [
    "df[\"Price\"] = df[\"Price\"].replace({'₹':'',',':''},regex = True)\n",
    "df[\"Price\"] = pd.to_numeric(df[\"Price\"],errors = \"coerce\")\n",
    "df[\"Price\"] = df[\"Price\"].astype(int)\n",
    "df[\"Price\"]"
   ]
  },
  {
   "cell_type": "code",
   "execution_count": 571,
   "id": "0df5bdfc-66a7-480e-bdbf-3c7aeb8cc40f",
   "metadata": {},
   "outputs": [
    {
     "data": {
      "text/plain": [
       "0          4out of 5\n",
       "1        4.2out of 5\n",
       "2        4.3out of 5\n",
       "3        4.4out of 5\n",
       "4        4.4out of 5\n",
       "            ...     \n",
       "32153    3.4out of 5\n",
       "32154    3.5out of 5\n",
       "32155    3.6out of 5\n",
       "32156    4.7out of 5\n",
       "32157    3.8out of 5\n",
       "Name: Rating, Length: 32158, dtype: object"
      ]
     },
     "execution_count": 571,
     "metadata": {},
     "output_type": "execute_result"
    }
   ],
   "source": [
    "df[\"Rating\"]"
   ]
  },
  {
   "cell_type": "code",
   "execution_count": 572,
   "id": "db8ae42b-ffec-43c1-bcc7-231b4e961033",
   "metadata": {},
   "outputs": [
    {
     "name": "stdout",
     "output_type": "stream",
     "text": [
      "0        4.0\n",
      "1        4.2\n",
      "2        4.3\n",
      "3        4.4\n",
      "4        4.4\n",
      "        ... \n",
      "32153    3.4\n",
      "32154    3.5\n",
      "32155    3.6\n",
      "32156    4.7\n",
      "32157    3.8\n",
      "Name: Rating, Length: 32158, dtype: float64\n"
     ]
    }
   ],
   "source": [
    "df[\"Rating\"] = df[\"Rating\"].str.extract(r'(\\d+\\.\\d+|\\d+)').astype(float)\n",
    "\n",
    "print(df[\"Rating\"])"
   ]
  },
  {
   "cell_type": "code",
   "execution_count": 573,
   "id": "c22950af-23b8-4551-af2d-c5973faa6fd0",
   "metadata": {},
   "outputs": [
    {
     "data": {
      "text/plain": [
       "0         Kilometers34,854 km\n",
       "1         Kilometers39,541 km\n",
       "2         Kilometers23,233 km\n",
       "3         Kilometers27,748 km\n",
       "4         Kilometers12,238 km\n",
       "                 ...         \n",
       "32153     Kilometers95,792 km\n",
       "32154     Kilometers54,505 km\n",
       "32155    Kilometers161,322 km\n",
       "32156     Kilometers52,006 km\n",
       "32157     Kilometers88,818 km\n",
       "Name: Kilometers, Length: 32158, dtype: object"
      ]
     },
     "execution_count": 573,
     "metadata": {},
     "output_type": "execute_result"
    }
   ],
   "source": [
    "df[\"Kilometers\"]"
   ]
  },
  {
   "cell_type": "code",
   "execution_count": 574,
   "id": "89dbaa2b-f1fd-4c96-aca6-1651c6dc68f0",
   "metadata": {},
   "outputs": [
    {
     "name": "stdout",
     "output_type": "stream",
     "text": [
      "0         34854\n",
      "1         39541\n",
      "2         23233\n",
      "3         27748\n",
      "4         12238\n",
      "          ...  \n",
      "32153     95792\n",
      "32154     54505\n",
      "32155    161322\n",
      "32156     52006\n",
      "32157     88818\n",
      "Name: Kilometers, Length: 32158, dtype: int64\n"
     ]
    }
   ],
   "source": [
    "# Remove the \"Kilometers\" and \" km\" text, then convert to numeric\n",
    "df[\"Kilometers\"] = df[\"Kilometers\"].str.replace(r'Kilometers| km |,', '', regex=True)\n",
    "df[\"Kilometers\"] = df[\"Kilometers\"].replace({\",\":\"\",\"km\":\"\"},regex = True)\n",
    "\n",
    "# Convert the column to numeric (remove any non-numeric values)\n",
    "df[\"Kilometers\"] = pd.to_numeric(df[\"Kilometers\"])\n",
    "\n",
    "# Check the result\n",
    "print(df[\"Kilometers\"])"
   ]
  },
  {
   "cell_type": "code",
   "execution_count": 575,
   "id": "65f2e7b3-f8bb-4272-912c-5b96a0d0509d",
   "metadata": {},
   "outputs": [
    {
     "data": {
      "text/plain": [
       "0             Year of PurchaseMay 2010\n",
       "1            Year of PurchaseJuly 2013\n",
       "2           Year of PurchaseMarch 2014\n",
       "3        Year of PurchaseNovember 2013\n",
       "4          Year of PurchaseAugust 2017\n",
       "                     ...              \n",
       "32153    Year of PurchaseFebruary 2008\n",
       "32154    Year of PurchaseNovember 2015\n",
       "32155     Year of PurchaseJanuary 2008\n",
       "32156     Year of PurchaseOctober 2016\n",
       "32157         Year of PurchaseMay 2007\n",
       "Name: Year_of_Purchase, Length: 32158, dtype: object"
      ]
     },
     "execution_count": 575,
     "metadata": {},
     "output_type": "execute_result"
    }
   ],
   "source": [
    "df[\"Year_of_Purchase\"]"
   ]
  },
  {
   "cell_type": "code",
   "execution_count": 576,
   "id": "8dfbf2e4-19e8-4f32-b3f5-82700d17f977",
   "metadata": {},
   "outputs": [
    {
     "name": "stdout",
     "output_type": "stream",
     "text": [
      "0        2010\n",
      "1        2013\n",
      "2        2014\n",
      "3        2013\n",
      "4        2017\n",
      "         ... \n",
      "32153    2008\n",
      "32154    2015\n",
      "32155    2008\n",
      "32156    2016\n",
      "32157    2007\n",
      "Name: Year_of_Purchase, Length: 32158, dtype: int64\n"
     ]
    }
   ],
   "source": [
    "# Extract the year from the text\n",
    "df[\"Year_of_Purchase\"] = df[\"Year_of_Purchase\"].str.extract(r'(\\d{4})')\n",
    "\n",
    "# Convert the extracted year to numeric\n",
    "df[\"Year_of_Purchase\"] = pd.to_numeric(df[\"Year_of_Purchase\"], errors='coerce')\n",
    "\n",
    "# Check the result\n",
    "print(df[\"Year_of_Purchase\"])"
   ]
  },
  {
   "cell_type": "code",
   "execution_count": 577,
   "id": "187ed3c3-266b-4273-861d-cb01d74f69bb",
   "metadata": {},
   "outputs": [
    {
     "data": {
      "text/plain": [
       "0         OwnerFirst Owner\n",
       "1        OwnerSecond Owner\n",
       "2        OwnerSecond Owner\n",
       "3         OwnerFirst Owner\n",
       "4        OwnerSecond Owner\n",
       "               ...        \n",
       "32153     OwnerThird Owner\n",
       "32154    OwnerSecond Owner\n",
       "32155    OwnerSecond Owner\n",
       "32156     OwnerFirst Owner\n",
       "32157    OwnerSecond Owner\n",
       "Name: Owner, Length: 32158, dtype: object"
      ]
     },
     "execution_count": 577,
     "metadata": {},
     "output_type": "execute_result"
    }
   ],
   "source": [
    "df[\"Owner\"]"
   ]
  },
  {
   "cell_type": "code",
   "execution_count": 578,
   "id": "66560432-f53f-4e88-ae12-888df7198bae",
   "metadata": {},
   "outputs": [
    {
     "data": {
      "text/plain": [
       "array(['FuelPetrol', 'FuelDiesel', 'FuelPetrol + LPG', 'FuelPetrol + CNG',\n",
       "       'FuelElectric', 'FuelHybrid'], dtype=object)"
      ]
     },
     "execution_count": 578,
     "metadata": {},
     "output_type": "execute_result"
    }
   ],
   "source": [
    "df[\"Fuel_Type\"].unique()"
   ]
  },
  {
   "cell_type": "code",
   "execution_count": 579,
   "id": "ad42422c-3fc8-4765-a0f1-6c8a0f4c696e",
   "metadata": {},
   "outputs": [
    {
     "name": "stdout",
     "output_type": "stream",
     "text": [
      "32153    Petrol\n",
      "32154    Diesel\n",
      "32155    Diesel\n",
      "32156    Diesel\n",
      "32157    Diesel\n",
      "Name: Fuel_Type, dtype: object\n"
     ]
    }
   ],
   "source": [
    "df[\"Fuel_Type\"] = (df[\"Fuel_Type\"].str.replace(r'Fuel', '', regex=True).str.strip())\n",
    "\n",
    "# Check the result\n",
    "print(df[\"Fuel_Type\"].tail())"
   ]
  },
  {
   "cell_type": "code",
   "execution_count": 580,
   "id": "84d79a88-da67-4866-8438-489f15a1c9f8",
   "metadata": {},
   "outputs": [
    {
     "data": {
      "text/plain": [
       "array(['Petrol', 'Diesel', 'Petrol + LPG', 'Petrol + CNG', 'Electric',\n",
       "       'Hybrid'], dtype=object)"
      ]
     },
     "execution_count": 580,
     "metadata": {},
     "output_type": "execute_result"
    }
   ],
   "source": [
    "df[\"Fuel_Type\"].unique()"
   ]
  },
  {
   "cell_type": "code",
   "execution_count": 581,
   "id": "f342fac0-e874-412a-ab96-1270708a9b55",
   "metadata": {},
   "outputs": [],
   "source": [
    "df[\"Transmission\"] = df[\"Transmission\"].str.replace(r\"Transmission\",\"\")"
   ]
  },
  {
   "cell_type": "code",
   "execution_count": 582,
   "id": "e9b7e078-12b6-4b0f-bcea-7356fa4807a2",
   "metadata": {},
   "outputs": [
    {
     "data": {
      "text/plain": [
       "array(['MANUAL', nan, 'AUTOMATIC'], dtype=object)"
      ]
     },
     "execution_count": 582,
     "metadata": {},
     "output_type": "execute_result"
    }
   ],
   "source": [
    "df[\"Transmission\"].unique()"
   ]
  },
  {
   "cell_type": "code",
   "execution_count": 583,
   "id": "e261867e-10c5-4ade-92b2-d0f6e9c7f156",
   "metadata": {},
   "outputs": [],
   "source": [
    "df[\"RTO\"] = df[\"RTO\"].str.replace(r\"RTO\",\"\")"
   ]
  },
  {
   "cell_type": "code",
   "execution_count": 584,
   "id": "403d2cbc-2028-443e-bd93-4704dc6839ae",
   "metadata": {},
   "outputs": [
    {
     "data": {
      "text/plain": [
       "0        AP09\n",
       "1        AP28\n",
       "2        AP28\n",
       "3        AP13\n",
       "4        TS10\n",
       "         ... \n",
       "32153    CH04\n",
       "32154    PB13\n",
       "32155    HR03\n",
       "32156    PB65\n",
       "32157    PB65\n",
       "Name: RTO, Length: 32158, dtype: object"
      ]
     },
     "execution_count": 584,
     "metadata": {},
     "output_type": "execute_result"
    }
   ],
   "source": [
    "df[\"RTO\"]"
   ]
  },
  {
   "cell_type": "code",
   "execution_count": 585,
   "id": "c4cc1ed6-daa0-481a-959e-fdae4d61b7c9",
   "metadata": {},
   "outputs": [
    {
     "data": {
      "text/plain": [
       "array([nan, 'Insurance6/8/2021', 'Insurance28/4/2021',\n",
       "       'Insurance1/1/2022', 'Insurance30/3/2021', 'Insurance1/12/2021',\n",
       "       'Insurance15/8/2021', 'Insurance31/12/2020', 'Insurance31/5/2021',\n",
       "       'Insurance27/10/2021', 'Insurance16/9/2021', 'Insurance23/3/2021',\n",
       "       'Insurance2/2/2022', 'Insurance2/3/2023', 'Insurance27/5/2021',\n",
       "       'Insurance29/8/2021', 'Insurance19/2/2021', 'Insurance9/7/2021',\n",
       "       'Insurance22/4/2022', 'Insurance19/11/2021', 'Insurance20/2/2021',\n",
       "       'Insurance26/2/2021', 'Insurance4/5/2021', 'Insurance17/8/2020',\n",
       "       'Insurance14/9/2021', 'Insurance14/3/2021', 'Insurance27/3/2021',\n",
       "       'Insurance18/4/2021', 'Insurance1/6/2021', 'Insurance20/9/2021',\n",
       "       'Insurance9/9/2021', 'Insurance7/9/2021', 'Insurance31/12/2021',\n",
       "       'Insurance20/12/2021', 'Insurance4/1/2022', 'Insurance2/12/2021',\n",
       "       'Insurance30/10/2021', 'Insurance28/9/2021', 'Insurance19/6/2021',\n",
       "       'Insurance27/7/2021', 'Insurance16/3/2021', 'Insurance6/2/2022',\n",
       "       'Insurance3/7/2021', 'Insurance29/9/2020', 'Insurance8/8/2021',\n",
       "       'Insurance16/2/2021', 'Insurance17/5/2021', 'Insurance23/2/2021',\n",
       "       'Insurance10/10/2020', 'Insurance26/9/2021', 'Insurance27/6/2021',\n",
       "       'Insurance10/3/2021', 'Insurance12/12/2021', 'Insurance23/5/2020',\n",
       "       'Insurance21/11/2021', 'Insurance29/1/2021', 'Insurance23/7/2021',\n",
       "       'Insurance1/11/2021', 'Insurance5/11/2021', 'Insurance13/6/2021',\n",
       "       'Insurance9/6/2021', 'Insurance29/3/2021', 'Insurance19/9/2021',\n",
       "       'Insurance9/9/2020', 'Insurance13/10/2020', 'Insurance23/10/2021',\n",
       "       'Insurance9/8/2021', 'Insurance8/9/2021', 'Insurance21/12/2020',\n",
       "       'Insurance15/11/2021', 'Insurance17/11/2021',\n",
       "       'Insurance30/11/2020', 'Insurance12/10/2021', 'Insurance7/2/2021',\n",
       "       'Insurance11/8/2021', 'Insurance24/2/2021', 'Insurance21/5/2021',\n",
       "       'Insurance12/6/2021', 'Insurance19/7/2021', 'Insurance4/9/2021',\n",
       "       'Insurance22/1/2021', 'Insurance28/8/2021', 'Insurance26/8/2021',\n",
       "       'Insurance6/1/2022', 'Insurance28/12/2021', 'Insurance6/5/2021',\n",
       "       'Insurance5/5/2021', 'Insurance6/11/2021', 'Insurance24/12/2021',\n",
       "       'Insurance30/5/2021', 'Insurance13/10/2021', 'Insurance24/3/2021',\n",
       "       'Insurance18/3/2021', 'Insurance14/6/2021', 'Insurance9/1/2021',\n",
       "       'Insurance29/9/2021', 'Insurance31/1/2021', 'Insurance18/12/2021',\n",
       "       'Insurance14/11/2021', 'Insurance29/1/2022', 'Insurance7/10/2021',\n",
       "       'Insurance24/9/2020', 'Insurance30/8/2021', 'Insurance30/9/2021',\n",
       "       'Insurance11/5/2021', 'Insurance17/1/2021', 'Insurance19/1/2022',\n",
       "       'Insurance9/2/2021', 'Insurance21/3/2021', 'Insurance11/10/2021',\n",
       "       'Insurance5/10/2021', 'Insurance5/3/2021', 'Insurance15/2/2021',\n",
       "       'Insurance16/1/2021', 'Insurance1/3/2021', 'Insurance17/3/2021',\n",
       "       'Insurance16/10/2021', 'Insurance29/7/2021', 'Insurance7/6/2021',\n",
       "       'Insurance4/3/2021', 'Insurance23/8/2021', 'Insurance11/4/2021',\n",
       "       'Insurance28/6/2021', 'Insurance4/10/2021', 'Insurance23/5/2021',\n",
       "       'Insurance27/11/2021', 'Insurance15/3/2021', 'Insurance1/1/2021',\n",
       "       'Insurance14/1/2022', 'Insurance22/10/2021', 'Insurance13/9/2021',\n",
       "       'Insurance30/7/2021', 'Insurance4/12/2021', 'Insurance10/11/2021',\n",
       "       'Insurance7/1/2021', 'Insurance10/8/2021', 'Insurance24/8/2021',\n",
       "       'Insurance16/12/2021', 'Insurance10/12/2021', 'Insurance19/8/2021',\n",
       "       'Insurance1/11/2020', 'Insurance16/5/2022', 'Insurance6/7/2021',\n",
       "       'Insurance24/7/2021', 'Insurance27/9/2021', 'Insurance21/10/2021',\n",
       "       'Insurance5/1/2021', 'Insurance16/6/2021', 'Insurance27/9/2020',\n",
       "       'Insurance26/3/2021', 'Insurance6/12/2020', 'Insurance7/4/2021',\n",
       "       'Insurance11/6/2021', 'Insurance20/7/2021', 'Insurance26/4/2021',\n",
       "       'Insurance5/2/2021', 'Insurance29/12/2020', 'Insurance11/3/2022',\n",
       "       'Insurance30/9/2020', 'Insurance25/4/2021', 'Insurance21/11/2020',\n",
       "       'Insurance24/12/2020', 'Insurance2/3/2021', 'Insurance27/2/2021',\n",
       "       'Insurance10/7/2021', 'Insurance18/10/2021', 'Insurance11/9/2022',\n",
       "       'Insurance13/12/2020', 'Insurance6/11/2022', 'Insurance15/5/2022',\n",
       "       'Insurance10/10/2021', 'Insurance2/7/2021', 'Insurance13/2/2021',\n",
       "       'Insurance18/6/2021', 'Insurance20/10/2021', 'Insurance16/11/2021',\n",
       "       'Insurance5/11/2022', 'Insurance18/5/2021', 'Insurance30/11/2021',\n",
       "       'Insurance28/5/2021', 'Insurance6/6/2021', 'Insurance31/7/2021',\n",
       "       'Insurance30/12/2020', 'Insurance5/6/2021', 'Insurance27/12/2020',\n",
       "       'Insurance21/6/2021', 'Insurance10/12/2020', 'Insurance29/10/2021',\n",
       "       'Insurance6/10/2021', 'Insurance16/11/2020', 'Insurance21/7/2023',\n",
       "       'Insurance23/12/2020', 'Insurance28/7/2021', 'Insurance25/2/2021',\n",
       "       'Insurance22/6/2021', 'Insurance8/12/2021', 'Insurance7/3/2021',\n",
       "       'Insurance28/10/2021', 'Insurance19/10/2021', 'Insurance3/2/2023',\n",
       "       'Insurance25/3/2021', 'Insurance1/2/2021', 'Insurance14/8/2021',\n",
       "       'Insurance25/11/2020', 'Insurance26/2/2022', 'Insurance28/9/2022',\n",
       "       'Insurance22/8/2021', 'Insurance31/10/2021', 'Insurance26/10/2021',\n",
       "       'Insurance22/5/2021', 'Insurance25/11/2021', 'Insurance24/6/2021',\n",
       "       'Insurance23/9/2021', 'Insurance6/3/2021', 'Insurance22/12/2020',\n",
       "       'Insurance9/12/2020', 'Insurance8/11/2021', 'Insurance6/2/2021',\n",
       "       'Insurance29/5/2021', 'Insurance5/4/2021', 'Insurance22/4/2021',\n",
       "       'Insurance17/10/2021', 'Insurance22/2/2021', 'Insurance18/7/2021',\n",
       "       'Insurance14/12/2021', 'Insurance12/4/2021', 'Insurance11/3/2021',\n",
       "       'Insurance8/3/2021', 'Insurance14/10/2021', 'Insurance11/9/2021',\n",
       "       'Insurance10/2/2021', 'Insurance2/1/2022', 'Insurance31/8/2021',\n",
       "       'Insurance17/8/2021', 'Insurance23/1/2021', 'Insurance3/11/2020',\n",
       "       'Insurance25/7/2021', 'Insurance7/11/2021', 'Insurance21/9/2021',\n",
       "       'Insurance25/1/2022', 'Insurance5/9/2021', 'Insurance25/4/2022',\n",
       "       'Insurance27/4/2021', 'Insurance20/11/2021', 'Insurance25/12/2022',\n",
       "       'Insurance31/10/2020', 'Insurance29/9/2023', 'Insurance6/1/2021',\n",
       "       'Insurance31/3/2021', 'Insurance29/4/2021', 'Insurance30/9/2022',\n",
       "       'Insurance20/12/2020', 'Insurance20/5/2022', 'Insurance8/7/2021',\n",
       "       'Insurance5/8/2021', 'Insurance5/10/2022', 'Insurance9/12/2021',\n",
       "       'Insurance3/12/2021', 'Insurance2/1/2021', 'Insurance24/11/2020',\n",
       "       'Insurance13/5/2021', 'Insurance12/2/2021', 'Insurance3/8/2021',\n",
       "       'Insurance18/9/2021', 'Insurance14/12/2020', 'Insurance8/12/2020',\n",
       "       'Insurance28/10/2022', 'Insurance17/6/2021', 'Insurance10/9/2021',\n",
       "       'Insurance24/10/2021', 'Insurance3/11/2021', 'Insurance29/11/2021',\n",
       "       'Insurance19/12/2022', 'Insurance14/4/2021', 'Insurance7/12/2021',\n",
       "       'Insurance12/8/2022', 'Insurance9/3/2021', 'Insurance26/1/2023',\n",
       "       'Insurance1/2/2022', 'Insurance23/12/2021', 'Insurance22/12/2021',\n",
       "       'Insurance6/4/2021', 'Insurance19/1/2021', 'Insurance2/10/2021',\n",
       "       'Insurance20/3/2021', 'Insurance17/9/2021', 'Insurance17/7/2021',\n",
       "       'Insurance26/11/2020', 'Insurance1/10/2021', 'Insurance3/9/2021',\n",
       "       'Insurance27/12/2021', 'Insurance2/8/2021', 'Insurance5/12/2022',\n",
       "       'Insurance26/1/2021', 'Insurance19/12/2020', 'Insurance19/3/2021',\n",
       "       'Insurance30/6/2021', 'Insurance15/1/2021', 'Insurance18/1/2021',\n",
       "       'Insurance7/11/2020', 'Insurance28/1/2021', 'Insurance15/9/2021',\n",
       "       'Insurance16/5/2021', 'Insurance3/2/2021', 'Insurance23/11/2020',\n",
       "       'Insurance15/3/2023', 'Insurance10/1/2021', 'Insurance24/4/2021',\n",
       "       'Insurance4/11/2021', 'Insurance17/2/2021', 'Insurance10/6/2021',\n",
       "       'Insurance26/12/2021', 'Insurance19/12/2021', 'Insurance26/6/2021',\n",
       "       'Insurance25/10/2021', 'Insurance29/12/2021', 'Insurance11/7/2021',\n",
       "       'Insurance20/6/2022', 'Insurance21/1/2021', 'Insurance19/11/2020',\n",
       "       'Insurance26/5/2021', 'Insurance27/1/2021', 'Insurance11/2/2021',\n",
       "       'Insurance20/11/2020', 'Insurance24/10/2020', 'Insurance28/3/2021',\n",
       "       'Insurance18/8/2021', 'Insurance16/7/2021', 'Insurance2/12/2020',\n",
       "       'Insurance15/7/2021', 'Insurance27/6/2022', 'Insurance3/1/2021',\n",
       "       'Insurance26/6/2022', 'Insurance7/8/2021', 'Insurance25/8/2021',\n",
       "       'Insurance25/9/2021', 'Insurance20/6/2021', 'Insurance27/5/2022',\n",
       "       'Insurance11/1/2021', 'Insurance4/7/2021', 'Insurance12/7/2021',\n",
       "       'Insurance19/5/2021', 'Insurance24/5/2021', 'Insurance8/8/2023',\n",
       "       'Insurance30/1/2021', 'Insurance15/5/2021', 'Insurance20/1/2021',\n",
       "       'Insurance6/12/2021', 'Insurance1/12/2020', 'Insurance12/9/2021',\n",
       "       'Insurance22/7/2021', 'Insurance13/3/2021', 'Insurance23/4/2021',\n",
       "       'Insurance25/9/2020', 'Insurance8/2/2021', 'Insurance25/12/2021',\n",
       "       'Insurance18/12/2020', 'Insurance11/1/2022', 'Insurance29/10/2020',\n",
       "       'Insurance13/4/2021', 'Insurance2/9/2021', 'Insurance15/11/2020',\n",
       "       'Insurance21/2/2022', 'Insurance19/4/2021', 'Insurance5/7/2021',\n",
       "       'Insurance8/4/2021', 'Insurance23/11/2021', 'Insurance2/4/2021',\n",
       "       'Insurance25/1/2021', 'Insurance11/12/2020', 'Insurance10/12/2022',\n",
       "       'Insurance25/5/2021', 'Insurance8/6/2021', 'Insurance16/4/2021',\n",
       "       'Insurance26/12/2020', 'Insurance18/11/2021',\n",
       "       'Insurance17/11/2020', 'Insurance4/2/2021', 'Insurance7/1/2023',\n",
       "       'Insurance28/11/2021', 'Insurance20/5/2021', 'Insurance3/5/2021',\n",
       "       'Insurance4/8/2021', 'Insurance8/10/2021', 'Insurance23/12/2022',\n",
       "       'Insurance27/7/2022', 'Insurance1/8/2021', 'Insurance15/10/2021',\n",
       "       'Insurance10/5/2021', 'Insurance12/11/2021', 'Insurance13/1/2021',\n",
       "       'Insurance15/8/2022', 'Insurance26/7/2021', 'Insurance2/11/2021',\n",
       "       'Insurance22/9/2021', 'Insurance3/1/2022', 'Insurance12/8/2021',\n",
       "       'Insurance3/3/2021', 'Insurance15/6/2021', 'Insurance18/1/2023',\n",
       "       'Insurance22/3/2021', 'Insurance1/7/2021', 'Insurance15/1/2022',\n",
       "       'Insurance14/2/2021', 'Insurance3/6/2021', 'Insurance20/4/2021',\n",
       "       'Insurance11/11/2021', 'Insurance2/5/2021', 'Insurance24/10/2022',\n",
       "       'Insurance21/4/2021', 'Insurance7/7/2021', 'Insurance18/2/2021',\n",
       "       'Insurance12/1/2021', 'Insurance25/12/2020', 'Insurance2/2/2021',\n",
       "       'Insurance22/12/2022', 'Insurance14/11/2022', 'Insurance4/4/2021',\n",
       "       'Insurance8/11/2020', 'Insurance8/5/2021', 'Insurance12/5/2021',\n",
       "       'Insurance3/10/2021', 'Insurance27/11/2020', 'Insurance7/12/2020',\n",
       "       'Insurance17/12/2021', 'Insurance9/10/2021', 'Insurance28/12/2020',\n",
       "       'Insurance2/6/2021', 'Insurance12/12/2020', 'Insurance4/11/2020',\n",
       "       'Insurance10/11/2020', 'Insurance9/12/2022', 'Insurance13/11/2021',\n",
       "       'Insurance8/1/2021', 'Insurance4/6/2021', 'Insurance27/10/2020',\n",
       "       'Insurance25/6/2022', 'Insurance12/10/2022', 'Insurance18/8/2022',\n",
       "       'Insurance14/5/2021', 'Insurance27/11/2022', 'Insurance9/11/2021',\n",
       "       'Insurance24/11/2021', 'Insurance9/11/2020', 'Insurance30/3/2022',\n",
       "       'Insurance8/8/2022', 'Insurance31/1/2022', 'Insurance27/1/2024',\n",
       "       'Insurance1/5/2021', 'Insurance20/8/2021', 'Insurance4/7/2022',\n",
       "       'Insurance1/9/2021', 'Insurance3/10/2022', 'Insurance27/8/2021',\n",
       "       'Insurance26/1/2022', 'Insurance1/4/2021', 'Insurance8/6/2022',\n",
       "       'Insurance13/8/2021', 'Insurance11/10/2020', 'Insurance9/5/2021',\n",
       "       'Insurance21/8/2021', 'Insurance13/12/2021', 'Insurance19/5/2022',\n",
       "       'Insurance7/5/2021', 'Insurance15/4/2021', 'Insurance15/10/2020',\n",
       "       'Insurance8/9/2022', 'Insurance17/12/2020', 'Insurance12/11/2020',\n",
       "       'Insurance4/1/2021', 'Insurance25/6/2021', 'Insurance30/4/2021',\n",
       "       'Insurance9/4/2021', 'Insurance28/2/2021', 'Insurance11/11/2022',\n",
       "       'Insurance1/12/2022', 'Insurance29/3/2023', 'Insurance22/11/2020',\n",
       "       'Insurance30/12/2021', 'Insurance3/4/2021', 'Insurance24/9/2021',\n",
       "       'Insurance14/12/2022', 'Insurance16/1/2023', 'Insurance16/8/2021',\n",
       "       'Insurance30/1/2022', 'Insurance15/12/2022', 'Insurance21/2/2021',\n",
       "       'Insurance11/8/2022', 'Insurance9/1/2022', 'Insurance15/12/2021',\n",
       "       'Insurance16/12/2020', 'Insurance6/6/2022', 'Insurance8/1/2022',\n",
       "       'Insurance19/8/2022', 'Insurance26/11/2021', 'Insurance2/10/2020',\n",
       "       'Insurance10/4/2021', 'Insurance13/7/2021', 'Insurance11/12/2021',\n",
       "       'Insurance19/10/2020', 'Insurance19/1/2023', 'Insurance26/9/2022',\n",
       "       'Insurance12/3/2021', 'Insurance12/11/2022', 'Insurance16/10/2020',\n",
       "       'Insurance14/4/2022', 'Insurance15/12/2020', 'Insurance31/8/2020',\n",
       "       'Insurance4/1/2023', 'Insurance14/1/2021', 'Insurance4/12/2020',\n",
       "       'Insurance6/9/2021', 'Insurance22/10/2020', 'Insurance21/9/2020',\n",
       "       'Insurance9/10/2020', 'Insurance4/10/2020', 'Insurance8/10/2020',\n",
       "       'Insurance17/4/2021', 'Insurance17/1/2022', 'Insurance22/11/2021',\n",
       "       'Insurance14/3/2020', 'Insurance16/9/2020', 'Insurance3/12/2020',\n",
       "       'Insurance24/7/2022', 'Insurance3/10/2020', 'Insurance29/6/2022',\n",
       "       'Insurance14/11/2020', 'Insurance29/6/2021', 'Insurance18/11/2022',\n",
       "       'Insurance22/5/2022', 'Insurance7/1/2022', 'Insurance5/10/2020',\n",
       "       'Insurance25/10/2020', 'Insurance20/1/2022', 'Insurance1/5/2022',\n",
       "       'Insurance5/2/2022', 'Insurance21/7/2021', 'Insurance11/11/2020',\n",
       "       'Insurance14/10/2020', 'Insurance21/8/2022', 'Insurance5/12/2020',\n",
       "       'Insurance9/9/2022', 'Insurance18/5/2022', 'Insurance6/11/2020',\n",
       "       'Insurance31/7/2020', 'Insurance22/1/2022', 'Insurance23/6/2021',\n",
       "       'Insurance20/10/2020', 'Insurance26/10/2020', 'Insurance28/8/2022',\n",
       "       'Insurance28/9/2020', 'Insurance27/1/2022', 'Insurance24/1/2021',\n",
       "       'Insurance7/10/2020', 'Insurance28/10/2020', 'Insurance5/11/2020',\n",
       "       'Insurance24/1/2022', 'Insurance4/8/2022', 'Insurance19/9/2020',\n",
       "       'Insurance20/2/2020', 'Insurance15/12/2019', 'Insurance14/7/2019',\n",
       "       'Insurance21/4/2022', 'Insurance26/8/2022', 'Insurance14/7/2021',\n",
       "       'Insurance18/1/2022', 'Insurance2/11/2020', 'Insurance23/1/2022',\n",
       "       'Insurance14/8/2022', 'Insurance20/9/2020', 'Insurance14/7/2023',\n",
       "       'Insurance7/9/2022', 'Insurance29/5/2022', 'Insurance13/1/2022',\n",
       "       'Insurance1/3/2023', 'Insurance13/2/2022', 'Insurance20/2/2022',\n",
       "       'Insurance3/3/2023', 'Insurance28/5/2022', 'Insurance18/11/2020',\n",
       "       'Insurance4/6/2022', 'Insurance11/5/2023', 'Insurance10/1/2022',\n",
       "       'Insurance12/12/2022', 'Insurance12/1/2022', 'Insurance13/11/2020',\n",
       "       'Insurance5/12/2021', 'Insurance24/6/2022', 'Insurance28/1/2022',\n",
       "       'Insurance1/6/2022', 'Insurance1/7/2022', 'Insurance27/2/2022',\n",
       "       'Insurance17/3/2023', 'Insurance14/3/2022', 'Insurance24/5/2022',\n",
       "       'Insurance21/1/2022', 'Insurance10/2/2022', 'Insurance15/9/2022',\n",
       "       'Insurance28/7/2022', 'Insurance16/7/2022', 'Insurance25/7/2022',\n",
       "       'Insurance21/10/2022', 'Insurance23/4/2022', 'Insurance15/5/2024',\n",
       "       'Insurance3/9/2020', 'Insurance2/7/2022', 'Insurance14/6/2023',\n",
       "       'Insurance18/9/2020', 'Insurance27/4/2022', 'Insurance17/10/2020',\n",
       "       'Insurance10/9/2020', 'Insurance25/2/2022', 'Insurance21/12/2021',\n",
       "       'Insurance11/2/2022', 'Insurance3/6/2022', 'Insurance12/2/2022',\n",
       "       'Insurance28/11/2020', 'Insurance16/1/2022', 'Insurance18/7/2022',\n",
       "       'Insurance2/9/2022', 'Insurance18/3/2022', 'Insurance13/7/2020',\n",
       "       'Insurance30/10/2020', 'Insurance10/11/2022',\n",
       "       'Insurance21/10/2020', 'Insurance7/7/2022', 'Insurance18/10/2020',\n",
       "       'Insurance6/10/2020', 'Insurance25/5/2022', 'Insurance6/9/2020',\n",
       "       'Insurance26/8/2020', 'Insurance29/11/2020', 'Insurance5/1/2022',\n",
       "       'Insurance4/2/2022', 'Insurance12/8/2020', 'Insurance6/8/2020',\n",
       "       'Insurance28/12/2019', 'Insurance31/10/2022', 'Insurance5/1/2023',\n",
       "       'Insurance6/1/2023', 'Insurance17/1/2023', 'Insurance19/2/2020',\n",
       "       'Insurance10/4/2022', 'Insurance9/2/2022', 'Insurance31/5/2023',\n",
       "       'Insurance27/6/2023', 'Insurance2/2/2023', 'Insurance15/4/2022',\n",
       "       'Insurance5/3/2023', 'Insurance23/2/2022', 'Insurance28/2/2023',\n",
       "       'Insurance12/2/2020', 'Insurance16/6/2023', 'Insurance29/8/2022',\n",
       "       'Insurance22/8/2023', 'Insurance3/9/2023', 'Insurance22/9/2022',\n",
       "       'Insurance11/3/2023', 'Insurance13/9/2020', 'Insurance12/7/2023',\n",
       "       'Insurance8/2/2023', 'Insurance2/6/2023', 'Insurance25/9/2022',\n",
       "       'Insurance10/6/2023', 'Insurance9/11/2023', 'Insurance3/8/2022',\n",
       "       'Insurance21/7/2022', 'Insurance8/2/2022', 'Insurance10/6/2022',\n",
       "       'Insurance14/9/2020', 'Insurance6/5/2022', 'Insurance16/6/2022',\n",
       "       'Insurance22/7/2022', 'Insurance9/1/2020', 'Insurance23/10/2020',\n",
       "       'Insurance13/3/2020', 'Insurance3/1/2023', 'Insurance5/8/2022',\n",
       "       'Insurance17/2/2022', 'Insurance12/9/2020', 'Insurance9/7/2022',\n",
       "       'Insurance25/8/2022', 'Insurance30/11/2022', 'Insurance2/4/2022',\n",
       "       'Insurance29/9/2022', 'Insurance25/1/2023', 'Insurance30/10/2022',\n",
       "       'Insurance27/8/2023', 'Insurance17/6/2022', 'Insurance17/11/2022',\n",
       "       'Insurance22/7/2023', 'Insurance14/5/2022', 'Insurance10/3/2023',\n",
       "       'Insurance4/12/2022', 'Insurance23/10/2022', 'Insurance3/2/2022',\n",
       "       'Insurance7/8/2022', 'Insurance22/8/2022', 'Insurance17/3/2022',\n",
       "       'Insurance4/9/2022', 'Insurance7/4/2022', 'Insurance11/4/2022',\n",
       "       'Insurance18/6/2022', 'Insurance2/3/2022', 'Insurance12/10/2020',\n",
       "       'Insurance2/9/2020', 'Insurance25/12/2019', 'Insurance19/8/2020',\n",
       "       'Insurance8/9/2020', 'Insurance15/2/2022', 'Insurance7/5/2020',\n",
       "       'Insurance23/11/2022', 'Insurance17/10/2022', 'Insurance24/7/2023',\n",
       "       'Insurance23/9/2020', 'Insurance5/2/2023', 'Insurance17/1/2024',\n",
       "       'Insurance31/7/2022', 'Insurance5/9/2022', 'Insurance7/2/2022',\n",
       "       'Insurance30/3/2020', 'Insurance9/8/2020', 'Insurance17/1/2020',\n",
       "       'Insurance25/2/2020', 'Insurance21/6/2020', 'Insurance14/7/2022',\n",
       "       'Insurance22/11/2022', 'Insurance11/1/2023', 'Insurance26/9/2020',\n",
       "       'Insurance19/3/2022', 'Insurance21/5/2022', 'Insurance20/7/2023',\n",
       "       'Insurance18/7/2023', 'Insurance4/12/2023', 'Insurance18/8/2023',\n",
       "       'Insurance24/9/2023', 'Insurance25/5/2020', 'Insurance5/6/2022',\n",
       "       'Insurance14/2/2022', 'Insurance27/3/2022', 'Insurance26/5/2022',\n",
       "       'Insurance25/3/2022', 'Insurance4/5/2022', 'Insurance13/5/2022',\n",
       "       'Insurance1/4/2022', 'Insurance29/7/2022', 'Insurance9/11/2022',\n",
       "       'Insurance26/11/2022', 'Insurance9/5/2022', 'Insurance18/2/2023',\n",
       "       'Insurance2/1/2023', 'Insurance16/10/2022', 'Insurance24/9/2022',\n",
       "       'Insurance4/3/2022', 'Insurance29/10/2022', 'Insurance28/3/2023',\n",
       "       'Insurance11/8/2023', 'Insurance24/4/2022', 'Insurance19/2/2022',\n",
       "       'Insurance16/8/2023', 'Insurance24/12/2022', 'Insurance15/7/2022',\n",
       "       'Insurance1/8/2022', 'Insurance8/7/2022', 'Insurance28/11/2022',\n",
       "       'Insurance20/8/2022', 'Insurance11/5/2022', 'Insurance22/10/2022',\n",
       "       'Insurance3/12/2022', 'Insurance7/5/2022', 'Insurance16/2/2022',\n",
       "       'Insurance5/1/2020', 'Insurance16/11/2022', 'Insurance10/10/2022',\n",
       "       'Insurance20/3/2022', 'Insurance9/6/2022', 'Insurance1/9/2020',\n",
       "       'Insurance22/8/2020', 'Insurance29/8/2020', 'Insurance29/5/2020',\n",
       "       'Insurance29/7/2020', 'Insurance2/3/2020', 'Insurance3/5/2020',\n",
       "       'Insurance31/12/2019', 'Insurance3/3/2020', 'Insurance24/2/2020',\n",
       "       'Insurance21/11/2019', 'Insurance26/7/2019', 'Insurance9/2/2020',\n",
       "       'Insurance5/9/2020', 'Insurance26/1/2020', 'Insurance2/6/2019',\n",
       "       'Insurance13/4/2022', 'Insurance28/8/2020', 'Insurance26/3/2022',\n",
       "       'Insurance30/4/2022', 'Insurance19/10/2022', 'Insurance22/2/2022',\n",
       "       'Insurance19/6/2020', 'Insurance29/12/2019', 'Insurance28/4/2022',\n",
       "       'Insurance22/9/2020', 'Insurance9/7/2019', 'Insurance11/9/2020',\n",
       "       'Insurance21/3/2022', 'Insurance27/4/2020', 'Insurance6/8/2023',\n",
       "       'Insurance12/3/2022', 'Insurance15/2/2023', 'Insurance1/10/2020',\n",
       "       'Insurance6/3/2022', 'Insurance22/6/2022', 'Insurance26/5/2020',\n",
       "       'Insurance7/11/2022', 'Insurance29/3/2022', 'Insurance25/6/2020',\n",
       "       'Insurance15/9/2020', 'Insurance24/5/2020', 'Insurance28/9/2019',\n",
       "       'Insurance24/4/2020', 'Insurance11/7/2020', 'Insurance23/1/2020',\n",
       "       'Insurance6/4/2020', 'Insurance26/3/2020', 'Insurance25/9/2019',\n",
       "       'Insurance14/11/2019', 'Insurance16/1/2020', 'Insurance15/10/2019',\n",
       "       'Insurance16/11/2019', 'Insurance28/6/2019', 'Insurance4/4/2022',\n",
       "       'Insurance4/3/2023', 'Insurance27/9/2022', 'Insurance8/5/2022',\n",
       "       'Insurance20/1/2023', 'Insurance13/9/2022', 'Insurance9/4/2022',\n",
       "       'Insurance5/3/2020', 'Insurance2/6/2022', 'Insurance3/3/2022',\n",
       "       'Insurance13/3/2022', 'Insurance27/8/2022', 'Insurance31/8/2019',\n",
       "       'Insurance1/2/2020', 'Insurance28/11/2019', 'Insurance26/7/2022',\n",
       "       'Insurance14/1/2023', 'Insurance15/6/2022', 'Insurance23/7/2022',\n",
       "       'Insurance29/5/2023', 'Insurance17/11/2023', 'Insurance1/10/2022',\n",
       "       'Insurance21/6/2022', 'Insurance28/6/2020', 'Insurance6/10/2022',\n",
       "       'Insurance28/3/2022', 'Insurance1/1/2023', 'Insurance24/5/2023',\n",
       "       'Insurance12/3/2023', 'Insurance23/6/2022', 'Insurance16/7/2023',\n",
       "       'Insurance1/9/2022', 'Insurance7/3/2022', 'Insurance17/4/2022',\n",
       "       'Insurance28/12/2022', 'Insurance26/2/2023', 'Insurance8/12/2022',\n",
       "       'Insurance16/10/2019', 'Insurance7/8/2019', 'Insurance6/9/2022',\n",
       "       'Insurance29/4/2022', 'Insurance29/12/2022', 'Insurance28/2/2022',\n",
       "       'Insurance17/7/2020', 'Insurance14/5/2020', 'Insurance8/8/2020',\n",
       "       'Insurance15/8/2020', 'Insurance10/10/2019', 'Insurance11/11/2019',\n",
       "       'Insurance3/2/2020', 'Insurance22/12/2019', 'Insurance26/6/2019',\n",
       "       'Insurance11/1/2020', 'Insurance24/4/2019', 'Insurance7/3/2020',\n",
       "       'Insurance21/12/2019', 'Insurance8/10/2022', 'Insurance2/7/2023',\n",
       "       'Insurance1/3/2022', 'Insurance14/10/2022', 'Insurance20/10/2022',\n",
       "       'Insurance4/6/2023', 'Insurance9/3/2022', 'Insurance17/9/2020',\n",
       "       'Insurance19/7/2020', 'Insurance13/12/2022', 'Insurance21/9/2019',\n",
       "       'Insurance20/6/2020', 'Insurance19/1/2020', 'Insurance21/1/2020',\n",
       "       'Insurance30/12/2022', 'Insurance14/2/2024', 'Insurance5/5/2022',\n",
       "       'Insurance30/6/2022', 'Insurance9/8/2022', 'Insurance3/7/2022',\n",
       "       'Insurance5/7/2022', 'Insurance15/10/2022', 'Insurance13/2/2020',\n",
       "       'Insurance24/6/2020', 'Insurance9/7/2020', 'Insurance6/6/2020',\n",
       "       'Insurance6/3/2020', 'Insurance10/3/2020', 'Insurance9/6/2020',\n",
       "       'Insurance27/3/2020', 'Insurance6/5/2020', 'Insurance14/7/2020',\n",
       "       'Insurance30/12/2019', 'Insurance26/11/2019', 'Insurance15/1/2020',\n",
       "       'Insurance27/10/2019'], dtype=object)"
      ]
     },
     "execution_count": 585,
     "metadata": {},
     "output_type": "execute_result"
    }
   ],
   "source": [
    "df[\"Insurance\"].unique()"
   ]
  },
  {
   "cell_type": "code",
   "execution_count": 586,
   "id": "67cf776d-e7a3-42ef-aade-0a4cd7ec09c4",
   "metadata": {},
   "outputs": [],
   "source": [
    "df[\"Insurance\"] = df[\"Insurance\"].str.replace(r\"Insurance\",\"\")\n",
    "df['Insurance'] = pd.to_datetime(df['Insurance'], format='%d/%m/%Y')"
   ]
  },
  {
   "cell_type": "code",
   "execution_count": 587,
   "id": "25da4a88-082a-4d98-af96-33b2be5b2af7",
   "metadata": {},
   "outputs": [
    {
     "data": {
      "text/plain": [
       "0       NaN\n",
       "1    2021.0\n",
       "2    2021.0\n",
       "3    2022.0\n",
       "4       NaN\n",
       "5    2021.0\n",
       "6       NaN\n",
       "Name: Insurance_year, dtype: float64"
      ]
     },
     "execution_count": 587,
     "metadata": {},
     "output_type": "execute_result"
    }
   ],
   "source": [
    "df[\"Insurance_year\"] = df['Insurance'].dt.year\n",
    "df[\"Insurance_year\"].head(7)"
   ]
  },
  {
   "cell_type": "code",
   "execution_count": 588,
   "id": "7fb4c5c8-9678-4f2f-98b8-47ad1b938572",
   "metadata": {},
   "outputs": [
    {
     "data": {
      "text/plain": [
       "0    NaN\n",
       "1    8.0\n",
       "2    4.0\n",
       "3    1.0\n",
       "4    NaN\n",
       "5    3.0\n",
       "6    NaN\n",
       "Name: Insurance_month, dtype: float64"
      ]
     },
     "execution_count": 588,
     "metadata": {},
     "output_type": "execute_result"
    }
   ],
   "source": [
    "df[\"Insurance_month\"] = df['Insurance'].dt.month\n",
    "df[\"Insurance_month\"].head(7)"
   ]
  },
  {
   "cell_type": "code",
   "execution_count": 589,
   "id": "9445546d-f252-445c-8d8d-2ea7c5bafb3a",
   "metadata": {},
   "outputs": [
    {
     "data": {
      "text/plain": [
       "0     NaN\n",
       "1     6.0\n",
       "2    28.0\n",
       "3     1.0\n",
       "4     NaN\n",
       "5    30.0\n",
       "6     NaN\n",
       "Name: Insurance_day, dtype: float64"
      ]
     },
     "execution_count": 589,
     "metadata": {},
     "output_type": "execute_result"
    }
   ],
   "source": [
    "df[\"Insurance_day\"] = df['Insurance'].dt.day\n",
    "df[\"Insurance_day\"].head(7)"
   ]
  },
  {
   "cell_type": "code",
   "execution_count": 590,
   "id": "f29e2264-5aad-4de8-b10d-4491401a3330",
   "metadata": {},
   "outputs": [
    {
     "data": {
      "text/plain": [
       "12"
      ]
     },
     "execution_count": 590,
     "metadata": {},
     "output_type": "execute_result"
    }
   ],
   "source": [
    "df[\"Insurance_Type\"].nunique()"
   ]
  },
  {
   "cell_type": "code",
   "execution_count": 591,
   "id": "59cd5f9a-7c13-4bf5-892b-bdbae1efbe6a",
   "metadata": {},
   "outputs": [],
   "source": [
    "# replacing common variations\n",
    "df['Insurance_Type'] = df['Insurance_Type'].replace({\n",
    "    'Insurance Type Insurance Expired': 'Insurance Type Expired',\n",
    "    'Insurance TypeComp': 'Insurance Type Comprehensive',\n",
    "    'Insurance TypeExpired': 'Insurance Type Expired',\n",
    "    'Insurance TypeThird_party': 'Insurance Type Third Party',\n",
    "    'Insurance TypeZero_Dep': 'Insurance Type Zero Depreciation',\n",
    "    'Insurance TypeNA': 'Insurance Type Not Available',\n",
    "    'Insurance TypeZero Depreciation': 'Insurance Type Zero Depreciation',\n",
    "    'Insurance Type3rd Party': 'Insurance Type Third Party',\n",
    "    'Insurance TypeComprehensive': 'Insurance Type Comprehensive',\n",
    "    'Insurance Typenull': 'Insurance Type Not Available',\n",
    "    'Insurance TypeNot Available': 'Insurance Type Not Available',\n",
    "    'Insurance TypeNormal': 'Insurance Type Normal'\n",
    "})"
   ]
  },
  {
   "cell_type": "code",
   "execution_count": null,
   "id": "30775dfb-fcd0-4f12-a64e-b6df966442f2",
   "metadata": {},
   "outputs": [],
   "source": []
  },
  {
   "cell_type": "code",
   "execution_count": 592,
   "id": "c76df435-cb03-44fa-b752-c8b6623feb66",
   "metadata": {},
   "outputs": [
    {
     "data": {
      "text/plain": [
       "Index(['Price', 'Rating', 'Kilometers', 'Year_of_Purchase', 'Owner',\n",
       "       'Fuel_Type', 'Transmission', 'RTO', 'Insurance', 'Insurance_Type',\n",
       "       'Insurance_year', 'Insurance_month', 'Insurance_day'],\n",
       "      dtype='object')"
      ]
     },
     "execution_count": 592,
     "metadata": {},
     "output_type": "execute_result"
    }
   ],
   "source": [
    "df.columns"
   ]
  },
  {
   "cell_type": "code",
   "execution_count": 593,
   "id": "2299af7c-ba41-4bdf-a6b7-a76382b7af0a",
   "metadata": {},
   "outputs": [
    {
     "data": {
      "text/html": [
       "<div>\n",
       "<style scoped>\n",
       "    .dataframe tbody tr th:only-of-type {\n",
       "        vertical-align: middle;\n",
       "    }\n",
       "\n",
       "    .dataframe tbody tr th {\n",
       "        vertical-align: top;\n",
       "    }\n",
       "\n",
       "    .dataframe thead th {\n",
       "        text-align: right;\n",
       "    }\n",
       "</style>\n",
       "<table border=\"1\" class=\"dataframe\">\n",
       "  <thead>\n",
       "    <tr style=\"text-align: right;\">\n",
       "      <th></th>\n",
       "      <th>Price</th>\n",
       "      <th>Rating</th>\n",
       "      <th>Kilometers</th>\n",
       "      <th>Year_of_Purchase</th>\n",
       "      <th>Owner</th>\n",
       "      <th>Fuel_Type</th>\n",
       "      <th>Transmission</th>\n",
       "      <th>RTO</th>\n",
       "      <th>Insurance_Type</th>\n",
       "      <th>Insurance_year</th>\n",
       "      <th>Insurance_month</th>\n",
       "      <th>Insurance_day</th>\n",
       "    </tr>\n",
       "  </thead>\n",
       "  <tbody>\n",
       "    <tr>\n",
       "      <th>0</th>\n",
       "      <td>174699</td>\n",
       "      <td>4.0</td>\n",
       "      <td>34854</td>\n",
       "      <td>2010</td>\n",
       "      <td>OwnerFirst Owner</td>\n",
       "      <td>Petrol</td>\n",
       "      <td>MANUAL</td>\n",
       "      <td>AP09</td>\n",
       "      <td>Insurance TypeInsurance Expired</td>\n",
       "      <td>NaN</td>\n",
       "      <td>NaN</td>\n",
       "      <td>NaN</td>\n",
       "    </tr>\n",
       "    <tr>\n",
       "      <th>1</th>\n",
       "      <td>333999</td>\n",
       "      <td>4.2</td>\n",
       "      <td>39541</td>\n",
       "      <td>2013</td>\n",
       "      <td>OwnerSecond Owner</td>\n",
       "      <td>Petrol</td>\n",
       "      <td>MANUAL</td>\n",
       "      <td>AP28</td>\n",
       "      <td>Insurance Type Comprehensive</td>\n",
       "      <td>2021.0</td>\n",
       "      <td>8.0</td>\n",
       "      <td>6.0</td>\n",
       "    </tr>\n",
       "    <tr>\n",
       "      <th>2</th>\n",
       "      <td>353199</td>\n",
       "      <td>4.3</td>\n",
       "      <td>23233</td>\n",
       "      <td>2014</td>\n",
       "      <td>OwnerSecond Owner</td>\n",
       "      <td>Petrol</td>\n",
       "      <td>MANUAL</td>\n",
       "      <td>AP28</td>\n",
       "      <td>Insurance Type Comprehensive</td>\n",
       "      <td>2021.0</td>\n",
       "      <td>4.0</td>\n",
       "      <td>28.0</td>\n",
       "    </tr>\n",
       "    <tr>\n",
       "      <th>3</th>\n",
       "      <td>237899</td>\n",
       "      <td>4.4</td>\n",
       "      <td>27748</td>\n",
       "      <td>2013</td>\n",
       "      <td>OwnerFirst Owner</td>\n",
       "      <td>Petrol</td>\n",
       "      <td>MANUAL</td>\n",
       "      <td>AP13</td>\n",
       "      <td>Insurance Type Comprehensive</td>\n",
       "      <td>2022.0</td>\n",
       "      <td>1.0</td>\n",
       "      <td>1.0</td>\n",
       "    </tr>\n",
       "    <tr>\n",
       "      <th>4</th>\n",
       "      <td>300699</td>\n",
       "      <td>4.4</td>\n",
       "      <td>12238</td>\n",
       "      <td>2017</td>\n",
       "      <td>OwnerSecond Owner</td>\n",
       "      <td>Petrol</td>\n",
       "      <td>MANUAL</td>\n",
       "      <td>TS10</td>\n",
       "      <td>Insurance Type Expired</td>\n",
       "      <td>NaN</td>\n",
       "      <td>NaN</td>\n",
       "      <td>NaN</td>\n",
       "    </tr>\n",
       "  </tbody>\n",
       "</table>\n",
       "</div>"
      ],
      "text/plain": [
       "    Price  Rating  Kilometers  Year_of_Purchase              Owner Fuel_Type  \\\n",
       "0  174699     4.0       34854              2010   OwnerFirst Owner    Petrol   \n",
       "1  333999     4.2       39541              2013  OwnerSecond Owner    Petrol   \n",
       "2  353199     4.3       23233              2014  OwnerSecond Owner    Petrol   \n",
       "3  237899     4.4       27748              2013   OwnerFirst Owner    Petrol   \n",
       "4  300699     4.4       12238              2017  OwnerSecond Owner    Petrol   \n",
       "\n",
       "  Transmission   RTO                   Insurance_Type  Insurance_year  \\\n",
       "0       MANUAL  AP09  Insurance TypeInsurance Expired             NaN   \n",
       "1       MANUAL  AP28     Insurance Type Comprehensive          2021.0   \n",
       "2       MANUAL  AP28     Insurance Type Comprehensive          2021.0   \n",
       "3       MANUAL  AP13     Insurance Type Comprehensive          2022.0   \n",
       "4       MANUAL  TS10           Insurance Type Expired             NaN   \n",
       "\n",
       "   Insurance_month  Insurance_day  \n",
       "0              NaN            NaN  \n",
       "1              8.0            6.0  \n",
       "2              4.0           28.0  \n",
       "3              1.0            1.0  \n",
       "4              NaN            NaN  "
      ]
     },
     "execution_count": 593,
     "metadata": {},
     "output_type": "execute_result"
    }
   ],
   "source": [
    "df.drop(columns =[\"Insurance\"],inplace = True)\n",
    "df.head()"
   ]
  },
  {
   "cell_type": "markdown",
   "id": "ab4071f4-c007-46d5-a789-6a964959cd32",
   "metadata": {},
   "source": [
    "# dealing with the null values"
   ]
  },
  {
   "cell_type": "code",
   "execution_count": 594,
   "id": "c2f134a5-a62c-4d01-9448-99131a911179",
   "metadata": {},
   "outputs": [
    {
     "data": {
      "text/plain": [
       "Price                0.000000\n",
       "Rating               0.000000\n",
       "Kilometers           0.000000\n",
       "Year_of_Purchase     0.000000\n",
       "Owner                0.000000\n",
       "Fuel_Type            0.000000\n",
       "Transmission         8.756763\n",
       "RTO                  0.000000\n",
       "Insurance_Type       0.000000\n",
       "Insurance_year      28.586977\n",
       "Insurance_month     28.586977\n",
       "Insurance_day       28.586977\n",
       "dtype: float64"
      ]
     },
     "execution_count": 594,
     "metadata": {},
     "output_type": "execute_result"
    }
   ],
   "source": [
    "df.isnull().sum()/len(df)*100"
   ]
  },
  {
   "cell_type": "code",
   "execution_count": 595,
   "id": "504acb24-7238-4265-8077-3e8f4c6b1981",
   "metadata": {},
   "outputs": [
    {
     "data": {
      "text/plain": [
       "0    MANUAL\n",
       "Name: Transmission, dtype: object"
      ]
     },
     "execution_count": 595,
     "metadata": {},
     "output_type": "execute_result"
    }
   ],
   "source": [
    "df[\"Transmission\"].mode()"
   ]
  },
  {
   "cell_type": "code",
   "execution_count": 596,
   "id": "e2845d6f-6210-41fb-a801-6c0b93046097",
   "metadata": {},
   "outputs": [],
   "source": [
    "df[\"Transmission\"].fillna(\"MANUAL\",inplace = True)"
   ]
  },
  {
   "cell_type": "code",
   "execution_count": 597,
   "id": "199202cc-63b1-48e9-b91b-75ad20dcfa1e",
   "metadata": {},
   "outputs": [
    {
     "data": {
      "text/plain": [
       "2020.9339865011975"
      ]
     },
     "execution_count": 597,
     "metadata": {},
     "output_type": "execute_result"
    }
   ],
   "source": [
    "df[\"Insurance_year\"].mean()"
   ]
  },
  {
   "cell_type": "code",
   "execution_count": 598,
   "id": "71bf24da-4101-4819-9e08-7badea7bf418",
   "metadata": {},
   "outputs": [
    {
     "data": {
      "text/plain": [
       "16.45808839538428"
      ]
     },
     "execution_count": 598,
     "metadata": {},
     "output_type": "execute_result"
    }
   ],
   "source": [
    "df[\"Insurance_day\"].mean()"
   ]
  },
  {
   "cell_type": "code",
   "execution_count": 599,
   "id": "d1da5c3a-1851-4700-827b-79ad441cab7e",
   "metadata": {},
   "outputs": [
    {
     "data": {
      "text/plain": [
       "6.724493794905291"
      ]
     },
     "execution_count": 599,
     "metadata": {},
     "output_type": "execute_result"
    }
   ],
   "source": [
    "df[\"Insurance_month\"].mean()"
   ]
  },
  {
   "cell_type": "code",
   "execution_count": 600,
   "id": "ca421596-f060-46db-a033-14fb05c1ee64",
   "metadata": {},
   "outputs": [],
   "source": [
    "df[\"Insurance_year\"].fillna(\"2021\",inplace = True)\n",
    "df[\"Insurance_month\"].fillna(\"7\",inplace = True)\n",
    "df[\"Insurance_day\"].fillna(\"16\",inplace = True)"
   ]
  },
  {
   "cell_type": "code",
   "execution_count": 601,
   "id": "3d109d30-0c5e-4200-94be-b0499eeb1b20",
   "metadata": {},
   "outputs": [
    {
     "data": {
      "text/plain": [
       "Price               0\n",
       "Rating              0\n",
       "Kilometers          0\n",
       "Year_of_Purchase    0\n",
       "Owner               0\n",
       "Fuel_Type           0\n",
       "Transmission        0\n",
       "RTO                 0\n",
       "Insurance_Type      0\n",
       "Insurance_year      0\n",
       "Insurance_month     0\n",
       "Insurance_day       0\n",
       "dtype: int64"
      ]
     },
     "execution_count": 601,
     "metadata": {},
     "output_type": "execute_result"
    }
   ],
   "source": [
    "df.isnull().sum()"
   ]
  },
  {
   "cell_type": "markdown",
   "id": "72ab5ee1-a877-462f-b839-e71bf2c576cf",
   "metadata": {},
   "source": [
    "# dealing with the duplicated values"
   ]
  },
  {
   "cell_type": "code",
   "execution_count": 602,
   "id": "b5a585e2-8440-47a4-bac3-7d0190625508",
   "metadata": {},
   "outputs": [
    {
     "data": {
      "text/plain": [
       "0"
      ]
     },
     "execution_count": 602,
     "metadata": {},
     "output_type": "execute_result"
    }
   ],
   "source": [
    "df.duplicated().sum()"
   ]
  },
  {
   "cell_type": "code",
   "execution_count": 603,
   "id": "f2bad2a5-8780-44ef-b123-ad0d76aca818",
   "metadata": {},
   "outputs": [
    {
     "data": {
      "text/html": [
       "<div>\n",
       "<style scoped>\n",
       "    .dataframe tbody tr th:only-of-type {\n",
       "        vertical-align: middle;\n",
       "    }\n",
       "\n",
       "    .dataframe tbody tr th {\n",
       "        vertical-align: top;\n",
       "    }\n",
       "\n",
       "    .dataframe thead th {\n",
       "        text-align: right;\n",
       "    }\n",
       "</style>\n",
       "<table border=\"1\" class=\"dataframe\">\n",
       "  <thead>\n",
       "    <tr style=\"text-align: right;\">\n",
       "      <th></th>\n",
       "      <th>Price</th>\n",
       "      <th>Rating</th>\n",
       "      <th>Kilometers</th>\n",
       "      <th>Year_of_Purchase</th>\n",
       "      <th>Owner</th>\n",
       "      <th>Fuel_Type</th>\n",
       "      <th>Transmission</th>\n",
       "      <th>RTO</th>\n",
       "      <th>Insurance_Type</th>\n",
       "      <th>Insurance_year</th>\n",
       "      <th>Insurance_month</th>\n",
       "      <th>Insurance_day</th>\n",
       "    </tr>\n",
       "  </thead>\n",
       "  <tbody>\n",
       "  </tbody>\n",
       "</table>\n",
       "</div>"
      ],
      "text/plain": [
       "Empty DataFrame\n",
       "Columns: [Price, Rating, Kilometers, Year_of_Purchase, Owner, Fuel_Type, Transmission, RTO, Insurance_Type, Insurance_year, Insurance_month, Insurance_day]\n",
       "Index: []"
      ]
     },
     "execution_count": 603,
     "metadata": {},
     "output_type": "execute_result"
    }
   ],
   "source": [
    "df[df.duplicated()]"
   ]
  },
  {
   "cell_type": "code",
   "execution_count": 604,
   "id": "d18379c7-0bd8-4411-ba59-b3e12bf4ddea",
   "metadata": {},
   "outputs": [
    {
     "data": {
      "text/html": [
       "<div>\n",
       "<style scoped>\n",
       "    .dataframe tbody tr th:only-of-type {\n",
       "        vertical-align: middle;\n",
       "    }\n",
       "\n",
       "    .dataframe tbody tr th {\n",
       "        vertical-align: top;\n",
       "    }\n",
       "\n",
       "    .dataframe thead th {\n",
       "        text-align: right;\n",
       "    }\n",
       "</style>\n",
       "<table border=\"1\" class=\"dataframe\">\n",
       "  <thead>\n",
       "    <tr style=\"text-align: right;\">\n",
       "      <th></th>\n",
       "      <th>Price</th>\n",
       "      <th>Rating</th>\n",
       "      <th>Kilometers</th>\n",
       "      <th>Year_of_Purchase</th>\n",
       "      <th>Owner</th>\n",
       "      <th>Fuel_Type</th>\n",
       "      <th>Transmission</th>\n",
       "      <th>RTO</th>\n",
       "      <th>Insurance_Type</th>\n",
       "      <th>Insurance_year</th>\n",
       "      <th>Insurance_month</th>\n",
       "      <th>Insurance_day</th>\n",
       "    </tr>\n",
       "  </thead>\n",
       "  <tbody>\n",
       "    <tr>\n",
       "      <th>0</th>\n",
       "      <td>174699</td>\n",
       "      <td>4.0</td>\n",
       "      <td>34854</td>\n",
       "      <td>2010</td>\n",
       "      <td>OwnerFirst Owner</td>\n",
       "      <td>Petrol</td>\n",
       "      <td>MANUAL</td>\n",
       "      <td>AP09</td>\n",
       "      <td>Insurance TypeInsurance Expired</td>\n",
       "      <td>2021</td>\n",
       "      <td>7</td>\n",
       "      <td>16</td>\n",
       "    </tr>\n",
       "    <tr>\n",
       "      <th>1</th>\n",
       "      <td>333999</td>\n",
       "      <td>4.2</td>\n",
       "      <td>39541</td>\n",
       "      <td>2013</td>\n",
       "      <td>OwnerSecond Owner</td>\n",
       "      <td>Petrol</td>\n",
       "      <td>MANUAL</td>\n",
       "      <td>AP28</td>\n",
       "      <td>Insurance Type Comprehensive</td>\n",
       "      <td>2021.0</td>\n",
       "      <td>8.0</td>\n",
       "      <td>6.0</td>\n",
       "    </tr>\n",
       "    <tr>\n",
       "      <th>2</th>\n",
       "      <td>353199</td>\n",
       "      <td>4.3</td>\n",
       "      <td>23233</td>\n",
       "      <td>2014</td>\n",
       "      <td>OwnerSecond Owner</td>\n",
       "      <td>Petrol</td>\n",
       "      <td>MANUAL</td>\n",
       "      <td>AP28</td>\n",
       "      <td>Insurance Type Comprehensive</td>\n",
       "      <td>2021.0</td>\n",
       "      <td>4.0</td>\n",
       "      <td>28.0</td>\n",
       "    </tr>\n",
       "    <tr>\n",
       "      <th>3</th>\n",
       "      <td>237899</td>\n",
       "      <td>4.4</td>\n",
       "      <td>27748</td>\n",
       "      <td>2013</td>\n",
       "      <td>OwnerFirst Owner</td>\n",
       "      <td>Petrol</td>\n",
       "      <td>MANUAL</td>\n",
       "      <td>AP13</td>\n",
       "      <td>Insurance Type Comprehensive</td>\n",
       "      <td>2022.0</td>\n",
       "      <td>1.0</td>\n",
       "      <td>1.0</td>\n",
       "    </tr>\n",
       "    <tr>\n",
       "      <th>4</th>\n",
       "      <td>300699</td>\n",
       "      <td>4.4</td>\n",
       "      <td>12238</td>\n",
       "      <td>2017</td>\n",
       "      <td>OwnerSecond Owner</td>\n",
       "      <td>Petrol</td>\n",
       "      <td>MANUAL</td>\n",
       "      <td>TS10</td>\n",
       "      <td>Insurance Type Expired</td>\n",
       "      <td>2021</td>\n",
       "      <td>7</td>\n",
       "      <td>16</td>\n",
       "    </tr>\n",
       "    <tr>\n",
       "      <th>...</th>\n",
       "      <td>...</td>\n",
       "      <td>...</td>\n",
       "      <td>...</td>\n",
       "      <td>...</td>\n",
       "      <td>...</td>\n",
       "      <td>...</td>\n",
       "      <td>...</td>\n",
       "      <td>...</td>\n",
       "      <td>...</td>\n",
       "      <td>...</td>\n",
       "      <td>...</td>\n",
       "      <td>...</td>\n",
       "    </tr>\n",
       "    <tr>\n",
       "      <th>32153</th>\n",
       "      <td>150000</td>\n",
       "      <td>3.4</td>\n",
       "      <td>95792</td>\n",
       "      <td>2008</td>\n",
       "      <td>OwnerThird Owner</td>\n",
       "      <td>Petrol</td>\n",
       "      <td>MANUAL</td>\n",
       "      <td>CH04</td>\n",
       "      <td>Insurance TypeInsurance Expired</td>\n",
       "      <td>2021</td>\n",
       "      <td>7</td>\n",
       "      <td>16</td>\n",
       "    </tr>\n",
       "    <tr>\n",
       "      <th>32154</th>\n",
       "      <td>250000</td>\n",
       "      <td>3.5</td>\n",
       "      <td>54505</td>\n",
       "      <td>2015</td>\n",
       "      <td>OwnerSecond Owner</td>\n",
       "      <td>Diesel</td>\n",
       "      <td>MANUAL</td>\n",
       "      <td>PB13</td>\n",
       "      <td>Insurance TypeInsurance Expired</td>\n",
       "      <td>2021</td>\n",
       "      <td>7</td>\n",
       "      <td>16</td>\n",
       "    </tr>\n",
       "    <tr>\n",
       "      <th>32155</th>\n",
       "      <td>500000</td>\n",
       "      <td>3.6</td>\n",
       "      <td>161322</td>\n",
       "      <td>2008</td>\n",
       "      <td>OwnerSecond Owner</td>\n",
       "      <td>Diesel</td>\n",
       "      <td>MANUAL</td>\n",
       "      <td>HR03</td>\n",
       "      <td>Insurance TypeInsurance Expired</td>\n",
       "      <td>2021</td>\n",
       "      <td>7</td>\n",
       "      <td>16</td>\n",
       "    </tr>\n",
       "    <tr>\n",
       "      <th>32156</th>\n",
       "      <td>600000</td>\n",
       "      <td>4.7</td>\n",
       "      <td>52006</td>\n",
       "      <td>2016</td>\n",
       "      <td>OwnerFirst Owner</td>\n",
       "      <td>Diesel</td>\n",
       "      <td>MANUAL</td>\n",
       "      <td>PB65</td>\n",
       "      <td>Insurance Type Zero Depreciation</td>\n",
       "      <td>2019.0</td>\n",
       "      <td>10.0</td>\n",
       "      <td>27.0</td>\n",
       "    </tr>\n",
       "    <tr>\n",
       "      <th>32157</th>\n",
       "      <td>484000</td>\n",
       "      <td>3.8</td>\n",
       "      <td>88818</td>\n",
       "      <td>2007</td>\n",
       "      <td>OwnerSecond Owner</td>\n",
       "      <td>Diesel</td>\n",
       "      <td>AUTOMATIC</td>\n",
       "      <td>PB65</td>\n",
       "      <td>Insurance Type Comprehensive</td>\n",
       "      <td>2019.0</td>\n",
       "      <td>11.0</td>\n",
       "      <td>28.0</td>\n",
       "    </tr>\n",
       "  </tbody>\n",
       "</table>\n",
       "<p>32158 rows × 12 columns</p>\n",
       "</div>"
      ],
      "text/plain": [
       "        Price  Rating  Kilometers  Year_of_Purchase              Owner  \\\n",
       "0      174699     4.0       34854              2010   OwnerFirst Owner   \n",
       "1      333999     4.2       39541              2013  OwnerSecond Owner   \n",
       "2      353199     4.3       23233              2014  OwnerSecond Owner   \n",
       "3      237899     4.4       27748              2013   OwnerFirst Owner   \n",
       "4      300699     4.4       12238              2017  OwnerSecond Owner   \n",
       "...       ...     ...         ...               ...                ...   \n",
       "32153  150000     3.4       95792              2008   OwnerThird Owner   \n",
       "32154  250000     3.5       54505              2015  OwnerSecond Owner   \n",
       "32155  500000     3.6      161322              2008  OwnerSecond Owner   \n",
       "32156  600000     4.7       52006              2016   OwnerFirst Owner   \n",
       "32157  484000     3.8       88818              2007  OwnerSecond Owner   \n",
       "\n",
       "      Fuel_Type Transmission   RTO                    Insurance_Type  \\\n",
       "0        Petrol       MANUAL  AP09   Insurance TypeInsurance Expired   \n",
       "1        Petrol       MANUAL  AP28      Insurance Type Comprehensive   \n",
       "2        Petrol       MANUAL  AP28      Insurance Type Comprehensive   \n",
       "3        Petrol       MANUAL  AP13      Insurance Type Comprehensive   \n",
       "4        Petrol       MANUAL  TS10            Insurance Type Expired   \n",
       "...         ...          ...   ...                               ...   \n",
       "32153    Petrol       MANUAL  CH04   Insurance TypeInsurance Expired   \n",
       "32154    Diesel       MANUAL  PB13   Insurance TypeInsurance Expired   \n",
       "32155    Diesel       MANUAL  HR03   Insurance TypeInsurance Expired   \n",
       "32156    Diesel       MANUAL  PB65  Insurance Type Zero Depreciation   \n",
       "32157    Diesel    AUTOMATIC  PB65      Insurance Type Comprehensive   \n",
       "\n",
       "      Insurance_year Insurance_month Insurance_day  \n",
       "0               2021               7            16  \n",
       "1             2021.0             8.0           6.0  \n",
       "2             2021.0             4.0          28.0  \n",
       "3             2022.0             1.0           1.0  \n",
       "4               2021               7            16  \n",
       "...              ...             ...           ...  \n",
       "32153           2021               7            16  \n",
       "32154           2021               7            16  \n",
       "32155           2021               7            16  \n",
       "32156         2019.0            10.0          27.0  \n",
       "32157         2019.0            11.0          28.0  \n",
       "\n",
       "[32158 rows x 12 columns]"
      ]
     },
     "execution_count": 604,
     "metadata": {},
     "output_type": "execute_result"
    }
   ],
   "source": [
    "df[~df.duplicated()]"
   ]
  },
  {
   "cell_type": "code",
   "execution_count": 605,
   "id": "f2d8c079-faa8-449a-a5f9-184393a9457a",
   "metadata": {},
   "outputs": [
    {
     "data": {
      "text/plain": [
       "RTO\n",
       "GJ01    2345\n",
       "MH12    2048\n",
       "RJ14    1297\n",
       "UP32    1148\n",
       "KA03     933\n",
       "        ... \n",
       "MP15       1\n",
       "BR10       1\n",
       "OR07       1\n",
       "WB77       1\n",
       "HP97       1\n",
       "Name: count, Length: 777, dtype: int64"
      ]
     },
     "execution_count": 605,
     "metadata": {},
     "output_type": "execute_result"
    }
   ],
   "source": [
    "df[\"RTO\"].value_counts()"
   ]
  },
  {
   "cell_type": "code",
   "execution_count": 606,
   "id": "29a5fa60-26b6-40b7-911c-74d8eb9e7432",
   "metadata": {},
   "outputs": [
    {
     "data": {
      "text/plain": [
       "777"
      ]
     },
     "execution_count": 606,
     "metadata": {},
     "output_type": "execute_result"
    }
   ],
   "source": [
    "df[\"RTO\"].nunique()\n"
   ]
  },
  {
   "cell_type": "code",
   "execution_count": 607,
   "id": "c7d6219d-fd7c-49d6-8c01-0ee30f59de18",
   "metadata": {},
   "outputs": [],
   "source": [
    "df[\"Insurance_year\"] = df[\"Insurance_year\"].astype(int)\n",
    "df[\"Insurance_month\"] = df[\"Insurance_month\"].astype(int)\n",
    "df[\"Insurance_day\"] = df[\"Insurance_day\"].astype(int)"
   ]
  },
  {
   "cell_type": "code",
   "execution_count": 608,
   "id": "bb26ca49-ca01-4e38-964a-f93b8e705db9",
   "metadata": {},
   "outputs": [
    {
     "data": {
      "image/png": "[encoded data removed]",
      "text/plain": [
       "<Figure size 800x600 with 1 Axes>"
      ]
     },
     "metadata": {},
     "output_type": "display_data"
    },
    {
     "data": {
      "image/png": "[encoded data removed]",
      "text/plain": [
       "<Figure size 800x600 with 1 Axes>"
      ]
     },
     "metadata": {},
     "output_type": "display_data"
    },
    {
     "data": {
      "image/png": "[encoded data removed]",
      "text/plain": [
       "<Figure size 800x600 with 1 Axes>"
      ]
     },
     "metadata": {},
     "output_type": "display_data"
    }
   ],
   "source": [
    "import seaborn as sns\n",
    "import matplotlib.pyplot as plt\n",
    "\n",
    "# Assuming 'df' is your DataFrame\n",
    "# Filter numeric columns\n",
    "numeric_cols = df.select_dtypes(include=['float64', 'int64']).columns\n",
    "\n",
    "# Loop through each numeric column and create a boxplot\n",
    "for i in numeric_cols:\n",
    "    plt.figure(figsize=(8, 6))  # Optional: Adjust the figure size\n",
    "    sns.boxplot(y=df[i])\n",
    "    plt.title(f'Boxplot of {i}')\n",
    "    plt.show()"
   ]
  },
  {
   "cell_type": "code",
   "execution_count": 609,
   "id": "d96fe96f-bb51-4bb9-a783-d4a81f721228",
   "metadata": {},
   "outputs": [
    {
     "data": {
      "text/plain": [
       "Index(['Price', 'Rating', 'Kilometers', 'Year_of_Purchase', 'Owner',\n",
       "       'Fuel_Type', 'Transmission', 'RTO', 'Insurance_Type', 'Insurance_year',\n",
       "       'Insurance_month', 'Insurance_day'],\n",
       "      dtype='object')"
      ]
     },
     "execution_count": 609,
     "metadata": {},
     "output_type": "execute_result"
    }
   ],
   "source": [
    "df.columns"
   ]
  },
  {
   "cell_type": "code",
   "execution_count": 610,
   "id": "28495440-1647-4694-835d-79fdc9b04bb8",
   "metadata": {},
   "outputs": [
    {
     "name": "stdout",
     "output_type": "stream",
     "text": [
      "lower_limit: -56478.125\n",
      "upper_limit: 196346.875\n"
     ]
    }
   ],
   "source": [
    "\n",
    "    \n",
    "Q1 = df[\"Kilometers\"].quantile(0.25)\n",
    "Q3 = df[\"Kilometers\"].quantile(0.75)\n",
    "IQR = Q3 - Q1\n",
    "        \n",
    "       \n",
    "lower_bound = Q1 - 1.5 * IQR\n",
    "upper_bound = Q3 + 1.5 * IQR\n",
    "        \n",
    "        \n",
    "df[(df[\"Kilometers\"] < lower_bound) | (df[\"Kilometers\"] > upper_bound)]\n",
    "print(\"lower_limit:\",lower_bound)\n",
    "print(\"upper_limit:\",upper_bound)\n",
    "    \n",
    "    "
   ]
  },
  {
   "cell_type": "markdown",
   "id": "fc3b55f5-5fe2-4bf7-85af-3b0b6c9417e6",
   "metadata": {},
   "source": [
    "# winsorization"
   ]
  },
  {
   "cell_type": "code",
   "execution_count": 611,
   "id": "cd46209d-a8ff-4d97-a411-af3700f2e911",
   "metadata": {},
   "outputs": [],
   "source": [
    "df[\"Kilometers\"] = df[\"Kilometers\"].clip(lower = -56478.125,upper =196346.875 )\n"
   ]
  },
  {
   "cell_type": "code",
   "execution_count": 612,
   "id": "0536e948-afa6-47ff-8732-9ad313367f6a",
   "metadata": {},
   "outputs": [
    {
     "data": {
      "text/html": [
       "<div>\n",
       "<style scoped>\n",
       "    .dataframe tbody tr th:only-of-type {\n",
       "        vertical-align: middle;\n",
       "    }\n",
       "\n",
       "    .dataframe tbody tr th {\n",
       "        vertical-align: top;\n",
       "    }\n",
       "\n",
       "    .dataframe thead th {\n",
       "        text-align: right;\n",
       "    }\n",
       "</style>\n",
       "<table border=\"1\" class=\"dataframe\">\n",
       "  <thead>\n",
       "    <tr style=\"text-align: right;\">\n",
       "      <th></th>\n",
       "      <th>Price</th>\n",
       "      <th>Rating</th>\n",
       "      <th>Kilometers</th>\n",
       "      <th>Year_of_Purchase</th>\n",
       "      <th>Owner</th>\n",
       "      <th>Fuel_Type</th>\n",
       "      <th>Transmission</th>\n",
       "      <th>RTO</th>\n",
       "      <th>Insurance_Type</th>\n",
       "      <th>Insurance_year</th>\n",
       "      <th>Insurance_month</th>\n",
       "      <th>Insurance_day</th>\n",
       "    </tr>\n",
       "  </thead>\n",
       "  <tbody>\n",
       "  </tbody>\n",
       "</table>\n",
       "</div>"
      ],
      "text/plain": [
       "Empty DataFrame\n",
       "Columns: [Price, Rating, Kilometers, Year_of_Purchase, Owner, Fuel_Type, Transmission, RTO, Insurance_Type, Insurance_year, Insurance_month, Insurance_day]\n",
       "Index: []"
      ]
     },
     "execution_count": 612,
     "metadata": {},
     "output_type": "execute_result"
    }
   ],
   "source": [
    "df[(df[\"Kilometers\"] < lower_bound) | (df[\"Kilometers\"] > upper_bound)]"
   ]
  },
  {
   "cell_type": "code",
   "execution_count": 613,
   "id": "0e70bdbb-e649-446b-85e5-627a0bf2d728",
   "metadata": {},
   "outputs": [
    {
     "name": "stdout",
     "output_type": "stream",
     "text": [
      "lower_limit: 2001.0\n",
      "upper_limit: 2025.0\n"
     ]
    }
   ],
   "source": [
    "Q1 = df[\"Year_of_Purchase\"].quantile(0.25)\n",
    "Q3 = df[\"Year_of_Purchase\"].quantile(0.75)\n",
    "IQR = Q3 - Q1\n",
    "        \n",
    "       \n",
    "lower_bound = Q1 - 1.5 * IQR\n",
    "upper_bound = Q3 + 1.5 * IQR\n",
    "        \n",
    "        \n",
    "df[(df[\"Year_of_Purchase\"] < lower_bound) | (df[\"Year_of_Purchase\"] > upper_bound)]\n",
    "print(\"lower_limit:\",lower_bound)\n",
    "print(\"upper_limit:\",upper_bound)"
   ]
  },
  {
   "cell_type": "code",
   "execution_count": 614,
   "id": "26784073-17ef-4918-b5ee-1be983a9bb51",
   "metadata": {},
   "outputs": [],
   "source": [
    "df[\"Year_of_Purchase\"] = df[\"Year_of_Purchase\"].clip(lower = 2001.0,upper =2025.0)"
   ]
  },
  {
   "cell_type": "code",
   "execution_count": 615,
   "id": "61285350-7755-4756-8205-02d753bd98c1",
   "metadata": {},
   "outputs": [
    {
     "data": {
      "text/html": [
       "<div>\n",
       "<style scoped>\n",
       "    .dataframe tbody tr th:only-of-type {\n",
       "        vertical-align: middle;\n",
       "    }\n",
       "\n",
       "    .dataframe tbody tr th {\n",
       "        vertical-align: top;\n",
       "    }\n",
       "\n",
       "    .dataframe thead th {\n",
       "        text-align: right;\n",
       "    }\n",
       "</style>\n",
       "<table border=\"1\" class=\"dataframe\">\n",
       "  <thead>\n",
       "    <tr style=\"text-align: right;\">\n",
       "      <th></th>\n",
       "      <th>Price</th>\n",
       "      <th>Rating</th>\n",
       "      <th>Kilometers</th>\n",
       "      <th>Year_of_Purchase</th>\n",
       "      <th>Owner</th>\n",
       "      <th>Fuel_Type</th>\n",
       "      <th>Transmission</th>\n",
       "      <th>RTO</th>\n",
       "      <th>Insurance_Type</th>\n",
       "      <th>Insurance_year</th>\n",
       "      <th>Insurance_month</th>\n",
       "      <th>Insurance_day</th>\n",
       "    </tr>\n",
       "  </thead>\n",
       "  <tbody>\n",
       "  </tbody>\n",
       "</table>\n",
       "</div>"
      ],
      "text/plain": [
       "Empty DataFrame\n",
       "Columns: [Price, Rating, Kilometers, Year_of_Purchase, Owner, Fuel_Type, Transmission, RTO, Insurance_Type, Insurance_year, Insurance_month, Insurance_day]\n",
       "Index: []"
      ]
     },
     "execution_count": 615,
     "metadata": {},
     "output_type": "execute_result"
    }
   ],
   "source": [
    "df[(df[\"Year_of_Purchase\"] < lower_bound) | (df[\"Year_of_Purchase\"] > upper_bound)]"
   ]
  },
  {
   "cell_type": "code",
   "execution_count": 616,
   "id": "1db9e279-44ec-4bd2-84b7-2abacd477fce",
   "metadata": {},
   "outputs": [
    {
     "name": "stdout",
     "output_type": "stream",
     "text": [
      "lower_limit: 2.899999999999999\n",
      "upper_limit: 5.300000000000001\n"
     ]
    }
   ],
   "source": [
    "Q1 = df[\"Rating\"].quantile(0.25)\n",
    "Q3 = df[\"Rating\"].quantile(0.75)\n",
    "IQR = Q3 - Q1\n",
    "        \n",
    "       \n",
    "lower_bound = Q1 - 1.5 * IQR\n",
    "upper_bound = Q3 + 1.5 * IQR\n",
    "        \n",
    "        \n",
    "df[(df[\"Rating\"] < lower_bound) | (df[\"Rating\"] > upper_bound)]\n",
    "print(\"lower_limit:\",lower_bound)\n",
    "print(\"upper_limit:\",upper_bound)"
   ]
  },
  {
   "cell_type": "code",
   "execution_count": 617,
   "id": "23d71c3d-c5f3-4b87-8f58-1e58375f5c14",
   "metadata": {},
   "outputs": [],
   "source": [
    "df[\"Rating\"] = df[\"Rating\"].clip(lower = 2.899,upper =5.30001)"
   ]
  },
  {
   "cell_type": "code",
   "execution_count": 618,
   "id": "618e7f5d-5a5e-44ea-953e-f620e4c46a7c",
   "metadata": {},
   "outputs": [
    {
     "data": {
      "text/html": [
       "<div>\n",
       "<style scoped>\n",
       "    .dataframe tbody tr th:only-of-type {\n",
       "        vertical-align: middle;\n",
       "    }\n",
       "\n",
       "    .dataframe tbody tr th {\n",
       "        vertical-align: top;\n",
       "    }\n",
       "\n",
       "    .dataframe thead th {\n",
       "        text-align: right;\n",
       "    }\n",
       "</style>\n",
       "<table border=\"1\" class=\"dataframe\">\n",
       "  <thead>\n",
       "    <tr style=\"text-align: right;\">\n",
       "      <th></th>\n",
       "      <th>Price</th>\n",
       "      <th>Rating</th>\n",
       "      <th>Kilometers</th>\n",
       "      <th>Year_of_Purchase</th>\n",
       "      <th>Owner</th>\n",
       "      <th>Fuel_Type</th>\n",
       "      <th>Transmission</th>\n",
       "      <th>RTO</th>\n",
       "      <th>Insurance_Type</th>\n",
       "      <th>Insurance_year</th>\n",
       "      <th>Insurance_month</th>\n",
       "      <th>Insurance_day</th>\n",
       "    </tr>\n",
       "  </thead>\n",
       "  <tbody>\n",
       "    <tr>\n",
       "      <th>169</th>\n",
       "      <td>70000</td>\n",
       "      <td>2.899</td>\n",
       "      <td>31549.000</td>\n",
       "      <td>2012</td>\n",
       "      <td>OwnerSecond Owner</td>\n",
       "      <td>Petrol</td>\n",
       "      <td>MANUAL</td>\n",
       "      <td>AP36</td>\n",
       "      <td>Insurance Type Expired</td>\n",
       "      <td>2021</td>\n",
       "      <td>7</td>\n",
       "      <td>16</td>\n",
       "    </tr>\n",
       "    <tr>\n",
       "      <th>437</th>\n",
       "      <td>100000</td>\n",
       "      <td>2.899</td>\n",
       "      <td>80635.000</td>\n",
       "      <td>2006</td>\n",
       "      <td>OwnerThird Owner</td>\n",
       "      <td>Petrol + LPG</td>\n",
       "      <td>MANUAL</td>\n",
       "      <td>AP07</td>\n",
       "      <td>Insurance TypeInsurance Expired</td>\n",
       "      <td>2021</td>\n",
       "      <td>7</td>\n",
       "      <td>16</td>\n",
       "    </tr>\n",
       "    <tr>\n",
       "      <th>603</th>\n",
       "      <td>180000</td>\n",
       "      <td>2.899</td>\n",
       "      <td>69529.000</td>\n",
       "      <td>2007</td>\n",
       "      <td>OwnerSecond Owner</td>\n",
       "      <td>Petrol</td>\n",
       "      <td>MANUAL</td>\n",
       "      <td>AP13</td>\n",
       "      <td>Insurance TypeInsurance Expired</td>\n",
       "      <td>2021</td>\n",
       "      <td>7</td>\n",
       "      <td>16</td>\n",
       "    </tr>\n",
       "    <tr>\n",
       "      <th>621</th>\n",
       "      <td>35000</td>\n",
       "      <td>2.899</td>\n",
       "      <td>40059.000</td>\n",
       "      <td>2001</td>\n",
       "      <td>OwnerFourth Owner</td>\n",
       "      <td>Petrol</td>\n",
       "      <td>MANUAL</td>\n",
       "      <td>AP37</td>\n",
       "      <td>Insurance Type Expired</td>\n",
       "      <td>2021</td>\n",
       "      <td>7</td>\n",
       "      <td>16</td>\n",
       "    </tr>\n",
       "    <tr>\n",
       "      <th>787</th>\n",
       "      <td>60000</td>\n",
       "      <td>2.899</td>\n",
       "      <td>196346.875</td>\n",
       "      <td>2001</td>\n",
       "      <td>OwnerSecond Owner</td>\n",
       "      <td>Diesel</td>\n",
       "      <td>MANUAL</td>\n",
       "      <td>AP22</td>\n",
       "      <td>Insurance Type Expired</td>\n",
       "      <td>2021</td>\n",
       "      <td>7</td>\n",
       "      <td>16</td>\n",
       "    </tr>\n",
       "    <tr>\n",
       "      <th>...</th>\n",
       "      <td>...</td>\n",
       "      <td>...</td>\n",
       "      <td>...</td>\n",
       "      <td>...</td>\n",
       "      <td>...</td>\n",
       "      <td>...</td>\n",
       "      <td>...</td>\n",
       "      <td>...</td>\n",
       "      <td>...</td>\n",
       "      <td>...</td>\n",
       "      <td>...</td>\n",
       "      <td>...</td>\n",
       "    </tr>\n",
       "    <tr>\n",
       "      <th>32112</th>\n",
       "      <td>40000</td>\n",
       "      <td>2.899</td>\n",
       "      <td>196346.875</td>\n",
       "      <td>2005</td>\n",
       "      <td>OwnerFirst Owner</td>\n",
       "      <td>Petrol</td>\n",
       "      <td>MANUAL</td>\n",
       "      <td>CH03</td>\n",
       "      <td>Insurance Type Expired</td>\n",
       "      <td>2021</td>\n",
       "      <td>7</td>\n",
       "      <td>16</td>\n",
       "    </tr>\n",
       "    <tr>\n",
       "      <th>32113</th>\n",
       "      <td>48000</td>\n",
       "      <td>2.899</td>\n",
       "      <td>196346.875</td>\n",
       "      <td>2001</td>\n",
       "      <td>OwnerThird Owner</td>\n",
       "      <td>Diesel</td>\n",
       "      <td>MANUAL</td>\n",
       "      <td>PB09</td>\n",
       "      <td>Insurance TypeInsurance Expired</td>\n",
       "      <td>2021</td>\n",
       "      <td>7</td>\n",
       "      <td>16</td>\n",
       "    </tr>\n",
       "    <tr>\n",
       "      <th>32117</th>\n",
       "      <td>36000</td>\n",
       "      <td>2.899</td>\n",
       "      <td>80007.000</td>\n",
       "      <td>2001</td>\n",
       "      <td>OwnerFourth Owner</td>\n",
       "      <td>Petrol</td>\n",
       "      <td>MANUAL</td>\n",
       "      <td>CH04</td>\n",
       "      <td>Insurance TypeInsurance Expired</td>\n",
       "      <td>2021</td>\n",
       "      <td>7</td>\n",
       "      <td>16</td>\n",
       "    </tr>\n",
       "    <tr>\n",
       "      <th>32119</th>\n",
       "      <td>240000</td>\n",
       "      <td>2.899</td>\n",
       "      <td>196346.875</td>\n",
       "      <td>2015</td>\n",
       "      <td>OwnerFirst Owner</td>\n",
       "      <td>Diesel</td>\n",
       "      <td>MANUAL</td>\n",
       "      <td>PB11</td>\n",
       "      <td>Insurance TypeInsurance Expired</td>\n",
       "      <td>2021</td>\n",
       "      <td>7</td>\n",
       "      <td>16</td>\n",
       "    </tr>\n",
       "    <tr>\n",
       "      <th>32129</th>\n",
       "      <td>25000</td>\n",
       "      <td>2.899</td>\n",
       "      <td>41999.000</td>\n",
       "      <td>2001</td>\n",
       "      <td>OwnerFirst Owner</td>\n",
       "      <td>Petrol</td>\n",
       "      <td>MANUAL</td>\n",
       "      <td>PB65</td>\n",
       "      <td>Insurance TypeInsurance Expired</td>\n",
       "      <td>2021</td>\n",
       "      <td>7</td>\n",
       "      <td>16</td>\n",
       "    </tr>\n",
       "  </tbody>\n",
       "</table>\n",
       "<p>812 rows × 12 columns</p>\n",
       "</div>"
      ],
      "text/plain": [
       "        Price  Rating  Kilometers  Year_of_Purchase              Owner  \\\n",
       "169     70000   2.899   31549.000              2012  OwnerSecond Owner   \n",
       "437    100000   2.899   80635.000              2006   OwnerThird Owner   \n",
       "603    180000   2.899   69529.000              2007  OwnerSecond Owner   \n",
       "621     35000   2.899   40059.000              2001  OwnerFourth Owner   \n",
       "787     60000   2.899  196346.875              2001  OwnerSecond Owner   \n",
       "...       ...     ...         ...               ...                ...   \n",
       "32112   40000   2.899  196346.875              2005   OwnerFirst Owner   \n",
       "32113   48000   2.899  196346.875              2001   OwnerThird Owner   \n",
       "32117   36000   2.899   80007.000              2001  OwnerFourth Owner   \n",
       "32119  240000   2.899  196346.875              2015   OwnerFirst Owner   \n",
       "32129   25000   2.899   41999.000              2001   OwnerFirst Owner   \n",
       "\n",
       "          Fuel_Type Transmission   RTO                   Insurance_Type  \\\n",
       "169          Petrol       MANUAL  AP36           Insurance Type Expired   \n",
       "437    Petrol + LPG       MANUAL  AP07  Insurance TypeInsurance Expired   \n",
       "603          Petrol       MANUAL  AP13  Insurance TypeInsurance Expired   \n",
       "621          Petrol       MANUAL  AP37           Insurance Type Expired   \n",
       "787          Diesel       MANUAL  AP22           Insurance Type Expired   \n",
       "...             ...          ...   ...                              ...   \n",
       "32112        Petrol       MANUAL  CH03           Insurance Type Expired   \n",
       "32113        Diesel       MANUAL  PB09  Insurance TypeInsurance Expired   \n",
       "32117        Petrol       MANUAL  CH04  Insurance TypeInsurance Expired   \n",
       "32119        Diesel       MANUAL  PB11  Insurance TypeInsurance Expired   \n",
       "32129        Petrol       MANUAL  PB65  Insurance TypeInsurance Expired   \n",
       "\n",
       "       Insurance_year  Insurance_month  Insurance_day  \n",
       "169              2021                7             16  \n",
       "437              2021                7             16  \n",
       "603              2021                7             16  \n",
       "621              2021                7             16  \n",
       "787              2021                7             16  \n",
       "...               ...              ...            ...  \n",
       "32112            2021                7             16  \n",
       "32113            2021                7             16  \n",
       "32117            2021                7             16  \n",
       "32119            2021                7             16  \n",
       "32129            2021                7             16  \n",
       "\n",
       "[812 rows x 12 columns]"
      ]
     },
     "execution_count": 618,
     "metadata": {},
     "output_type": "execute_result"
    }
   ],
   "source": [
    "df[(df[\"Rating\"] < lower_bound) | (df[\"Rating\"] > upper_bound)]"
   ]
  },
  {
   "cell_type": "code",
   "execution_count": 619,
   "id": "568d7a6a-108b-4142-a35e-8fba73d214a1",
   "metadata": {},
   "outputs": [
    {
     "data": {
      "text/plain": [
       "Price                 int32\n",
       "Rating              float64\n",
       "Kilometers          float64\n",
       "Year_of_Purchase      int64\n",
       "Owner                object\n",
       "Fuel_Type            object\n",
       "Transmission         object\n",
       "RTO                  object\n",
       "Insurance_Type       object\n",
       "Insurance_year        int32\n",
       "Insurance_month       int32\n",
       "Insurance_day         int32\n",
       "dtype: object"
      ]
     },
     "execution_count": 619,
     "metadata": {},
     "output_type": "execute_result"
    }
   ],
   "source": [
    "df.dtypes"
   ]
  },
  {
   "cell_type": "markdown",
   "id": "80e4d97c-e282-4e37-9367-bda556927576",
   "metadata": {},
   "source": [
    "# detection of the outliers with the Z_score"
   ]
  },
  {
   "cell_type": "code",
   "execution_count": 620,
   "id": "bb80f8c4-8858-4c57-9f1f-076c38a67592",
   "metadata": {},
   "outputs": [],
   "source": [
    "outliers=[]\n",
    "def detect_outliers(data):\n",
    "    threshold = 3\n",
    "    data = np.array(data,dtype=float)\n",
    "    mean = np.mean(data)\n",
    "    std = np.std(data)\n",
    "    for i in data:\n",
    "        z_score = (i - mean)/std\n",
    "        if np.abs(z_score) > threshold:\n",
    "            outliers.append(i)\n",
    "    return outliers"
   ]
  },
  {
   "cell_type": "code",
   "execution_count": null,
   "id": "b8613845-ee5a-48da-9322-81018d3f4bf2",
   "metadata": {},
   "outputs": [],
   "source": []
  },
  {
   "cell_type": "code",
   "execution_count": 621,
   "id": "eaf09d4d-713e-464b-89ac-a9d1d81e338d",
   "metadata": {},
   "outputs": [
    {
     "data": {
      "text/plain": [
       "Index(['Price', 'Rating', 'Kilometers', 'Year_of_Purchase', 'Owner',\n",
       "       'Fuel_Type', 'Transmission', 'RTO', 'Insurance_Type', 'Insurance_year',\n",
       "       'Insurance_month', 'Insurance_day'],\n",
       "      dtype='object')"
      ]
     },
     "execution_count": 621,
     "metadata": {},
     "output_type": "execute_result"
    }
   ],
   "source": [
    "df.columns"
   ]
  },
  {
   "cell_type": "code",
   "execution_count": 622,
   "id": "0858ab59-f078-43de-8b31-8d9257d9329e",
   "metadata": {},
   "outputs": [
    {
     "data": {
      "text/html": [
       "<div>\n",
       "<style scoped>\n",
       "    .dataframe tbody tr th:only-of-type {\n",
       "        vertical-align: middle;\n",
       "    }\n",
       "\n",
       "    .dataframe tbody tr th {\n",
       "        vertical-align: top;\n",
       "    }\n",
       "\n",
       "    .dataframe thead th {\n",
       "        text-align: right;\n",
       "    }\n",
       "</style>\n",
       "<table border=\"1\" class=\"dataframe\">\n",
       "  <thead>\n",
       "    <tr style=\"text-align: right;\">\n",
       "      <th></th>\n",
       "      <th>Price</th>\n",
       "      <th>Rating</th>\n",
       "      <th>Kilometers</th>\n",
       "      <th>Year_of_Purchase</th>\n",
       "      <th>Insurance_year</th>\n",
       "      <th>Insurance_month</th>\n",
       "      <th>Insurance_day</th>\n",
       "    </tr>\n",
       "  </thead>\n",
       "  <tbody>\n",
       "    <tr>\n",
       "      <th>count</th>\n",
       "      <td>3.215800e+04</td>\n",
       "      <td>32158.000000</td>\n",
       "      <td>32158.000000</td>\n",
       "      <td>32158.000000</td>\n",
       "      <td>32158.000000</td>\n",
       "      <td>32158.000000</td>\n",
       "      <td>32158.000000</td>\n",
       "    </tr>\n",
       "    <tr>\n",
       "      <th>mean</th>\n",
       "      <td>4.760937e+05</td>\n",
       "      <td>4.086233</td>\n",
       "      <td>74771.076944</td>\n",
       "      <td>2012.436470</td>\n",
       "      <td>2020.952858</td>\n",
       "      <td>6.803253</td>\n",
       "      <td>16.327135</td>\n",
       "    </tr>\n",
       "    <tr>\n",
       "      <th>std</th>\n",
       "      <td>4.521493e+05</td>\n",
       "      <td>0.464526</td>\n",
       "      <td>46545.259706</td>\n",
       "      <td>4.318506</td>\n",
       "      <td>0.352625</td>\n",
       "      <td>3.014452</td>\n",
       "      <td>7.551679</td>\n",
       "    </tr>\n",
       "    <tr>\n",
       "      <th>min</th>\n",
       "      <td>1.000000e+00</td>\n",
       "      <td>2.899000</td>\n",
       "      <td>1.000000</td>\n",
       "      <td>2001.000000</td>\n",
       "      <td>2019.000000</td>\n",
       "      <td>1.000000</td>\n",
       "      <td>1.000000</td>\n",
       "    </tr>\n",
       "    <tr>\n",
       "      <th>25%</th>\n",
       "      <td>2.100000e+05</td>\n",
       "      <td>3.800000</td>\n",
       "      <td>38331.250000</td>\n",
       "      <td>2010.000000</td>\n",
       "      <td>2021.000000</td>\n",
       "      <td>5.000000</td>\n",
       "      <td>12.000000</td>\n",
       "    </tr>\n",
       "    <tr>\n",
       "      <th>50%</th>\n",
       "      <td>3.680000e+05</td>\n",
       "      <td>4.100000</td>\n",
       "      <td>69247.000000</td>\n",
       "      <td>2013.000000</td>\n",
       "      <td>2021.000000</td>\n",
       "      <td>7.000000</td>\n",
       "      <td>16.000000</td>\n",
       "    </tr>\n",
       "    <tr>\n",
       "      <th>75%</th>\n",
       "      <td>6.000000e+05</td>\n",
       "      <td>4.400000</td>\n",
       "      <td>101537.500000</td>\n",
       "      <td>2016.000000</td>\n",
       "      <td>2021.000000</td>\n",
       "      <td>9.000000</td>\n",
       "      <td>21.000000</td>\n",
       "    </tr>\n",
       "    <tr>\n",
       "      <th>max</th>\n",
       "      <td>1.080170e+07</td>\n",
       "      <td>5.000000</td>\n",
       "      <td>196346.875000</td>\n",
       "      <td>2020.000000</td>\n",
       "      <td>2024.000000</td>\n",
       "      <td>12.000000</td>\n",
       "      <td>31.000000</td>\n",
       "    </tr>\n",
       "  </tbody>\n",
       "</table>\n",
       "</div>"
      ],
      "text/plain": [
       "              Price        Rating     Kilometers  Year_of_Purchase  \\\n",
       "count  3.215800e+04  32158.000000   32158.000000      32158.000000   \n",
       "mean   4.760937e+05      4.086233   74771.076944       2012.436470   \n",
       "std    4.521493e+05      0.464526   46545.259706          4.318506   \n",
       "min    1.000000e+00      2.899000       1.000000       2001.000000   \n",
       "25%    2.100000e+05      3.800000   38331.250000       2010.000000   \n",
       "50%    3.680000e+05      4.100000   69247.000000       2013.000000   \n",
       "75%    6.000000e+05      4.400000  101537.500000       2016.000000   \n",
       "max    1.080170e+07      5.000000  196346.875000       2020.000000   \n",
       "\n",
       "       Insurance_year  Insurance_month  Insurance_day  \n",
       "count    32158.000000     32158.000000   32158.000000  \n",
       "mean      2020.952858         6.803253      16.327135  \n",
       "std          0.352625         3.014452       7.551679  \n",
       "min       2019.000000         1.000000       1.000000  \n",
       "25%       2021.000000         5.000000      12.000000  \n",
       "50%       2021.000000         7.000000      16.000000  \n",
       "75%       2021.000000         9.000000      21.000000  \n",
       "max       2024.000000        12.000000      31.000000  "
      ]
     },
     "execution_count": 622,
     "metadata": {},
     "output_type": "execute_result"
    }
   ],
   "source": [
    "df.describe()"
   ]
  },
  {
   "cell_type": "markdown",
   "id": "84265f5d-cf68-4921-806f-80cae3a87732",
   "metadata": {},
   "source": [
    "# data wrangling"
   ]
  },
  {
   "cell_type": "code",
   "execution_count": null,
   "id": "5bd8f60f-d5fb-444f-bf79-4cf61f7f277b",
   "metadata": {},
   "outputs": [],
   "source": []
  },
  {
   "cell_type": "code",
   "execution_count": 623,
   "id": "ee0d980f-8969-43f1-95cc-52a33f69d072",
   "metadata": {},
   "outputs": [
    {
     "data": {
      "text/plain": [
       "array(['OwnerFirst Owner', 'OwnerSecond Owner', 'OwnerThird Owner',\n",
       "       'OwnerFourth Owner', 'OwnerSixth Owner', 'OwnerFifth Owner',\n",
       "       'OwnerEighth Owner', 'OwnerSeventh Owner', 'OwnerNinth Owner',\n",
       "       'OwnerTenth Owner'], dtype=object)"
      ]
     },
     "execution_count": 623,
     "metadata": {},
     "output_type": "execute_result"
    }
   ],
   "source": [
    "df[\"Owner\"].unique()"
   ]
  },
  {
   "cell_type": "code",
   "execution_count": 624,
   "id": "e9cbee9a-52dd-4e7e-b5f6-d81b46a4d8b2",
   "metadata": {},
   "outputs": [],
   "source": [
    "from sklearn.preprocessing import OrdinalEncoder\n",
    "oe = OrdinalEncoder(categories = [[\"OwnerFirst Owner\",\"OwnerSecond Owner\",\"OwnerThird Owner\",\"OwnerFourth Owner\",'OwnerFifth Owner',\n",
    "                                  'OwnerSixth Owner','OwnerSeventh Owner','OwnerEighth Owner','OwnerNinth Owner','OwnerTenth Owner']])\n",
    "                                  \n",
    "df[\"Owner_oe\"] = oe.fit_transform(df[[\"Owner\"]]).astype(int)"
   ]
  },
  {
   "cell_type": "code",
   "execution_count": 625,
   "id": "80d1a11f-ce94-4699-9a06-d3cb95875011",
   "metadata": {},
   "outputs": [
    {
     "data": {
      "text/plain": [
       "array(['Petrol', 'Diesel', 'Petrol + LPG', 'Petrol + CNG', 'Electric',\n",
       "       'Hybrid'], dtype=object)"
      ]
     },
     "execution_count": 625,
     "metadata": {},
     "output_type": "execute_result"
    }
   ],
   "source": [
    "df[\"Fuel_Type\"].unique()"
   ]
  },
  {
   "cell_type": "code",
   "execution_count": 626,
   "id": "6b94cae7-5e16-4512-a5e4-e2063c7e6f63",
   "metadata": {},
   "outputs": [],
   "source": [
    "from sklearn.preprocessing import LabelEncoder\n",
    "le = LabelEncoder()\n",
    "df[\"Fuel_type_le\"] = le.fit_transform(df[\"Fuel_Type\"])"
   ]
  },
  {
   "cell_type": "code",
   "execution_count": 627,
   "id": "9bcc8945-b944-4af4-876a-3ffc868eef98",
   "metadata": {},
   "outputs": [],
   "source": [
    " #pd.get_dummies(df[\"Fuel_Type\"],drop_first = True,dtype = int)"
   ]
  },
  {
   "cell_type": "code",
   "execution_count": 628,
   "id": "9928a793-957b-416a-a530-b6b54d0667ec",
   "metadata": {},
   "outputs": [],
   "source": [
    "df.drop(columns=[\"Owner\",\"Fuel_Type\"],inplace=True)"
   ]
  },
  {
   "cell_type": "code",
   "execution_count": 629,
   "id": "4002a0e7-ce29-4b0e-93d9-a6d4c4573738",
   "metadata": {},
   "outputs": [
    {
     "data": {
      "text/plain": [
       "array(['MANUAL', 'AUTOMATIC'], dtype=object)"
      ]
     },
     "execution_count": 629,
     "metadata": {},
     "output_type": "execute_result"
    }
   ],
   "source": [
    "df[\"Transmission\"].unique()"
   ]
  },
  {
   "cell_type": "code",
   "execution_count": 630,
   "id": "8e96b5b5-a4b6-4198-a38c-28c38d514ca3",
   "metadata": {},
   "outputs": [
    {
     "data": {
      "text/plain": [
       "0        1\n",
       "1        1\n",
       "2        1\n",
       "3        1\n",
       "4        1\n",
       "        ..\n",
       "32153    1\n",
       "32154    1\n",
       "32155    1\n",
       "32156    1\n",
       "32157    0\n",
       "Name: Transmission_Le, Length: 32158, dtype: int32"
      ]
     },
     "execution_count": 630,
     "metadata": {},
     "output_type": "execute_result"
    }
   ],
   "source": [
    "\n",
    "df[\"Transmission_Le\"] = pd.get_dummies(df[\"Transmission\"],drop_first=True,dtype=int)\n",
    "df[\"Transmission_Le\"]"
   ]
  },
  {
   "cell_type": "code",
   "execution_count": 631,
   "id": "08f9886a-0621-4a67-91c9-4bb458e5be74",
   "metadata": {},
   "outputs": [],
   "source": [
    "from sklearn.preprocessing import LabelEncoder\n",
    "le = LabelEncoder()\n",
    "df[\"RTO_le\"] = le.fit_transform(df[\"RTO\"])"
   ]
  },
  {
   "cell_type": "code",
   "execution_count": 632,
   "id": "6eac8b45-55a2-4dab-aeb1-d361ffbdb685",
   "metadata": {},
   "outputs": [],
   "source": [
    "from sklearn.preprocessing import LabelEncoder\n",
    "le = LabelEncoder()\n",
    "df[\"Insurance_Type_le\"] = le.fit_transform(df[\"Insurance_Type\"])"
   ]
  },
  {
   "cell_type": "code",
   "execution_count": 633,
   "id": "9864f511-041b-4ff6-b79d-b85788b8d099",
   "metadata": {},
   "outputs": [
    {
     "data": {
      "text/plain": [
       "Price                  int32\n",
       "Rating               float64\n",
       "Kilometers           float64\n",
       "Year_of_Purchase       int64\n",
       "Transmission          object\n",
       "RTO                   object\n",
       "Insurance_Type        object\n",
       "Insurance_year         int32\n",
       "Insurance_month        int32\n",
       "Insurance_day          int32\n",
       "Owner_oe               int32\n",
       "Fuel_type_le           int32\n",
       "Transmission_Le        int32\n",
       "RTO_le                 int32\n",
       "Insurance_Type_le      int32\n",
       "dtype: object"
      ]
     },
     "execution_count": 633,
     "metadata": {},
     "output_type": "execute_result"
    }
   ],
   "source": [
    "df.dtypes"
   ]
  },
  {
   "cell_type": "code",
   "execution_count": 634,
   "id": "b8f01861-c07b-4a1e-8201-854a5451841d",
   "metadata": {},
   "outputs": [],
   "source": [
    "df.drop(columns = [\"Transmission\",\"RTO\",\"Insurance_Type\"],inplace = True)"
   ]
  },
  {
   "cell_type": "code",
   "execution_count": 635,
   "id": "7d0c4e4f-8eb0-4a97-ab2e-3d4da2fa3704",
   "metadata": {},
   "outputs": [
    {
     "data": {
      "text/html": [
       "<div>\n",
       "<style scoped>\n",
       "    .dataframe tbody tr th:only-of-type {\n",
       "        vertical-align: middle;\n",
       "    }\n",
       "\n",
       "    .dataframe tbody tr th {\n",
       "        vertical-align: top;\n",
       "    }\n",
       "\n",
       "    .dataframe thead th {\n",
       "        text-align: right;\n",
       "    }\n",
       "</style>\n",
       "<table border=\"1\" class=\"dataframe\">\n",
       "  <thead>\n",
       "    <tr style=\"text-align: right;\">\n",
       "      <th></th>\n",
       "      <th>Price</th>\n",
       "      <th>Rating</th>\n",
       "      <th>Kilometers</th>\n",
       "      <th>Year_of_Purchase</th>\n",
       "      <th>Insurance_year</th>\n",
       "      <th>Insurance_month</th>\n",
       "      <th>Insurance_day</th>\n",
       "      <th>Owner_oe</th>\n",
       "      <th>Fuel_type_le</th>\n",
       "      <th>Transmission_Le</th>\n",
       "      <th>RTO_le</th>\n",
       "      <th>Insurance_Type_le</th>\n",
       "    </tr>\n",
       "  </thead>\n",
       "  <tbody>\n",
       "    <tr>\n",
       "      <th>0</th>\n",
       "      <td>174699</td>\n",
       "      <td>4.0</td>\n",
       "      <td>34854.0</td>\n",
       "      <td>2010</td>\n",
       "      <td>2021</td>\n",
       "      <td>7</td>\n",
       "      <td>16</td>\n",
       "      <td>0</td>\n",
       "      <td>3</td>\n",
       "      <td>1</td>\n",
       "      <td>10</td>\n",
       "      <td>6</td>\n",
       "    </tr>\n",
       "    <tr>\n",
       "      <th>1</th>\n",
       "      <td>333999</td>\n",
       "      <td>4.2</td>\n",
       "      <td>39541.0</td>\n",
       "      <td>2013</td>\n",
       "      <td>2021</td>\n",
       "      <td>8</td>\n",
       "      <td>6</td>\n",
       "      <td>1</td>\n",
       "      <td>3</td>\n",
       "      <td>1</td>\n",
       "      <td>26</td>\n",
       "      <td>0</td>\n",
       "    </tr>\n",
       "    <tr>\n",
       "      <th>2</th>\n",
       "      <td>353199</td>\n",
       "      <td>4.3</td>\n",
       "      <td>23233.0</td>\n",
       "      <td>2014</td>\n",
       "      <td>2021</td>\n",
       "      <td>4</td>\n",
       "      <td>28</td>\n",
       "      <td>1</td>\n",
       "      <td>3</td>\n",
       "      <td>1</td>\n",
       "      <td>26</td>\n",
       "      <td>0</td>\n",
       "    </tr>\n",
       "    <tr>\n",
       "      <th>3</th>\n",
       "      <td>237899</td>\n",
       "      <td>4.4</td>\n",
       "      <td>27748.0</td>\n",
       "      <td>2013</td>\n",
       "      <td>2022</td>\n",
       "      <td>1</td>\n",
       "      <td>1</td>\n",
       "      <td>0</td>\n",
       "      <td>3</td>\n",
       "      <td>1</td>\n",
       "      <td>14</td>\n",
       "      <td>0</td>\n",
       "    </tr>\n",
       "    <tr>\n",
       "      <th>4</th>\n",
       "      <td>300699</td>\n",
       "      <td>4.4</td>\n",
       "      <td>12238.0</td>\n",
       "      <td>2017</td>\n",
       "      <td>2021</td>\n",
       "      <td>7</td>\n",
       "      <td>16</td>\n",
       "      <td>1</td>\n",
       "      <td>3</td>\n",
       "      <td>1</td>\n",
       "      <td>642</td>\n",
       "      <td>1</td>\n",
       "    </tr>\n",
       "    <tr>\n",
       "      <th>...</th>\n",
       "      <td>...</td>\n",
       "      <td>...</td>\n",
       "      <td>...</td>\n",
       "      <td>...</td>\n",
       "      <td>...</td>\n",
       "      <td>...</td>\n",
       "      <td>...</td>\n",
       "      <td>...</td>\n",
       "      <td>...</td>\n",
       "      <td>...</td>\n",
       "      <td>...</td>\n",
       "      <td>...</td>\n",
       "    </tr>\n",
       "    <tr>\n",
       "      <th>32153</th>\n",
       "      <td>150000</td>\n",
       "      <td>3.4</td>\n",
       "      <td>95792.0</td>\n",
       "      <td>2008</td>\n",
       "      <td>2021</td>\n",
       "      <td>7</td>\n",
       "      <td>16</td>\n",
       "      <td>2</td>\n",
       "      <td>3</td>\n",
       "      <td>1</td>\n",
       "      <td>72</td>\n",
       "      <td>6</td>\n",
       "    </tr>\n",
       "    <tr>\n",
       "      <th>32154</th>\n",
       "      <td>250000</td>\n",
       "      <td>3.5</td>\n",
       "      <td>54505.0</td>\n",
       "      <td>2015</td>\n",
       "      <td>2021</td>\n",
       "      <td>7</td>\n",
       "      <td>16</td>\n",
       "      <td>1</td>\n",
       "      <td>0</td>\n",
       "      <td>1</td>\n",
       "      <td>467</td>\n",
       "      <td>6</td>\n",
       "    </tr>\n",
       "    <tr>\n",
       "      <th>32155</th>\n",
       "      <td>500000</td>\n",
       "      <td>3.6</td>\n",
       "      <td>161322.0</td>\n",
       "      <td>2008</td>\n",
       "      <td>2021</td>\n",
       "      <td>7</td>\n",
       "      <td>16</td>\n",
       "      <td>1</td>\n",
       "      <td>0</td>\n",
       "      <td>1</td>\n",
       "      <td>191</td>\n",
       "      <td>6</td>\n",
       "    </tr>\n",
       "    <tr>\n",
       "      <th>32156</th>\n",
       "      <td>600000</td>\n",
       "      <td>4.7</td>\n",
       "      <td>52006.0</td>\n",
       "      <td>2016</td>\n",
       "      <td>2019</td>\n",
       "      <td>10</td>\n",
       "      <td>27</td>\n",
       "      <td>0</td>\n",
       "      <td>0</td>\n",
       "      <td>1</td>\n",
       "      <td>494</td>\n",
       "      <td>5</td>\n",
       "    </tr>\n",
       "    <tr>\n",
       "      <th>32157</th>\n",
       "      <td>484000</td>\n",
       "      <td>3.8</td>\n",
       "      <td>88818.0</td>\n",
       "      <td>2007</td>\n",
       "      <td>2019</td>\n",
       "      <td>11</td>\n",
       "      <td>28</td>\n",
       "      <td>1</td>\n",
       "      <td>0</td>\n",
       "      <td>0</td>\n",
       "      <td>494</td>\n",
       "      <td>0</td>\n",
       "    </tr>\n",
       "  </tbody>\n",
       "</table>\n",
       "<p>32158 rows × 12 columns</p>\n",
       "</div>"
      ],
      "text/plain": [
       "        Price  Rating  Kilometers  Year_of_Purchase  Insurance_year  \\\n",
       "0      174699     4.0     34854.0              2010            2021   \n",
       "1      333999     4.2     39541.0              2013            2021   \n",
       "2      353199     4.3     23233.0              2014            2021   \n",
       "3      237899     4.4     27748.0              2013            2022   \n",
       "4      300699     4.4     12238.0              2017            2021   \n",
       "...       ...     ...         ...               ...             ...   \n",
       "32153  150000     3.4     95792.0              2008            2021   \n",
       "32154  250000     3.5     54505.0              2015            2021   \n",
       "32155  500000     3.6    161322.0              2008            2021   \n",
       "32156  600000     4.7     52006.0              2016            2019   \n",
       "32157  484000     3.8     88818.0              2007            2019   \n",
       "\n",
       "       Insurance_month  Insurance_day  Owner_oe  Fuel_type_le  \\\n",
       "0                    7             16         0             3   \n",
       "1                    8              6         1             3   \n",
       "2                    4             28         1             3   \n",
       "3                    1              1         0             3   \n",
       "4                    7             16         1             3   \n",
       "...                ...            ...       ...           ...   \n",
       "32153                7             16         2             3   \n",
       "32154                7             16         1             0   \n",
       "32155                7             16         1             0   \n",
       "32156               10             27         0             0   \n",
       "32157               11             28         1             0   \n",
       "\n",
       "       Transmission_Le  RTO_le  Insurance_Type_le  \n",
       "0                    1      10                  6  \n",
       "1                    1      26                  0  \n",
       "2                    1      26                  0  \n",
       "3                    1      14                  0  \n",
       "4                    1     642                  1  \n",
       "...                ...     ...                ...  \n",
       "32153                1      72                  6  \n",
       "32154                1     467                  6  \n",
       "32155                1     191                  6  \n",
       "32156                1     494                  5  \n",
       "32157                0     494                  0  \n",
       "\n",
       "[32158 rows x 12 columns]"
      ]
     },
     "execution_count": 635,
     "metadata": {},
     "output_type": "execute_result"
    }
   ],
   "source": [
    "df"
   ]
  },
  {
   "cell_type": "code",
   "execution_count": 636,
   "id": "dcecb777-1432-4db9-a242-a8dd89cfe815",
   "metadata": {},
   "outputs": [],
   "source": [
    "a = df.corr()"
   ]
  },
  {
   "cell_type": "code",
   "execution_count": 637,
   "id": "09201aea-b998-4c15-b7dc-70d5bb091cfa",
   "metadata": {},
   "outputs": [
    {
     "data": {
      "image/png": "[encoded data removed]",
      "text/plain": [
       "<Figure size 1200x800 with 2 Axes>"
      ]
     },
     "metadata": {},
     "output_type": "display_data"
    }
   ],
   "source": [
    "df.plot(figsize = (12,8))\n",
    "sns.heatmap(a,annot = True)\n",
    "plt.show()"
   ]
  },
  {
   "cell_type": "code",
   "execution_count": 638,
   "id": "6879699c-de6e-4f4a-83f6-39c824ab0d8a",
   "metadata": {},
   "outputs": [
    {
     "data": {
      "text/plain": [
       "Price                4.516217\n",
       "Rating              -0.364672\n",
       "Kilometers           0.691978\n",
       "Year_of_Purchase    -0.564410\n",
       "Insurance_year      -0.378136\n",
       "Insurance_month     -0.229056\n",
       "Insurance_day       -0.043895\n",
       "Owner_oe             2.020482\n",
       "Fuel_type_le         0.026217\n",
       "Transmission_Le     -2.984528\n",
       "RTO_le               0.010739\n",
       "Insurance_Type_le    0.100332\n",
       "dtype: float64"
      ]
     },
     "execution_count": 638,
     "metadata": {},
     "output_type": "execute_result"
    }
   ],
   "source": [
    "df.skew()"
   ]
  },
  {
   "cell_type": "markdown",
   "id": "f37d448d-8cfb-4aa5-aa00-c716e9284166",
   "metadata": {},
   "source": [
    "# feature transformation"
   ]
  },
  {
   "cell_type": "code",
   "execution_count": 639,
   "id": "20c72a64-357b-4cc3-a765-59545529995c",
   "metadata": {},
   "outputs": [
    {
     "data": {
      "text/plain": [
       "0.3553318222829952"
      ]
     },
     "execution_count": 639,
     "metadata": {},
     "output_type": "execute_result"
    }
   ],
   "source": [
    "from scipy import stats\n",
    "df[\"Price_N_F\"] = df[\"Price\"]**(1/4)\n",
    "df[\"Price_N_F\"].skew()\n"
   ]
  },
  {
   "cell_type": "code",
   "execution_count": 640,
   "id": "c04a5b65-164f-4557-8e17-3087730d72ca",
   "metadata": {},
   "outputs": [
    {
     "data": {
      "text/plain": [
       "-0.0295277907659243"
      ]
     },
     "execution_count": 640,
     "metadata": {},
     "output_type": "execute_result"
    }
   ],
   "source": [
    "df[\"Rating_N_b_F\"],param  = stats.boxcox(df[\"Rating\"]+0.01)\n",
    "df[\"Rating_N_b_F\"].skew()"
   ]
  },
  {
   "cell_type": "code",
   "execution_count": 641,
   "id": "5a9d4142-82a6-41ec-a259-4fb0f2edd95a",
   "metadata": {},
   "outputs": [
    {
     "data": {
      "text/plain": [
       "-0.09624717604327108"
      ]
     },
     "execution_count": 641,
     "metadata": {},
     "output_type": "execute_result"
    }
   ],
   "source": [
    "df[\"Kilometers_N_F\"] = df[\"Kilometers\"] **(1/2)\n",
    "df[\"Kilometers_N_F\"].skew()\n"
   ]
  },
  {
   "cell_type": "code",
   "execution_count": 642,
   "id": "e3dd1b05-8371-4bc8-9ab8-e7eb76945ce4",
   "metadata": {},
   "outputs": [
    {
     "data": {
      "text/plain": [
       "0.7218913208583428"
      ]
     },
     "execution_count": 642,
     "metadata": {},
     "output_type": "execute_result"
    }
   ],
   "source": [
    "df[\"Owner_oe_N_F\"] = df[\"Owner_oe\"]**(1/2)\n",
    "df[\"Owner_oe_N_F\"].skew()"
   ]
  },
  {
   "cell_type": "code",
   "execution_count": 643,
   "id": "6c9fb250-3831-4f62-b150-ddb412c9ecb6",
   "metadata": {},
   "outputs": [
    {
     "name": "stdout",
     "output_type": "stream",
     "text": [
      "Price                      4.516217\n",
      "Rating                    -0.364672\n",
      "Kilometers                 0.691978\n",
      "Year_of_Purchase          -0.564410\n",
      "Insurance_year            -0.378136\n",
      "Insurance_month           -0.229056\n",
      "Insurance_day             -0.043895\n",
      "Owner_oe                   2.020482\n",
      "Fuel_type_le               0.026217\n",
      "Transmission_Le           -2.984528\n",
      "RTO_le                     0.010739\n",
      "Insurance_Type_le          0.100332\n",
      "Price_N_F                  0.355332\n",
      "Rating_N_b_F              -0.029528\n",
      "Kilometers_N_F            -0.096247\n",
      "Owner_oe_N_F               0.721891\n",
      "Transmission_le_shifted   -2.984528\n",
      "Transmission_le_log       -2.984528\n",
      "dtype: float64\n"
     ]
    }
   ],
   "source": [
    "# Shift to make all values positive\n",
    "df['Transmission_le_shifted'] = df['Transmission_Le'] - df['Transmission_Le'].min() + 1\n",
    "\n",
    "# Apply log transformation\n",
    "df['Transmission_le_log'] = np.log(df['Transmission_le_shifted'])\n",
    "\n",
    "print(df.skew())"
   ]
  },
  {
   "cell_type": "code",
   "execution_count": 644,
   "id": "2b2dc081-b70d-4090-849f-e9268ed3f3bc",
   "metadata": {},
   "outputs": [
    {
     "name": "stdout",
     "output_type": "stream",
     "text": [
      "Price                      4.516217\n",
      "Rating                    -0.364672\n",
      "Kilometers                 0.691978\n",
      "Year_of_Purchase          -0.564410\n",
      "Insurance_year            -0.378136\n",
      "Insurance_month           -0.229056\n",
      "Insurance_day             -0.043895\n",
      "Owner_oe                   2.020482\n",
      "Fuel_type_le               0.026217\n",
      "Transmission_Le           -2.984528\n",
      "RTO_le                     0.010739\n",
      "Insurance_Type_le          0.100332\n",
      "Price_N_F                  0.355332\n",
      "Rating_N_b_F              -0.029528\n",
      "Kilometers_N_F            -0.096247\n",
      "Owner_oe_N_F               0.721891\n",
      "Transmission_le_shifted   -2.984528\n",
      "Transmission_le_log       -2.984528\n",
      "Transmission_le_boxcox    -2.984528\n",
      "dtype: float64\n"
     ]
    }
   ],
   "source": [
    "from scipy.stats import boxcox\n",
    "\n",
    "# Shift to make all values positive\n",
    "df['Transmission_le_shifted'] = df['Transmission_Le'] - df['Transmission_Le'].min() + 1\n",
    "\n",
    "# Apply Box-Cox transformation\n",
    "df['Transmission_le_boxcox'], _ = boxcox(df['Transmission_le_shifted'])\n",
    "\n",
    "print(df.skew())"
   ]
  },
  {
   "cell_type": "code",
   "execution_count": 645,
   "id": "d9f4a9e3-c9b2-4d72-91d4-a994b408c9ce",
   "metadata": {},
   "outputs": [
    {
     "name": "stdout",
     "output_type": "stream",
     "text": [
      "-2.984528444407252\n"
     ]
    }
   ],
   "source": [
    "import pandas as pd\n",
    "import numpy as np\n",
    "\n",
    "# Standardize the column\n",
    "df['Transmission_le_normalized'] = (df['Transmission_Le'] - df['Transmission_Le'].mean()) / df['Transmission_Le'].std()\n",
    "\n",
    "print(df[\"Transmission_le_normalized\"].skew())"
   ]
  },
  {
   "cell_type": "code",
   "execution_count": 658,
   "id": "6707864a-5774-4546-86e5-d72c3bd8229e",
   "metadata": {},
   "outputs": [
    {
     "data": {
      "text/plain": [
       "0.0"
      ]
     },
     "execution_count": 658,
     "metadata": {},
     "output_type": "execute_result"
    }
   ],
   "source": [
    "from scipy import stats\n",
    "df[\"Transmission_le_normalized\"] = df[\"Transmission_le_normalized\"]**(1/2)\n",
    "df[\"Transmission_le_normalized\"].skew()"
   ]
  },
  {
   "cell_type": "code",
   "execution_count": 647,
   "id": "cc0e2f97-45ab-4367-aea8-d36b99586a92",
   "metadata": {},
   "outputs": [
    {
     "data": {
      "text/plain": [
       "Price                         4.516217\n",
       "Rating                       -0.364672\n",
       "Kilometers                    0.691978\n",
       "Year_of_Purchase             -0.564410\n",
       "Insurance_year               -0.378136\n",
       "Insurance_month              -0.229056\n",
       "Insurance_day                -0.043895\n",
       "Owner_oe                      2.020482\n",
       "Fuel_type_le                  0.026217\n",
       "Transmission_Le              -2.984528\n",
       "RTO_le                        0.010739\n",
       "Insurance_Type_le             0.100332\n",
       "Price_N_F                     0.355332\n",
       "Rating_N_b_F                 -0.029528\n",
       "Kilometers_N_F               -0.096247\n",
       "Owner_oe_N_F                  0.721891\n",
       "Transmission_le_shifted      -2.984528\n",
       "Transmission_le_log          -2.984528\n",
       "Transmission_le_boxcox       -2.984528\n",
       "Transmission_le_normalized    0.000000\n",
       "dtype: float64"
      ]
     },
     "execution_count": 647,
     "metadata": {},
     "output_type": "execute_result"
    }
   ],
   "source": [
    "df.skew()"
   ]
  },
  {
   "cell_type": "code",
   "execution_count": 648,
   "id": "d32cc9bd-6db8-459d-8c47-e03447804446",
   "metadata": {},
   "outputs": [],
   "source": [
    "df.drop(columns = [\"Transmission_le_boxcox\",\"Transmission_le_log\",\"Transmission_le_shifted\",\"Transmission_Le\"],inplace = True)"
   ]
  },
  {
   "cell_type": "code",
   "execution_count": 649,
   "id": "db9717d3-f21b-43a8-a6bc-ab6e5c2a7bec",
   "metadata": {},
   "outputs": [],
   "source": [
    "df.drop(columns = [\"Price\",\"Rating\",\"Kilometers\",\"Owner_oe\"],inplace = True)"
   ]
  },
  {
   "cell_type": "code",
   "execution_count": 650,
   "id": "c5ee8af9-7c51-48bf-8d93-96f17df02934",
   "metadata": {},
   "outputs": [],
   "source": [
    "df.drop(columns = [\"Insurance_day\"],inplace = True)"
   ]
  },
  {
   "cell_type": "code",
   "execution_count": 651,
   "id": "8940fcaa-d230-4d07-b6d2-a38c03c01958",
   "metadata": {},
   "outputs": [
    {
     "data": {
      "text/html": [
       "<div>\n",
       "<style scoped>\n",
       "    .dataframe tbody tr th:only-of-type {\n",
       "        vertical-align: middle;\n",
       "    }\n",
       "\n",
       "    .dataframe tbody tr th {\n",
       "        vertical-align: top;\n",
       "    }\n",
       "\n",
       "    .dataframe thead th {\n",
       "        text-align: right;\n",
       "    }\n",
       "</style>\n",
       "<table border=\"1\" class=\"dataframe\">\n",
       "  <thead>\n",
       "    <tr style=\"text-align: right;\">\n",
       "      <th></th>\n",
       "      <th>Year_of_Purchase</th>\n",
       "      <th>Insurance_year</th>\n",
       "      <th>Insurance_month</th>\n",
       "      <th>Fuel_type_le</th>\n",
       "      <th>RTO_le</th>\n",
       "      <th>Insurance_Type_le</th>\n",
       "      <th>Price_N_F</th>\n",
       "      <th>Rating_N_b_F</th>\n",
       "      <th>Kilometers_N_F</th>\n",
       "      <th>Owner_oe_N_F</th>\n",
       "      <th>Transmission_le_normalized</th>\n",
       "    </tr>\n",
       "  </thead>\n",
       "  <tbody>\n",
       "    <tr>\n",
       "      <th>0</th>\n",
       "      <td>2010</td>\n",
       "      <td>2021</td>\n",
       "      <td>7</td>\n",
       "      <td>3</td>\n",
       "      <td>10</td>\n",
       "      <td>6</td>\n",
       "      <td>20.444317</td>\n",
       "      <td>8.336032</td>\n",
       "      <td>186.692260</td>\n",
       "      <td>0.000000</td>\n",
       "      <td>0.742591</td>\n",
       "    </tr>\n",
       "    <tr>\n",
       "      <th>1</th>\n",
       "      <td>2013</td>\n",
       "      <td>2021</td>\n",
       "      <td>8</td>\n",
       "      <td>3</td>\n",
       "      <td>26</td>\n",
       "      <td>0</td>\n",
       "      <td>24.040101</td>\n",
       "      <td>9.285143</td>\n",
       "      <td>198.849189</td>\n",
       "      <td>1.000000</td>\n",
       "      <td>0.742591</td>\n",
       "    </tr>\n",
       "    <tr>\n",
       "      <th>2</th>\n",
       "      <td>2014</td>\n",
       "      <td>2021</td>\n",
       "      <td>4</td>\n",
       "      <td>3</td>\n",
       "      <td>26</td>\n",
       "      <td>0</td>\n",
       "      <td>24.378381</td>\n",
       "      <td>9.778811</td>\n",
       "      <td>152.423751</td>\n",
       "      <td>1.000000</td>\n",
       "      <td>0.742591</td>\n",
       "    </tr>\n",
       "    <tr>\n",
       "      <th>3</th>\n",
       "      <td>2013</td>\n",
       "      <td>2022</td>\n",
       "      <td>1</td>\n",
       "      <td>3</td>\n",
       "      <td>14</td>\n",
       "      <td>0</td>\n",
       "      <td>22.085038</td>\n",
       "      <td>10.285262</td>\n",
       "      <td>166.577309</td>\n",
       "      <td>0.000000</td>\n",
       "      <td>0.742591</td>\n",
       "    </tr>\n",
       "    <tr>\n",
       "      <th>4</th>\n",
       "      <td>2017</td>\n",
       "      <td>2021</td>\n",
       "      <td>7</td>\n",
       "      <td>3</td>\n",
       "      <td>642</td>\n",
       "      <td>1</td>\n",
       "      <td>23.417094</td>\n",
       "      <td>10.285262</td>\n",
       "      <td>110.625494</td>\n",
       "      <td>1.000000</td>\n",
       "      <td>0.742591</td>\n",
       "    </tr>\n",
       "    <tr>\n",
       "      <th>...</th>\n",
       "      <td>...</td>\n",
       "      <td>...</td>\n",
       "      <td>...</td>\n",
       "      <td>...</td>\n",
       "      <td>...</td>\n",
       "      <td>...</td>\n",
       "      <td>...</td>\n",
       "      <td>...</td>\n",
       "      <td>...</td>\n",
       "      <td>...</td>\n",
       "      <td>...</td>\n",
       "    </tr>\n",
       "    <tr>\n",
       "      <th>32153</th>\n",
       "      <td>2008</td>\n",
       "      <td>2021</td>\n",
       "      <td>7</td>\n",
       "      <td>3</td>\n",
       "      <td>72</td>\n",
       "      <td>6</td>\n",
       "      <td>19.679897</td>\n",
       "      <td>5.792157</td>\n",
       "      <td>309.502827</td>\n",
       "      <td>1.414214</td>\n",
       "      <td>0.742591</td>\n",
       "    </tr>\n",
       "    <tr>\n",
       "      <th>32154</th>\n",
       "      <td>2015</td>\n",
       "      <td>2021</td>\n",
       "      <td>7</td>\n",
       "      <td>0</td>\n",
       "      <td>467</td>\n",
       "      <td>6</td>\n",
       "      <td>22.360680</td>\n",
       "      <td>6.184724</td>\n",
       "      <td>233.463059</td>\n",
       "      <td>1.000000</td>\n",
       "      <td>0.742591</td>\n",
       "    </tr>\n",
       "    <tr>\n",
       "      <th>32155</th>\n",
       "      <td>2008</td>\n",
       "      <td>2021</td>\n",
       "      <td>7</td>\n",
       "      <td>0</td>\n",
       "      <td>191</td>\n",
       "      <td>6</td>\n",
       "      <td>26.591479</td>\n",
       "      <td>6.589809</td>\n",
       "      <td>401.649101</td>\n",
       "      <td>1.000000</td>\n",
       "      <td>0.742591</td>\n",
       "    </tr>\n",
       "    <tr>\n",
       "      <th>32156</th>\n",
       "      <td>2016</td>\n",
       "      <td>2019</td>\n",
       "      <td>10</td>\n",
       "      <td>0</td>\n",
       "      <td>494</td>\n",
       "      <td>5</td>\n",
       "      <td>27.831577</td>\n",
       "      <td>11.881603</td>\n",
       "      <td>228.048241</td>\n",
       "      <td>0.000000</td>\n",
       "      <td>0.742591</td>\n",
       "    </tr>\n",
       "    <tr>\n",
       "      <th>32157</th>\n",
       "      <td>2007</td>\n",
       "      <td>2019</td>\n",
       "      <td>11</td>\n",
       "      <td>0</td>\n",
       "      <td>494</td>\n",
       "      <td>0</td>\n",
       "      <td>26.376146</td>\n",
       "      <td>7.437675</td>\n",
       "      <td>298.023489</td>\n",
       "      <td>1.000000</td>\n",
       "      <td>NaN</td>\n",
       "    </tr>\n",
       "  </tbody>\n",
       "</table>\n",
       "<p>32158 rows × 11 columns</p>\n",
       "</div>"
      ],
      "text/plain": [
       "       Year_of_Purchase  Insurance_year  Insurance_month  Fuel_type_le  \\\n",
       "0                  2010            2021                7             3   \n",
       "1                  2013            2021                8             3   \n",
       "2                  2014            2021                4             3   \n",
       "3                  2013            2022                1             3   \n",
       "4                  2017            2021                7             3   \n",
       "...                 ...             ...              ...           ...   \n",
       "32153              2008            2021                7             3   \n",
       "32154              2015            2021                7             0   \n",
       "32155              2008            2021                7             0   \n",
       "32156              2016            2019               10             0   \n",
       "32157              2007            2019               11             0   \n",
       "\n",
       "       RTO_le  Insurance_Type_le  Price_N_F  Rating_N_b_F  Kilometers_N_F  \\\n",
       "0          10                  6  20.444317      8.336032      186.692260   \n",
       "1          26                  0  24.040101      9.285143      198.849189   \n",
       "2          26                  0  24.378381      9.778811      152.423751   \n",
       "3          14                  0  22.085038     10.285262      166.577309   \n",
       "4         642                  1  23.417094     10.285262      110.625494   \n",
       "...       ...                ...        ...           ...             ...   \n",
       "32153      72                  6  19.679897      5.792157      309.502827   \n",
       "32154     467                  6  22.360680      6.184724      233.463059   \n",
       "32155     191                  6  26.591479      6.589809      401.649101   \n",
       "32156     494                  5  27.831577     11.881603      228.048241   \n",
       "32157     494                  0  26.376146      7.437675      298.023489   \n",
       "\n",
       "       Owner_oe_N_F  Transmission_le_normalized  \n",
       "0          0.000000                    0.742591  \n",
       "1          1.000000                    0.742591  \n",
       "2          1.000000                    0.742591  \n",
       "3          0.000000                    0.742591  \n",
       "4          1.000000                    0.742591  \n",
       "...             ...                         ...  \n",
       "32153      1.414214                    0.742591  \n",
       "32154      1.000000                    0.742591  \n",
       "32155      1.000000                    0.742591  \n",
       "32156      0.000000                    0.742591  \n",
       "32157      1.000000                         NaN  \n",
       "\n",
       "[32158 rows x 11 columns]"
      ]
     },
     "execution_count": 651,
     "metadata": {},
     "output_type": "execute_result"
    }
   ],
   "source": [
    "df"
   ]
  },
  {
   "cell_type": "code",
   "execution_count": 652,
   "id": "8810cab5-b605-4108-912e-4da8bef8c971",
   "metadata": {},
   "outputs": [
    {
     "data": {
      "text/plain": [
       "Year_of_Purchase             -0.564410\n",
       "Insurance_year               -0.378136\n",
       "Insurance_month              -0.229056\n",
       "Fuel_type_le                  0.026217\n",
       "RTO_le                        0.010739\n",
       "Insurance_Type_le             0.100332\n",
       "Price_N_F                     0.355332\n",
       "Rating_N_b_F                 -0.029528\n",
       "Kilometers_N_F               -0.096247\n",
       "Owner_oe_N_F                  0.721891\n",
       "Transmission_le_normalized    0.000000\n",
       "dtype: float64"
      ]
     },
     "execution_count": 652,
     "metadata": {},
     "output_type": "execute_result"
    }
   ],
   "source": [
    "df.skew()"
   ]
  },
  {
   "cell_type": "code",
   "execution_count": 661,
   "id": "f87790ad-4fa7-4dac-a7e4-4f9963150dfa",
   "metadata": {},
   "outputs": [
    {
     "data": {
      "text/plain": [
       "(32158, 11)"
      ]
     },
     "execution_count": 661,
     "metadata": {},
     "output_type": "execute_result"
    }
   ],
   "source": [
    "df.shape"
   ]
  },
  {
   "cell_type": "code",
   "execution_count": 659,
   "id": "587079b9-326b-488d-a463-75333b343772",
   "metadata": {},
   "outputs": [
    {
     "data": {
      "text/plain": [
       "2722"
      ]
     },
     "execution_count": 659,
     "metadata": {},
     "output_type": "execute_result"
    }
   ],
   "source": [
    "df[\"Transmission_le_normalized\"].isnull().sum()"
   ]
  },
  {
   "cell_type": "code",
   "execution_count": 664,
   "id": "8109b6df-a426-4035-86c1-3de269139280",
   "metadata": {},
   "outputs": [],
   "source": [
    "df[\"Transmission_le_normalized\"] =df[\"Transmission_le_normalized\"].fillna(df[\"Transmission_le_normalized\"].mean())"
   ]
  },
  {
   "cell_type": "code",
   "execution_count": 665,
   "id": "983c26a5-655a-4016-9e1d-73c51922e86e",
   "metadata": {},
   "outputs": [],
   "source": [
    "df.to_csv(\"Car_Sales_Cleaned_Dataset.csv\",index = False)"
   ]
  },
  {
   "cell_type": "code",
   "execution_count": null,
   "id": "00ae1423-d941-4747-ac85-71cec8f8c82d",
   "metadata": {},
   "outputs": [],
   "source": []
  },
  {
   "cell_type": "code",
   "execution_count": null,
   "id": "2d968293-c839-4b08-82e9-5e8678c46c10",
   "metadata": {},
   "outputs": [],
   "source": []
  },
  {
   "cell_type": "code",
   "execution_count": null,
   "id": "f3d38b12-7db4-45fd-a9ec-1bf7599ce307",
   "metadata": {},
   "outputs": [],
   "source": []
  }
 ],
 "metadata": {
  "kernelspec": {
   "display_name": "Python 3 (ipykernel)",
   "language": "python",
   "name": "python3"
  },
  "language_info": {
   "codemirror_mode": {
    "name": "ipython",
    "version": 3
   },
   "file_extension": ".py",
   "mimetype": "text/x-python",
   "name": "python",
   "nbconvert_exporter": "python",
   "pygments_lexer": "ipython3",
   "version": "3.12.4"
  }
 },
 "nbformat": 4,
 "nbformat_minor": 5
}
